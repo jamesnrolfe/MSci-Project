{
 "cells": [
  {
   "cell_type": "code",
   "execution_count": null,
   "id": "5294de41",
   "metadata": {
    "vscode": {
     "languageId": "julia"
    }
   },
   "outputs": [],
   "source": [
    "using ITensors\n",
    "using Plots\n",
    "using Random\n",
    "using Statistics\n",
    "using LinearAlgebra"
   ]
  },
  {
   "cell_type": "code",
   "execution_count": null,
   "id": "447c709a",
   "metadata": {
    "vscode": {
     "languageId": "julia"
    }
   },
   "outputs": [],
   "source": [
    "\"\"\"\n",
    "Creates a random MPS for a spin-1/2 chain of length L.\n",
    "The initial state is antiferromagnetic, which helps DMRG converge.\n",
    "\"\"\"\n",
    "function create_MPS(L::Int)\n",
    "    sites = siteinds(\"S=1/2\", L)\n",
    "    # Start with an antiferromagnetic state \"|↑↓↑↓...⟩\"\n",
    "    initial_state = [isodd(i) ? \"Up\" : \"Dn\" for i in 1:L]\n",
    "    ψ₀ = randomMPS(sites, initial_state)\n",
    "    return ψ₀, sites\n",
    "end"
   ]
  },
  {
   "cell_type": "code",
   "execution_count": null,
   "id": "d2d4e4d8",
   "metadata": {
    "vscode": {
     "languageId": "julia"
    }
   },
   "outputs": [],
   "source": [
    "\"\"\"\n",
    "Creates a weighted adjacency matrix\n",
    "\"\"\"\n",
    "function create_weighted_adj_mat(N::Int, σ::Float64; μ::Float64=1.0)\n",
    "    if σ == 0.0\n",
    "        A = ones(Float64, N, N)\n",
    "        A -= Matrix{Float64}(I, N, N)\n",
    "        return A\n",
    "    end\n",
    "\n",
    "    A = zeros(Float64, N, N)\n",
    "    for i in 1:N, j in (i+1):N\n",
    "        weight = μ + σ * randn()\n",
    "        A[i, j] = A[j, i] = weight\n",
    "    end\n",
    "    return A\n",
    "end"
   ]
  },
  {
   "cell_type": "code",
   "execution_count": null,
   "id": "eb588a59",
   "metadata": {
    "vscode": {
     "languageId": "julia"
    }
   },
   "outputs": [],
   "source": [
    "\"\"\"\n",
    "Creates a weighted adjacency matrix\n",
    "\"\"\"\n",
    "function create_weighted_adj_mat(N::Int, σ::Float64; μ::Float64=1.0)\n",
    "    if σ == 0.0\n",
    "        A = ones(Float64, N, N)\n",
    "        A -= Matrix{Float64}(I, N, N)\n",
    "        return A\n",
    "    end\n",
    "\n",
    "    A = zeros(Float64, N, N)\n",
    "    for i in 1:N, j in (i+1):N\n",
    "        weight = μ + σ * randn()\n",
    "        A[i, j] = A[j, i] = weight\n",
    "    end\n",
    "    return A\n",
    "end"
   ]
  },
  {
   "cell_type": "code",
   "execution_count": null,
   "id": "ec5ed24c",
   "metadata": {
    "vscode": {
     "languageId": "julia"
    }
   },
   "outputs": [],
   "source": [
    "\"\"\"\n",
    "Creates the MPO for the XXZ Hamiltonian on a graph with weighted interactions.\n",
    "\"\"\"\n",
    "function create_weighted_xxz_mpo(N::Int, adj_mat, sites; J::Float64=1.0, Δ::Float64=1.0)\n",
    "    ampo = OpSum()\n",
    "    for i in 1:N-1\n",
    "        for j in i+1:N\n",
    "            coupling_strength = adj_mat[i, j]\n",
    "            if coupling_strength != 0.0\n",
    "                ampo += coupling_strength * (J / 2), \"S+\", i, \"S-\", j\n",
    "                ampo += coupling_strength * (J / 2), \"S-\", i, \"S+\", j\n",
    "                ampo += coupling_strength * (J * Δ), \"Sz\", i, \"Sz\", j\n",
    "            end\n",
    "        end\n",
    "    end\n",
    "    return MPO(ampo, sites)\n",
    "end"
   ]
  },
  {
   "cell_type": "code",
   "execution_count": null,
   "id": "72ffacd4",
   "metadata": {
    "vscode": {
     "languageId": "julia"
    }
   },
   "outputs": [],
   "source": [
    "\n",
    "function plot_bond_dim()\n",
    "\n",
    "    N_range = 10:1:75       # System sizes from 10 to 75 nodes\n",
    "    num_sweeps = 30         # Number of DMRG sweeps, as per the report\n",
    "    max_bond_dim = 200      # A high limit for the bond dimension during DMRG\n",
    "    cutoff = 1E-10          # Truncation error cutoff for DMRG\n",
    "\n",
    "    bond_dims = Float64[]\n",
    "\n",
    "    for N in N_range\n",
    "\n",
    "        ψ₀, sites = create_MPS(N)\n",
    "        adj_mat = create_weighted_adj_mat(N, 0.0) # Homogeneous graph\n",
    "        H_mpo = create_weighted_xxz_mpo(N, adj_mat, sites; J=1.0, Δ=1.5)\n",
    "\n",
    "        sweeps = Sweeps(num_sweeps)\n",
    "        setmaxdim!(sweeps, max_bond_dim)\n",
    "        setcutoff!(sweeps, cutoff)\n",
    "\n",
    "        # obs used to find max bond dim after last sweep\n",
    "        obs = DMRGObserver([\"MaxDim\"])\n",
    "        energy, ψ_gs = dmrg(H_mpo, ψ₀, sweeps; observer=obs, outputlevel=0)\n",
    "        \n",
    "        # maximum bond dimension of the final ground state MPS\n",
    "        final_bond_dim = maxlinkdim(ψ_gs)\n",
    "        push!(bond_dims, final_bond_dim)\n",
    "\n",
    "        println(\"Completed N = $N. Energy = $(round(energy, digits=4)), Max Bond Dim = $final_bond_dim\")\n",
    "    end\n",
    "\n",
    "    plt = plot(\n",
    "        title=\"Saturated Bond Dimension for an Average Graph with N Nodes\",\n",
    "        xlabel=\"Number of Nodes\",\n",
    "        ylabel=\"Average Bond Dimension Required\",\n",
    "        legend=false,\n",
    "        gridalpha=0.3,\n",
    "        framestyle=:box\n",
    "    )\n",
    "\n",
    "    plot!(plt, N_range, bond_dims,\n",
    "        lw=2,\n",
    "        marker=:circle,\n",
    "        markersize=4,\n",
    "        markerstrokecolor=:auto,\n",
    "        markercolor=:coral,\n",
    "        linecolor=:deepskyblue\n",
    "    )\n",
    "    \n",
    "    ylims!(plt, floor(Int, minimum(bond_dims))-1, ceil(Int, maximum(bond_dims))+1)\n",
    "\n",
    "    return plt\n",
    "end\n",
    "\n"
   ]
  },
  {
   "cell_type": "code",
   "execution_count": null,
   "id": "b3e49a46",
   "metadata": {
    "vscode": {
     "languageId": "julia"
    }
   },
   "outputs": [],
   "source": [
    "plt = reproduce_figure_8();\n",
    "display(plt)"
   ]
  }
 ],
 "metadata": {
  "language_info": {
   "name": "python"
  }
 },
 "nbformat": 4,
 "nbformat_minor": 5
}
