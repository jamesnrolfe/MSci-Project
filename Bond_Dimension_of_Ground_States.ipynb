{
 "cells": [
  {
   "cell_type": "code",
   "execution_count": 1,
   "id": "5294de41",
   "metadata": {},
   "outputs": [
    {
     "data": {
      "text/plain": [
       "\"I HAVENT TESTED THIS YET, THIS IS HERE TO PRODUCE GRAPH FIGURE 8 FROM THE REPORT\\n\\n\\n\""
      ]
     },
     "execution_count": 1,
     "metadata": {},
     "output_type": "execute_result"
    }
   ],
   "source": [
    "using ITensors\n",
    "using Plots\n",
    "using Random\n",
    "using Statistics\n",
    "using LinearAlgebra\n",
    "\n",
    "\n",
    "\"\"\"\n",
    "I HAVENT TESTED THIS YET, THIS IS HERE TO PRODUCE GRAPH FIGURE 8 FROM THE REPORT\n",
    "\n",
    "\n",
    "\"\"\""
   ]
  },
  {
   "cell_type": "code",
   "execution_count": 2,
   "id": "447c709a",
   "metadata": {},
   "outputs": [
    {
     "data": {
      "text/plain": [
       "create_MPS"
      ]
     },
     "execution_count": 2,
     "metadata": {},
     "output_type": "execute_result"
    }
   ],
   "source": [
    "\"\"\"\n",
    "Creates a random MPS for a spin-1/2 chain of length L.\n",
    "The initial state is antiferromagnetic, which helps DMRG converge.\n",
    "\"\"\"\n",
    "function create_MPS(L::Int)\n",
    "    sites = siteinds(\"S=1/2\", L)\n",
    "    # Start with an antiferromagnetic state \"|↑↓↑↓...⟩\"\n",
    "    initial_state = [isodd(i) ? \"Up\" : \"Dn\" for i in 1:L]\n",
    "    ψ₀ = randomMPS(sites, initial_state)\n",
    "    return ψ₀, sites\n",
    "end"
   ]
  },
  {
   "cell_type": "code",
   "execution_count": 3,
   "id": "d2d4e4d8",
   "metadata": {},
   "outputs": [
    {
     "data": {
      "text/plain": [
       "create_weighted_adj_mat"
      ]
     },
     "execution_count": 3,
     "metadata": {},
     "output_type": "execute_result"
    }
   ],
   "source": [
    "\"\"\"\n",
    "Creates a weighted adjacency matrix\n",
    "\"\"\"\n",
    "function create_weighted_adj_mat(N::Int, σ::Float64; μ::Float64=1.0)\n",
    "    if σ == 0.0\n",
    "        A = ones(Float64, N, N)\n",
    "        A -= Matrix{Float64}(I, N, N)\n",
    "        return A\n",
    "    end\n",
    "\n",
    "    A = zeros(Float64, N, N)\n",
    "    for i in 1:N, j in (i+1):N\n",
    "        weight = μ + σ * randn()\n",
    "        A[i, j] = A[j, i] = weight\n",
    "    end\n",
    "    return A\n",
    "end"
   ]
  },
  {
   "cell_type": "code",
   "execution_count": 4,
   "id": "eb588a59",
   "metadata": {},
   "outputs": [
    {
     "data": {
      "text/plain": [
       "create_weighted_adj_mat"
      ]
     },
     "execution_count": 4,
     "metadata": {},
     "output_type": "execute_result"
    }
   ],
   "source": [
    "\"\"\"\n",
    "Creates a weighted adjacency matrix\n",
    "\"\"\"\n",
    "function create_weighted_adj_mat(N::Int, σ::Float64; μ::Float64=1.0)\n",
    "    if σ == 0.0\n",
    "        A = ones(Float64, N, N)\n",
    "        A -= Matrix{Float64}(I, N, N)\n",
    "        return A\n",
    "    end\n",
    "\n",
    "    A = zeros(Float64, N, N)\n",
    "    for i in 1:N, j in (i+1):N\n",
    "        weight = μ + σ * randn()\n",
    "        A[i, j] = A[j, i] = weight\n",
    "    end\n",
    "    return A\n",
    "end"
   ]
  },
  {
   "cell_type": "code",
   "execution_count": 5,
   "id": "ec5ed24c",
   "metadata": {},
   "outputs": [
    {
     "data": {
      "text/plain": [
       "create_weighted_xxz_mpo"
      ]
     },
     "execution_count": 5,
     "metadata": {},
     "output_type": "execute_result"
    }
   ],
   "source": [
    "\"\"\"\n",
    "Creates the MPO for the XXZ Hamiltonian on a graph with weighted interactions.\n",
    "\"\"\"\n",
    "function create_weighted_xxz_mpo(N::Int, adj_mat, sites; J::Float64=1.0, Δ::Float64=1.0)\n",
    "    ampo = OpSum()\n",
    "    for i in 1:N-1\n",
    "        for j in i+1:N\n",
    "            coupling_strength = adj_mat[i, j]\n",
    "            if coupling_strength != 0.0\n",
    "                ampo += coupling_strength * (J / 2), \"S+\", i, \"S-\", j\n",
    "                ampo += coupling_strength * (J / 2), \"S-\", i, \"S+\", j\n",
    "                ampo += coupling_strength * (J * Δ), \"Sz\", i, \"Sz\", j\n",
    "            end\n",
    "        end\n",
    "    end\n",
    "    return MPO(ampo, sites)\n",
    "end"
   ]
  },
  {
   "cell_type": "code",
   "execution_count": 6,
   "id": "72ffacd4",
   "metadata": {},
   "outputs": [
    {
     "data": {
      "text/plain": [
       "plot_bond_dim (generic function with 1 method)"
      ]
     },
     "execution_count": 6,
     "metadata": {},
     "output_type": "execute_result"
    }
   ],
   "source": [
    "\n",
    "function plot_bond_dim()\n",
    "\n",
    "    N_range = 10:1:75       # System sizes from 10 to 75 nodes\n",
    "    num_sweeps = 30         # Number of DMRG sweeps, as per the report\n",
    "    max_bond_dim = 200      # A high limit for the bond dimension during DMRG\n",
    "    cutoff = 1E-10          # Truncation error cutoff for DMRG\n",
    "\n",
    "    bond_dims = Float64[]\n",
    "\n",
    "    for N in N_range\n",
    "\n",
    "        ψ₀, sites = create_MPS(N)\n",
    "        adj_mat = create_weighted_adj_mat(N, 0.0) # Homogeneous graph\n",
    "        H_mpo = create_weighted_xxz_mpo(N, adj_mat, sites; J=1.0, Δ=1.5)\n",
    "\n",
    "        sweeps = Sweeps(num_sweeps)\n",
    "        setmaxdim!(sweeps, max_bond_dim)\n",
    "        setcutoff!(sweeps, cutoff)\n",
    "\n",
    "        # obs used to find max bond dim after last sweep\n",
    "        obs = DMRGObserver([\"MaxDim\"])\n",
    "        energy, ψ_gs = dmrg(H_mpo, ψ₀, sweeps; observer=obs, outputlevel=0)\n",
    "        \n",
    "        # maximum bond dimension of the final ground state MPS\n",
    "        final_bond_dim = maxlinkdim(ψ_gs)\n",
    "        push!(bond_dims, final_bond_dim)\n",
    "\n",
    "        println(\"Completed N = $N. Energy = $(round(energy, digits=4)), Max Bond Dim = $final_bond_dim\")\n",
    "    end\n",
    "\n",
    "    plt = plot(\n",
    "        title=\"Saturated Bond Dimension for an Average Graph with N Nodes\",\n",
    "        xlabel=\"Number of Nodes\",\n",
    "        ylabel=\"Average Bond Dimension Required\",\n",
    "        legend=false,\n",
    "        gridalpha=0.3,\n",
    "        framestyle=:box\n",
    "    )\n",
    "\n",
    "    plot!(plt, N_range, bond_dims,\n",
    "        lw=2,\n",
    "        marker=:circle,\n",
    "        markersize=4,\n",
    "        markerstrokecolor=:auto,\n",
    "        markercolor=:coral,\n",
    "        linecolor=:deepskyblue\n",
    "    )\n",
    "    \n",
    "    ylims!(plt, floor(Int, minimum(bond_dims))-1, ceil(Int, maximum(bond_dims))+1)\n",
    "\n",
    "    return plt\n",
    "end\n",
    "\n"
   ]
  },
  {
   "cell_type": "code",
   "execution_count": 7,
   "id": "b3e49a46",
   "metadata": {},
   "outputs": [
    {
     "ename": "LoadError",
     "evalue": "UndefVarError: `siteinds` not defined in `Main`\nSuggestion: check for spelling errors or missing imports.",
     "output_type": "error",
     "traceback": [
      "UndefVarError: `siteinds` not defined in `Main`\nSuggestion: check for spelling errors or missing imports.",
      "",
      "Stacktrace:",
      " [1] \u001b[0m\u001b[1mcreate_MPS\u001b[22m\u001b[0m\u001b[1m(\u001b[22m\u001b[90mL\u001b[39m::\u001b[0mInt64\u001b[0m\u001b[1m)\u001b[22m",
      "\u001b[90m   @\u001b[39m \u001b[35mMain\u001b[39m \u001b[90m.\\\u001b[39m\u001b[90m\u001b[4mIn[2]:6\u001b[24m\u001b[39m",
      " [2] \u001b[0m\u001b[1mplot_bond_dim\u001b[22m\u001b[0m\u001b[1m(\u001b[22m\u001b[0m\u001b[1m)\u001b[22m",
      "\u001b[90m   @\u001b[39m \u001b[35mMain\u001b[39m \u001b[90m.\\\u001b[39m\u001b[90m\u001b[4mIn[6]:13\u001b[24m\u001b[39m",
      " [3] top-level scope",
      "\u001b[90m   @\u001b[39m \u001b[90m\u001b[4mIn[7]:1\u001b[24m\u001b[39m"
     ]
    }
   ],
   "source": [
    "plt = plot_bond_dim();\n",
    "display(plt)"
   ]
  }
 ],
 "metadata": {
  "kernelspec": {
   "display_name": "Julia 1.11.7",
   "language": "julia",
   "name": "julia-1.11"
  },
  "language_info": {
   "file_extension": ".jl",
   "mimetype": "application/julia",
   "name": "julia",
   "version": "1.11.7"
  }
 },
 "nbformat": 4,
 "nbformat_minor": 5
}
