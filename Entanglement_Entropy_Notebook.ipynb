{
 "cells": [
  {
   "cell_type": "code",
   "execution_count": 10,
   "id": "ab2fbab0",
   "metadata": {},
   "outputs": [],
   "source": [
    "using ITensors\n",
    "using Plots\n",
    "using LinearAlgebra \n",
    "using LaTeXStrings\n"
   ]
  },
  {
   "cell_type": "code",
   "execution_count": 2,
   "id": "a2bc59aa",
   "metadata": {},
   "outputs": [
    {
     "data": {
      "text/plain": [
       "generate_entangled_matrix"
      ]
     },
     "execution_count": 2,
     "metadata": {},
     "output_type": "execute_result"
    }
   ],
   "source": [
    "# --- 1. Adjacency Matrix Definitions (Used to define MPO couplings) ---\n",
    "\n",
    "\"\"\"\n",
    "    generate_linear_matrix(N::Int)\n",
    "\n",
    "Generates an adjacency matrix for an open 1D chain of N nodes (nearest-neighbor\n",
    "coupling only, no closed loop/periodic boundary conditions).\n",
    "\"\"\"\n",
    "function generate_linear_matrix(N::Int)\n",
    "    A = zeros(N, N)\n",
    "    for i in 1:N-1\n",
    "        A[i, i+1] = 1.0\n",
    "        A[i+1, i] = 1.0\n",
    "    end\n",
    "    return A\n",
    "end\n",
    "\n",
    "\"\"\"\n",
    "    generate_entangled_matrix(N::Int)\n",
    "\n",
    "Generates an adjacency matrix for a fully connected (entangled) graph of N nodes\n",
    "(all nodes coupled to all others).\n",
    "\"\"\"\n",
    "function generate_entangled_matrix(N::Int)\n",
    "    A = ones(N, N)\n",
    "    A -= Matrix{Float64}(I, N, N) # Set diagonal to zero (no self-coupling)\n",
    "    return A\n",
    "end"
   ]
  },
  {
   "cell_type": "code",
   "execution_count": 3,
   "id": "1df951e7",
   "metadata": {},
   "outputs": [
    {
     "data": {
      "text/plain": [
       "make_XXZ_MPO"
      ]
     },
     "execution_count": 3,
     "metadata": {},
     "output_type": "execute_result"
    }
   ],
   "source": [
    "# --- 2. Hamiltonian Construction as an MPO ---\n",
    "\n",
    "\"\"\"\n",
    "    make_XXZ_MPO(sites, J::Float64, Delta::Float64, A::Matrix{Float64})\n",
    "\n",
    "Constructs the XXZ Hamiltonian as a Matrix Product Operator (MPO) based on\n",
    "the adjacency matrix A. This uses ITensors' convenient OpSum system.\n",
    "H = J * sum_{i<j} A_{ij} * (S_i^x S_j^x + S_i^y S_j^y + Delta * S_i^z S_j^z)\n",
    "\"\"\"\n",
    "function make_XXZ_MPO(sites, J::Float64, Delta::Float64, A::Matrix{Float64})\n",
    "    N = length(sites)\n",
    "    os = OpSum()\n",
    "\n",
    "    # Iterate over all unique pairs (i, j) where i < j\n",
    "    for i in 1:N\n",
    "        for j in (i+1):N\n",
    "            if A[i, j] != 0.0 # Only consider coupled sites\n",
    "                coeff = J * A[i, j]\n",
    "                \n",
    "                # S_i^x S_j^x + S_i^y S_j^y (XX+YY part)\n",
    "                os += coeff, \"Sx\", i, \"Sx\", j\n",
    "                os += coeff, \"Sy\", i, \"Sy\", j\n",
    "\n",
    "                # Delta * S_i^z S_j^z (ZZ part)\n",
    "                os += coeff * Delta, \"Sz\", i, \"Sz\", j\n",
    "            end\n",
    "        end\n",
    "    end\n",
    "    \n",
    "    return MPO(os, sites)\n",
    "end"
   ]
  },
  {
   "cell_type": "code",
   "execution_count": 5,
   "id": "d1bd0cc8",
   "metadata": {},
   "outputs": [
    {
     "data": {
      "text/plain": [
       "calculate_bipartite_entropy"
      ]
     },
     "execution_count": 5,
     "metadata": {},
     "output_type": "execute_result"
    }
   ],
   "source": [
    "# --- 3. Entanglement Entropy Calculation from MPS ---\n",
    "\n",
    "\"\"\"\n",
    "    calculate_bipartite_entropy(psi::MPS, N::Int)\n",
    "\n",
    "Calculates the Bipartite Entanglement Entropy (Von Neumann Entropy) of the MPS\n",
    "ground state psi, partitioned exactly at the middle (N/2).\n",
    "\n",
    "S = -Tr(rho_A log2(rho_A)), derived from the Schmidt coefficients (singular values)\n",
    "across the partition cut.\n",
    "\"\"\"\n",
    "function calculate_bipartite_entropy(psi, N::Int)\n",
    "    L = N ÷ 2 # Midpoint partition\n",
    "\n",
    "    # Orthogonalize the MPS to the bond L to L+1. This prepares the state\n",
    "    # such that the singular values of the partition are ready to be extracted.\n",
    "    orthogonalize!(psi, L) \n",
    "    \n",
    "    # Get the singular values (Schmidt coefficients) from the bond between L and L+1\n",
    "    # svdvals is a highly optimized function in ITensors for this purpose\n",
    "    s_vals = svdvals(psi[L])\n",
    "    \n",
    "    # Calculate probabilities (Schmidt coefficients squared)\n",
    "    probabilities = s_vals.^2\n",
    "    probabilities = probabilities / sum(probabilities) # Normalize (safety check)\n",
    "\n",
    "    # Calculate Von Neumann Entropy: S = -sum(p * log2(p))\n",
    "    entropy = 0.0\n",
    "    for p in probabilities\n",
    "        if p > 1e-12 # Avoid log(0)\n",
    "            entropy -= p * log2(p)\n",
    "        end\n",
    "    end\n",
    "\n",
    "    return entropy\n",
    "end"
   ]
  },
  {
   "cell_type": "code",
   "execution_count": 8,
   "id": "2fc9b67c",
   "metadata": {},
   "outputs": [
    {
     "ename": "LoadError",
     "evalue": "LoadError: UndefVarError: `@L_str` not defined in `Main`\nSuggestion: check for spelling errors or missing imports.\nin expression starting at In[8]:68",
     "output_type": "error",
     "traceback": [
      "LoadError: UndefVarError: `@L_str` not defined in `Main`\nSuggestion: check for spelling errors or missing imports.\nin expression starting at In[8]:68",
      ""
     ]
    }
   ],
   "source": [
    "# --- 4. Main Simulation and Plotting ---\n",
    "\n",
    "function run_dmrg_simulation_and_plot(; N_max=10, J=1.0)\n",
    "    # Define the range of the anisotropy parameter Delta (matches Figure 7 range)\n",
    "    Delta_range = -2.0:0.05:2.0\n",
    "    num_deltas = length(Delta_range)\n",
    "\n",
    "    # Initialize storage for entanglement entropy results\n",
    "    linear_entropy = zeros(num_deltas)\n",
    "    entangled_entropy = zeros(num_deltas)\n",
    "\n",
    "    # --- 4.1 Setup for N = 10 ---\n",
    "    N = N_max\n",
    "    \n",
    "    # Define the physical degrees of freedom (S=1/2 spins)\n",
    "    sites = siteinds(\"S=1/2\", N)\n",
    "    \n",
    "    # Define DMRG parameters (sweeps, max bond dimension, and cutoff)\n",
    "    sweeps = Sweeps(10) # Number of sweeps (passes) for the DMRG algorithm\n",
    "    \n",
    "    # Gradually increase maxdim for better accuracy\n",
    "    # Fully connected graphs require a higher bond dimension than 1D chains.\n",
    "    setmaxdim!(sweeps, 10, 20, 40, 60, 100, 150, 200, 300, 300) \n",
    "    setcutoff!(sweeps, 1e-10) # Truncation error cutoff\n",
    "\n",
    "    println(\"Starting DMRG calculation for N=$N...\")\n",
    "\n",
    "    # --- 4.2 Loop over Delta values ---\n",
    "    for (k, Delta) in enumerate(Delta_range)\n",
    "        # --- Linear Graph ---\n",
    "        A_linear = generate_linear_matrix(N)\n",
    "        H_linear = make_XXZ_MPO(sites, J, Delta, A_linear)\n",
    "        \n",
    "        # Initial random MPS (bond dimension 10 for initialization)\n",
    "        psi0_linear = randomMPS(sites, 10) \n",
    "        \n",
    "        # Run DMRG\n",
    "        energy_linear, psi_linear = dmrg(H_linear, psi0_linear, sweeps, outputlevel=0)\n",
    "        \n",
    "        # Calculate Entropy\n",
    "        linear_entropy[k] = calculate_bipartite_entropy(psi_linear, N)\n",
    "\n",
    "        # --- Entangled (Fully Connected) Graph ---\n",
    "        A_entangled = generate_entangled_matrix(N)\n",
    "        # NOTE: Building MPOs for fully connected long-range interactions is much\n",
    "        # slower and less efficient than for 1D chains, but necessary here.\n",
    "        H_entangled = make_XXZ_MPO(sites, J, Delta, A_entangled)\n",
    "        \n",
    "        psi0_entangled = randomMPS(sites, 10) \n",
    "        \n",
    "        # Run DMRG\n",
    "        energy_entangled, psi_entangled = dmrg(H_entangled, psi0_entangled, sweeps, outputlevel=0)\n",
    "        \n",
    "        # Calculate Entropy\n",
    "        entangled_entropy[k] = calculate_bipartite_entropy(psi_entangled, N)\n",
    "        \n",
    "        print(\"Completed Delta: $Delta \\r\")\n",
    "    end\n",
    "    println(\"\\nCalculation complete.\")\n",
    "\n",
    "    # --- 4.3 Plotting (Replicate Figure 7) ---\n",
    "\n",
    "    p = plot(Delta_range, linear_entropy,\n",
    "             label=\"Linear Chain (N=$N)\",\n",
    "             linewidth=3,\n",
    "             linecolor=:blue,\n",
    "             title=\"Ground State Entanglement Entropy (DMRG, XXZ Model)\",\n",
    "             xlabel=L\"Anisotropy Parameter $\\Delta$\",\n",
    "             ylabel=L\"Bipartite Entanglement Entropy \\$S_L\\$ (bits)\",\n",
    "             legend=:topright,\n",
    "             grid=true,\n",
    "             minorgrid=true,\n",
    "             fontfamily=\"Times\",\n",
    "             dpi=300)\n",
    "\n",
    "    plot!(p, Delta_range, entangled_entropy,\n",
    "          label=\"Entangled/Fully Connected (N=$N)\",\n",
    "          linewidth=3,\n",
    "          linecolor=:red)\n",
    "\n",
    "    display(p)\n",
    "\n",
    "    return p\n",
    "end\n",
    "\n",
    "# Execute the simulation and plotting function\n",
    "run_dmrg_simulation_and_plot(N_max=10)\n"
   ]
  }
 ],
 "metadata": {
  "kernelspec": {
   "display_name": "Julia 1.11.7",
   "language": "julia",
   "name": "julia-1.11"
  },
  "language_info": {
   "file_extension": ".jl",
   "mimetype": "application/julia",
   "name": "julia",
   "version": "1.11.7"
  }
 },
 "nbformat": 4,
 "nbformat_minor": 5
}
