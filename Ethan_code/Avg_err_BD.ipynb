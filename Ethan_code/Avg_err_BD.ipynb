{
 "cells": [
  {
   "cell_type": "code",
   "execution_count": null,
   "id": "e672a17e",
   "metadata": {},
   "outputs": [],
   "source": [
    "using Markdown\n",
    "using InteractiveUtils\n",
    "using Statistics\n",
    "using Graphs, Random, GraphPlot, Plots, Colors, GraphRecipes\n",
    "using ITensors, ITensorMPS, LinearAlgebra\n",
    "using JLD2 \n"
   ]
  },
  {
   "cell_type": "code",
   "execution_count": 2,
   "id": "ecd3028a",
   "metadata": {},
   "outputs": [
    {
     "data": {
      "text/plain": [
       "create_MPS (generic function with 1 method)"
      ]
     },
     "metadata": {},
     "output_type": "display_data"
    }
   ],
   "source": [
    "\n",
    "\n",
    "\n",
    "\n",
    "\n",
    "function create_MPS(L::Int)\n",
    "    sites = siteinds(\"S=1/2\", L; conserve_qns=true)\n",
    "    initial_state = [isodd(i) ? \"Up\" : \"Dn\" for i in 1:L]\n",
    "    ψ₀ = randomMPS(sites, initial_state)\n",
    "    return ψ₀, sites\n",
    "end\n",
    "\n",
    "\n"
   ]
  },
  {
   "cell_type": "code",
   "execution_count": 3,
   "id": "3c0706e7",
   "metadata": {},
   "outputs": [
    {
     "data": {
      "text/plain": [
       "create_weighted_adj_mat"
      ]
     },
     "metadata": {},
     "output_type": "display_data"
    }
   ],
   "source": [
    "\"\"\"\n",
    "Creates a weighted adjacency matrix for a completely connected graph.\n",
    "\"\"\"\n",
    "function create_weighted_adj_mat(N::Int, σ::Float64; μ::Float64=1.0)\n",
    "    if σ == 0.0\n",
    "        A = ones(Float64, N, N)\n",
    "        A -= Matrix{Float64}(I, N, N)\n",
    "        return A\n",
    "    end\n",
    "    A = zeros(Float64, N, N)\n",
    "    for i in 1:N, j in (i+1):N\n",
    "        weight = μ + σ * randn()\n",
    "        A[i, j] = A[j, i] = weight\n",
    "    end\n",
    "    return A\n",
    "end"
   ]
  },
  {
   "cell_type": "code",
   "execution_count": 4,
   "id": "c3b89062",
   "metadata": {},
   "outputs": [
    {
     "data": {
      "text/plain": [
       "create_weighted_xxz_mpo"
      ]
     },
     "metadata": {},
     "output_type": "display_data"
    }
   ],
   "source": [
    "\"\"\"\n",
    "Creates the MPO for the XXZ Hamiltonian on a graph with weighted interactions.\n",
    "\"\"\"\n",
    "function create_weighted_xxz_mpo(N::Int, adj_mat, sites; J::Float64, Δ::Float64)\n",
    "    ampo = OpSum()\n",
    "    for i in 1:N-1\n",
    "        for j in i+1:N\n",
    "            coupling_strength = adj_mat[i, j]\n",
    "            if coupling_strength != 0.0\n",
    "                ampo += coupling_strength * (J / 2), \"S+\", i, \"S-\", j\n",
    "                ampo += coupling_strength * (J / 2), \"S-\", i, \"S+\", j\n",
    "                ampo += coupling_strength * (J * Δ), \"Sz\", i, \"Sz\", j\n",
    "            end\n",
    "        end\n",
    "    end\n",
    "    return MPO(ampo, sites)\n",
    "end"
   ]
  },
  {
   "cell_type": "code",
   "execution_count": 5,
   "id": "7ebf3765",
   "metadata": {},
   "outputs": [
    {
     "data": {
      "text/plain": [
       "bond_dim_av_err (generic function with 1 method)"
      ]
     },
     "metadata": {},
     "output_type": "display_data"
    }
   ],
   "source": [
    "\n",
    "function bond_dim_av_err()\n",
    "    N_range = 10:1:75\n",
    "    sigma_values = [0.0, 0.001, 0.002]\n",
    "    num_graphs_avg = 10\n",
    "    num_sweeps = 30\n",
    "    max_bond_dim_limit = 250\n",
    "    cutoff = 1E-10\n",
    "    μ = 1.0\n",
    "\n",
    "    results = Dict(σ => (avg=Float64[], err=Float64[]) for σ in sigma_values)\n",
    "\n",
    "    for N in N_range\n",
    "        for σ in sigma_values\n",
    "            bond_dims_for_avg = Float64[]\n",
    "            for _ in 1:num_graphs_avg\n",
    "                ψ₀, sites = create_MPS(N)\n",
    "                adj_mat = create_weighted_adj_mat(N, σ; μ=μ)\n",
    "                H_mpo = create_weighted_xxz_mpo(N, adj_mat, sites; J=-0.5, Δ=0.5)\n",
    "\n",
    "                sweeps = Sweeps(num_sweeps)\n",
    "                setmaxdim!(sweeps, max_bond_dim_limit)\n",
    "                setcutoff!(sweeps, cutoff)\n",
    "\n",
    "                _, ψ_gs = dmrg(H_mpo, ψ₀, sweeps; outputlevel=0)\n",
    "                push!(bond_dims_for_avg, maxlinkdim(ψ_gs))\n",
    "            end\n",
    "\n",
    "            avg_dim = mean(bond_dims_for_avg)\n",
    "            std_dev = std(bond_dims_for_avg)\n",
    "            \n",
    "            push!(results[σ].avg, avg_dim)\n",
    "            push!(results[σ].err, std_dev)\n",
    "            println(\"Completed N = $N, Max Bond Dim = $avg_dim\")\n",
    "\n",
    "        end\n",
    "    end\n",
    "    println(\"...calculations finished.\")\n",
    "\n",
    "    plt = plot(\n",
    "        title=\"Saturated Bond Dimension for an Average Graph with N Nodes\",\n",
    "        xlabel=\"Number of Nodes\",\n",
    "        ylabel=\"Average Bond Dimension Required\",\n",
    "        legend=:topleft,\n",
    "        gridalpha=0.3,\n",
    "        framestyle=:box\n",
    "    )\n",
    "\n",
    "    colors = Dict(0.0 => :gold, 0.001 => :darkviolet, 0.002 => :firebrick)\n",
    "\n",
    "    for σ in sigma_values\n",
    "        plot!(plt, N_range, results[σ].avg,\n",
    "            yerror=results[σ].err,\n",
    "            label=\"σ = $σ\",\n",
    "            lw=1.5,\n",
    "            marker=:circle,\n",
    "            markersize=3,\n",
    "            color=colors[σ]\n",
    "        )\n",
    "    end\n",
    "    \n",
    "    return plt, results, N_range\n",
    "end\n"
   ]
  },
  {
   "cell_type": "code",
   "execution_count": null,
   "id": "d3131609",
   "metadata": {},
   "outputs": [
    {
     "name": "stdout",
     "output_type": "stream",
     "text": [
      "Completed N = 10, Max Bond Dim = 6.0\n",
      "Completed N = 10, Max Bond Dim = 12.4\n",
      "Completed N = 10, Max Bond Dim = 18.0"
     ]
    }
   ],
   "source": [
    "plt, results, N_range = bond_dim_av_err();\n",
    "\n",
    "filename = \"avg_err_bond_dim.jld2\"\n",
    "jldsave(filename; results, N_range)\n",
    "println(\"Data saved successfully.\\n\")\n",
    "\n",
    "\n",
    "\n",
    "\n",
    "\n",
    "\n"
   ]
  },
  {
   "cell_type": "code",
   "execution_count": null,
   "id": "8e75ed26",
   "metadata": {},
   "outputs": [],
   "source": [
    "unction load_data_and_plot(filename)\n",
    "    println(\"Loading data from $filename...\")\n",
    "    if !isfile(filename)\n",
    "        println(\"Error: Data file '$filename' not found\")\n",
    "        return nothing\n",
    "    end\n",
    "    \n",
    "    # Load the data from the JLD2 file\n",
    "    data = load(filename)\n",
    "    avg_bond_dims = data[\"results\"]\n",
    "    N_range = data[\"N_range\"]\n",
    "\n",
    "    N_values = collect(N_range)\n",
    "\n",
    "    plotlyjs() # Ensure plotting backend is active\n",
    "    \n",
    "    colors = Dict(0.0 => :gold, 0.001 => :darkviolet, 0.002 => :firebrick)\n",
    "\n",
    "    for σ in sigma_values\n",
    "        plot!(plt, N_range, results[σ].avg,\n",
    "            yerror=results[σ].err,\n",
    "            label=\"σ = $σ\",\n",
    "            lw=1.5,\n",
    "            marker=:circle,\n",
    "            markersize=3,\n",
    "            color=colors[σ]\n",
    "        )\n",
    "    end\n",
    "    \n",
    "    return plt\n",
    "end"
   ]
  },
  {
   "cell_type": "code",
   "execution_count": null,
   "id": "cf4a34cc",
   "metadata": {},
   "outputs": [],
   "source": [
    "println(\"--- Loading and Plotting from File ---\")\n",
    "plt = load_data_and_plot(filename)\n",
    "if plt !== nothing\n",
    "    display(plt)\n",
    "end"
   ]
  },
  {
   "cell_type": "code",
   "execution_count": null,
   "id": "e5398f90",
   "metadata": {},
   "outputs": [],
   "source": []
  },
  {
   "cell_type": "code",
   "execution_count": null,
   "id": "743c3aea",
   "metadata": {},
   "outputs": [],
   "source": []
  },
  {
   "cell_type": "code",
   "execution_count": null,
   "id": "0bf3bf3c",
   "metadata": {},
   "outputs": [],
   "source": []
  },
  {
   "cell_type": "code",
   "execution_count": null,
   "id": "acec9422",
   "metadata": {},
   "outputs": [],
   "source": []
  }
 ],
 "metadata": {
  "kernelspec": {
   "display_name": "Julia 1.11.7",
   "language": "julia",
   "name": "julia-1.11"
  },
  "language_info": {
   "file_extension": ".jl",
   "mimetype": "application/julia",
   "name": "julia",
   "version": "1.11.7"
  }
 },
 "nbformat": 4,
 "nbformat_minor": 5
}
