{
 "cells": [
  {
   "cell_type": "code",
   "execution_count": 6,
   "id": "0b379433",
   "metadata": {},
   "outputs": [
    {
     "data": {
      "text/plain": [
       "0.9996509746748455"
      ]
     },
     "execution_count": 6,
     "metadata": {},
     "output_type": "execute_result"
    }
   ],
   "source": [
    "import Random, Markdown\n",
    "\n",
    "σ  = 0.002\n",
    "weight = 1 + σ * randn() "
   ]
  }
 ],
 "metadata": {
  "kernelspec": {
   "display_name": "Julia 1.11.7",
   "language": "julia",
   "name": "julia-1.11"
  },
  "language_info": {
   "file_extension": ".jl",
   "mimetype": "application/julia",
   "name": "julia",
   "version": "1.11.7"
  }
 },
 "nbformat": 4,
 "nbformat_minor": 5
}
