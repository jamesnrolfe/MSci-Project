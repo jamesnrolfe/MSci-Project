{
 "cells": [
  {
   "cell_type": "code",
   "execution_count": null,
   "id": "e672a17e",
   "metadata": {},
   "outputs": [],
   "source": [
    "using Markdown\n",
    "using InteractiveUtils\n",
    "using Graphs, Random, GraphPlot, Plots, Colors, GraphRecipes\n",
    "using ITensors, ITensorMPS, LinearAlgebra"
   ]
  },
  {
   "cell_type": "code",
   "execution_count": null,
   "id": "df7cfef6",
   "metadata": {},
   "outputs": [],
   "source": [
    "\n",
    "function adj_mat_lin(N::Int)\n",
    "    A = zeros(N, N)\n",
    "    for i in 1:N-1\n",
    "        A[i, i+1] = 1.0\n",
    "        A[i+1, i] = 1.0\n",
    "    end\n",
    "    return A\n",
    "end\n",
    "\n",
    "function adj_mat_ent(N::Int)\n",
    "    A = ones(N, N)\n",
    "    A -= Matrix{Float64}(I, N, N) # Set diagonal to zero (no self-coupling)\n",
    "    return A\n",
    "end\n",
    "\n",
    "\n"
   ]
  },
  {
   "cell_type": "code",
   "execution_count": null,
   "id": "ca9361b7",
   "metadata": {},
   "outputs": [],
   "source": [
    "adjmat = adj_mat_lin(5)\n",
    "println(adjmat)\n",
    "\n",
    "\n",
    "G = Graphs.SimpleGraph(adjmat)\n",
    "N = size(adjmat, 1)\n",
    "\n",
    "node_labels = [string(i) for i in 1:N]\n",
    "\n",
    "p = GraphPlot.gplot(\n",
    "    G, \n",
    "    layout=circular_layout,\n",
    "    nodelabel=node_labels,\n",
    "    nodesize=0.3,\n",
    "    nodelabelsize=3,\n",
    "    edgelinewidth=2.0,\n",
    ") \n",
    "display(p)"
   ]
  },
  {
   "cell_type": "code",
   "execution_count": null,
   "id": "2649b60c",
   "metadata": {},
   "outputs": [],
   "source": [
    "adjmat = adj_mat_ent(5)\n",
    "println(adjmat)\n",
    "\n",
    "\n",
    "G = Graphs.SimpleGraph(adjmat)\n",
    "N = size(adjmat, 1)\n",
    "\n",
    "node_labels = [string(i) for i in 1:N]\n",
    "\n",
    "p = GraphPlot.gplot(\n",
    "    G, \n",
    "    layout=circular_layout,\n",
    "    nodelabel=node_labels,\n",
    "    nodesize=0.3,\n",
    "    nodelabelsize=3,\n",
    "    edgelinewidth=2.0,\n",
    ") \n",
    "display(p)"
   ]
  }
 ],
 "metadata": {
  "kernelspec": {
   "display_name": "Julia 1.11.7",
   "language": "julia",
   "name": "julia-1.11"
  },
  "language_info": {
   "file_extension": ".jl",
   "mimetype": "application/julia",
   "name": "julia",
   "version": "1.11.7"
  }
 },
 "nbformat": 4,
 "nbformat_minor": 5
}
