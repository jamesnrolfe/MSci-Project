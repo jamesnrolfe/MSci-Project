{
 "cells": [
  {
   "cell_type": "code",
   "execution_count": null,
   "id": "4a8fb86a",
   "metadata": {
    "vscode": {
     "languageId": "julia"
    }
   },
   "outputs": [],
   "source": [
    "\n",
    "using Markdown\n",
    "using InteractiveUtils\n",
    "using Graphs, Random, Statistics\n",
    "using Plots, Colors\n",
    "using ITensors, ITensorMPS, LinearAlgebra\n",
    "\n",
    "# seed for reproducibility\n",
    "Random.seed!(1234);\n",
    "\n"
   ]
  },
  {
   "cell_type": "code",
   "execution_count": null,
   "id": "da0ac199",
   "metadata": {
    "vscode": {
     "languageId": "julia"
    }
   },
   "outputs": [],
   "source": [
    "\n",
    "function create_MPS(L::Int)\n",
    "    sites = siteinds(\"S=1/2\", L; conserve_qns=true)\n",
    "    initial_state = [isodd(i) ? \"Up\" : \"Dn\" for i in 1:L]\n",
    "    ψ₀ = randomMPS(sites, initial_state)\n",
    "    return ψ₀, sites\n",
    "end\n",
    "\n"
   ]
  },
  {
   "cell_type": "code",
   "execution_count": null,
   "id": "aaf0aed0",
   "metadata": {
    "vscode": {
     "languageId": "julia"
    }
   },
   "outputs": [],
   "source": [
    "\"\"\"\n",
    "Creates a weighted adjacency matrix for a completely connected graph.\n",
    "\"\"\"\n",
    "function create_weighted_adj_mat(N::Int, σ::Float64; μ::Float64=1.0)\n",
    "    if σ == 0.0\n",
    "        A = ones(Float64, N, N)\n",
    "        A -= Matrix{Float64}(I, N, N)\n",
    "        return A\n",
    "    end\n",
    "    A = zeros(Float64, N, N)\n",
    "    for i in 1:N, j in (i+1):N\n",
    "        weight = μ + σ * randn()\n",
    "        A[i, j] = A[j, i] = weight\n",
    "    end\n",
    "    return A\n",
    "end"
   ]
  },
  {
   "cell_type": "code",
   "execution_count": null,
   "id": "66b6c574",
   "metadata": {
    "vscode": {
     "languageId": "julia"
    }
   },
   "outputs": [],
   "source": [
    "\"\"\"\n",
    "Creates the MPO for the XXZ Hamiltonian on a graph with weighted interactions.\n",
    "\"\"\"\n",
    "function create_weighted_xxz_mpo(N::Int, adj_mat, sites; J::Float64, Δ::Float64)\n",
    "    ampo = OpSum()\n",
    "    for i in 1:N-1\n",
    "        for j in i+1:N\n",
    "            coupling_strength = adj_mat[i, j]\n",
    "            if coupling_strength != 0.0\n",
    "                ampo += coupling_strength * (J / 2), \"S+\", i, \"S-\", j\n",
    "                ampo += coupling_strength * (J / 2), \"S-\", i, \"S+\", j\n",
    "                ampo += coupling_strength * (J * Δ), \"Sz\", i, \"Sz\", j\n",
    "            end\n",
    "        end\n",
    "    end\n",
    "    return MPO(ampo, sites)\n",
    "end"
   ]
  },
  {
   "cell_type": "code",
   "execution_count": null,
   "id": "77ae68ba",
   "metadata": {
    "vscode": {
     "languageId": "julia"
    }
   },
   "outputs": [],
   "source": [
    "\n",
    "\n",
    "# runs the simulation over a 2D parameter space (N and σ)\n",
    "# and stores the results in a matrix suitable for a surface plot.\n",
    "function run_simulation_and_plot_3d()\n",
    "\n",
    "    # You can increase them for a more detailed plot, but it will take longer.\n",
    "    N_range = 10:4:75  \n",
    "    sigma_range = 0.0:0.0002:0.002 \n",
    "    num_graphs_avg = 5 # Original was 10\n",
    "    num_sweeps = 30\n",
    "    max_bond_dim_limit = 250\n",
    "    cutoff = 1E-10\n",
    "    μ = 1.0\n",
    "\n",
    "    # Matrix to store the average bond dimension for each (N, σ) pair\n",
    "    avg_bond_dims = zeros(Float64, length(N_range), length(sigma_range))\n",
    "\n",
    "\n",
    "    for (i, N) in enumerate(N_range)\n",
    "        for (j, σ) in enumerate(sigma_range)\n",
    "            bond_dims_for_avg = Float64[]\n",
    "            for _ in 1:num_graphs_avg\n",
    "                ψ₀, sites = create_MPS(N)\n",
    "                adj_mat = create_weighted_adj_mat(N, σ; μ=μ)\n",
    "                H_mpo = create_weighted_xxz_mpo(N, adj_mat, sites; J=-0.5, Δ=0.5)\n",
    "\n",
    "                sweeps = Sweeps(num_sweeps)\n",
    "                setmaxdim!(sweeps, max_bond_dim_limit)\n",
    "                setcutoff!(sweeps, cutoff)\n",
    "\n",
    "                _, ψ_gs = dmrg(H_mpo, ψ₀, sweeps; outputlevel=0)\n",
    "                push!(bond_dims_for_avg, maxlinkdim(ψ_gs))\n",
    "            end\n",
    "            avg_bond_dims[i, j] = mean(bond_dims_for_avg)\n",
    "        end\n",
    "    end\n",
    "\n",
    "\n",
    "    # Convert ranges to arrays for plotting\n",
    "    N_values = collect(N_range)\n",
    "    sigma_values = collect(sigma_range)\n",
    "\n",
    "    println(\"Generating plot...\")\n",
    "    plotlyjs() \n",
    "    \n",
    "    # The plot function expects the Z matrix dimensions to be (length(y), length(x))\n",
    "    # Since our matrix is (length(x), length(y)), we need to transpose it.\n",
    "    plt = plot(N_values, sigma_values, avg_bond_dims',\n",
    "        st=:surface,\n",
    "        title=\"Maximum Bond Dimension\",\n",
    "        xlabel=\"System Size\",\n",
    "        ylabel=\"σ\",\n",
    "        zlabel=\"Maximum Bond Dimension\",\n",
    "        camera=(50, 30),      # Adjust viewing angle (azimuth, elevation)\n",
    "        c=cgrad(:inferno),    # Use a colormap \n",
    "        legend=false\n",
    "    )\n",
    "    \n",
    "    return plt, avg_bond_dims, N_range, sigma_range\n",
    "end\n",
    "\n"
   ]
  },
  {
   "cell_type": "code",
   "execution_count": null,
   "id": "6198d889",
   "metadata": {
    "vscode": {
     "languageId": "julia"
    }
   },
   "outputs": [],
   "source": [
    "\n",
    "plt, avg_bond_dims, N_range, sigma_range = run_simulation_and_plot_3d();\n",
    "\n",
    "\n",
    "\n",
    "filename = \"surface_plot_data.jld2\"\n",
    "jldsave(filename; avg_bond_dims, N_range, sigma_range)\n",
    "println(\"Data saved successfully.\\n\")\n",
    "\n",
    "\n",
    "\n",
    "\n",
    "\n",
    "\n",
    "\n",
    "\n"
   ]
  },
  {
   "cell_type": "code",
   "execution_count": null,
   "id": "7ae57da4",
   "metadata": {
    "vscode": {
     "languageId": "julia"
    }
   },
   "outputs": [],
   "source": [
    "unction load_data_and_plot(filename=\"simulation_results.jld2\")\n",
    "    println(\"Loading data from $filename...\")\n",
    "    if !isfile(filename)\n",
    "        println(\"Error: Data file '$filename' not found. Please run the simulation first.\")\n",
    "        return nothing\n",
    "    end\n",
    "    \n",
    "    # Load the data from the JLD2 file\n",
    "    data = load(filename)\n",
    "    avg_bond_dims = data[\"avg_bond_dims\"]\n",
    "    N_range = data[\"N_range\"]\n",
    "    sigma_range = data[\"sigma_range\"]\n",
    "\n",
    "    N_values = collect(N_range)\n",
    "    sigma_values = collect(sigma_range)\n",
    "\n",
    "    plotlyjs() # Ensure plotting backend is active\n",
    "    \n",
    "    plt = plot(N_values, sigma_values, avg_bond_dims',\n",
    "        st=:surface,\n",
    "        title=\"Maximum Bond Dimension (from file)\",\n",
    "        xlabel=\"System Size\",\n",
    "        ylabel=\"σ\",\n",
    "        zlabel=\"Maximum Bond Dimension\",\n",
    "        camera=(50, 30),\n",
    "        c=cgrad(:inferno),\n",
    "        legend=false\n",
    "    )\n",
    "    \n",
    "    return plt\n",
    "end"
   ]
  },
  {
   "cell_type": "code",
   "execution_count": null,
   "id": "17566d34",
   "metadata": {
    "vscode": {
     "languageId": "julia"
    }
   },
   "outputs": [],
   "source": [
    "println(\"--- Loading and Plotting from File ---\")\n",
    "plt = load_data_and_plot(filename)\n",
    "if plt !== nothing\n",
    "    display(plt)\n",
    "end"
   ]
  }
 ],
 "metadata": {
  "language_info": {
   "name": "python"
  }
 },
 "nbformat": 4,
 "nbformat_minor": 5
}
