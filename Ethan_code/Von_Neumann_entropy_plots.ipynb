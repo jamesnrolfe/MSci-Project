{
 "cells": [
  {
   "cell_type": "code",
   "execution_count": null,
   "id": "4a8fb86a",
   "metadata": {},
   "outputs": [],
   "source": [
    "\n",
    "using Markdown\n",
    "using InteractiveUtils\n",
    "using Graphs, Random, Statistics\n",
    "using Plots, Colors\n",
    "using ITensors, ITensorMPS, LinearAlgebra\n",
    "using JLD2 \n",
    "using ITensors: entropy \n",
    "\n",
    "\n",
    "\n"
   ]
  },
  {
   "cell_type": "code",
   "execution_count": 2,
   "id": "da0ac199",
   "metadata": {},
   "outputs": [
    {
     "data": {
      "text/plain": [
       "create_MPS (generic function with 1 method)"
      ]
     },
     "execution_count": 2,
     "metadata": {},
     "output_type": "execute_result"
    }
   ],
   "source": [
    "\n",
    "function create_MPS(L::Int)\n",
    "    sites = siteinds(\"S=1/2\", L; conserve_qns=true)\n",
    "    initial_state = [isodd(i) ? \"Up\" : \"Dn\" for i in 1:L]\n",
    "    ψ₀ = randomMPS(sites, initial_state)\n",
    "    return ψ₀, sites\n",
    "end\n",
    "\n"
   ]
  },
  {
   "cell_type": "code",
   "execution_count": 3,
   "id": "aaf0aed0",
   "metadata": {},
   "outputs": [
    {
     "data": {
      "text/plain": [
       "create_weighted_adj_mat"
      ]
     },
     "execution_count": 3,
     "metadata": {},
     "output_type": "execute_result"
    }
   ],
   "source": [
    "\"\"\"\n",
    "Creates a weighted adjacency matrix for a completely connected graph.\n",
    "\"\"\"\n",
    "function create_weighted_adj_mat(N::Int, σ::Float64; μ::Float64=1.0)\n",
    "    if σ == 0.0\n",
    "        A = ones(Float64, N, N)\n",
    "        A -= Matrix{Float64}(I, N, N)\n",
    "        return A\n",
    "    end\n",
    "    A = zeros(Float64, N, N)\n",
    "    for i in 1:N, j in (i+1):N\n",
    "        weight = μ + σ * randn()\n",
    "        A[i, j] = A[j, i] = weight\n",
    "    end\n",
    "    return A\n",
    "end"
   ]
  },
  {
   "cell_type": "code",
   "execution_count": 4,
   "id": "66b6c574",
   "metadata": {},
   "outputs": [
    {
     "data": {
      "text/plain": [
       "create_weighted_xxz_mpo"
      ]
     },
     "execution_count": 4,
     "metadata": {},
     "output_type": "execute_result"
    }
   ],
   "source": [
    "\"\"\"\n",
    "Creates the MPO for the XXZ Hamiltonian on a graph with weighted interactions.\n",
    "\"\"\"\n",
    "function create_weighted_xxz_mpo(N::Int, adj_mat, sites; J::Float64, Δ::Float64)\n",
    "    ampo = OpSum()\n",
    "    for i in 1:N-1\n",
    "        for j in i+1:N\n",
    "            coupling_strength = adj_mat[i, j]\n",
    "            if coupling_strength != 0.0\n",
    "                ampo += coupling_strength * (J / 2), \"S+\", i, \"S-\", j\n",
    "                ampo += coupling_strength * (J / 2), \"S-\", i, \"S+\", j\n",
    "                ampo += coupling_strength * (J * Δ), \"Sz\", i, \"Sz\", j\n",
    "            end\n",
    "        end\n",
    "    end\n",
    "    return MPO(ampo, sites)\n",
    "end"
   ]
  },
  {
   "cell_type": "code",
   "execution_count": null,
   "id": "77ae68ba",
   "metadata": {},
   "outputs": [
    {
     "data": {
      "text/plain": [
       "run_simulation_and_plot_delta (generic function with 1 method)"
      ]
     },
     "execution_count": 5,
     "metadata": {},
     "output_type": "execute_result"
    }
   ],
   "source": [
    "\n",
    "# Calculates Von Neumann entropy for the central bipartition\n",
    "# Runs for specified sigma values and averages over graphs if sigma != 0\n",
    "function run_entropy_simulation()\n",
    "\n",
    "    N_range = 10:2:100 # System sizes from 10 to 100 [cite: 519]\n",
    "    sigma_values_to_run = [0.0, 0.002] # Sigma values for Fig 12 & 13 [cite: 519, 552]\n",
    "    num_graphs_avg = 10 # Number of graphs to average over for sigma != 0 \n",
    "\n",
    "    # DMRG Parameters (consistent with previous code)\n",
    "    num_sweeps = 30\n",
    "    max_bond_dim_limit = 250\n",
    "    cutoff = 1E-10\n",
    "    μ = 1.0\n",
    "    J_coupling = -0.5 # As used in previous MPO creation\n",
    "    Delta_coupling = 0.5 # As used in previous MPO creation\n",
    "\n",
    "    # Dictionary to store results: sigma => vector of entropies for each N\n",
    "    results = Dict{Float64, Vector{Float64}}()\n",
    "\n",
    "    println(\"Starting entropy simulations...\")\n",
    "\n",
    "    for σ in sigma_values_to_run\n",
    "        println(\"Running for σ = $σ\")\n",
    "        entropies_for_N = Float64[] # Store results for this sigma\n",
    "\n",
    "        for N in N_range\n",
    "            # Ensure N is even for a clear central bipartition N/2\n",
    "            # Although ITensors handles indices correctly, the report implies N/2 split.\n",
    "            # If odd N is needed, adjust 'b' calculation.\n",
    "            if N % 2 != 0\n",
    "                println(\"Skipping N=$N as it's odd.\")\n",
    "                continue\n",
    "            end\n",
    "\n",
    "            b = N ÷ 2 # Central bond index for bipartition [N/2 | N/2+1] \n",
    "            entropies_for_avg = Float64[] # Store entropies for averaging\n",
    "\n",
    "            num_runs = (σ == 0.0) ? 1 : num_graphs_avg # Only 1 run needed for sigma=0\n",
    "\n",
    "            print(\"  N = $N: \")\n",
    "            for run in 1:num_runs\n",
    "                if σ != 0.0 print(\"$run \") end\n",
    "\n",
    "                ψ₀, sites = create_MPS(N)\n",
    "                adj_mat = create_weighted_adj_mat(N, σ; μ=μ)\n",
    "                H_mpo = create_weighted_xxz_mpo(N, adj_mat, sites; J=J_coupling, Δ=Delta_coupling)\n",
    "\n",
    "                sweeps = Sweeps(num_sweeps)\n",
    "                setmaxdim!(sweeps, max_bond_dim_limit)\n",
    "                setcutoff!(sweeps, cutoff)\n",
    "\n",
    "                # Use noise term for better convergence, especially with randomness\n",
    "                # Small noise added initially and decreased over sweeps\n",
    "                noise_vals = LinRange(1E-6, 1E-10, num_sweeps)\n",
    "                setnoise!(sweeps, noise_vals...)\n",
    "\n",
    "                # Run DMRG (outputlevel=0 suppresses sweep output)\n",
    "                _, ψ_gs = dmrg(H_mpo, ψ₀, sweeps; outputlevel=0)\n",
    "\n",
    "                # Calculate Von Neumann entropy across the central bond 'b' \n",
    "                S = entropy(ψ_gs, b)\n",
    "                push!(entropies_for_avg, S)\n",
    "            end\n",
    "            println() # Newline after runs for a given N\n",
    "\n",
    "            avg_entropy = mean(entropies_for_avg)\n",
    "            push!(entropies_for_N, avg_entropy)\n",
    "            println(\"    Avg Entropy = $avg_entropy\")\n",
    "\n",
    "        end # End loop N\n",
    "\n",
    "        results[σ] = entropies_for_N\n",
    "\n",
    "    end # End loop sigma\n",
    "\n",
    "    println(\"Simulations finished.\")\n",
    "    # Filter N_range to only include even numbers used\n",
    "    actual_N_range = filter(isodd, N_range) ? N_range : filter(iseven, N_range) # Crude filter, adjust if N_range has odds\n",
    "    if isempty(actual_N_range) actual_N_range = N_range end # Fallback if N_range was all odd\n",
    "\n",
    "    return results, actual_N_range\n",
    "end"
   ]
  },
  {
   "cell_type": "code",
   "execution_count": null,
   "id": "647d5f0f",
   "metadata": {},
   "outputs": [],
   "source": [
    "\n",
    "\n",
    "function entropy_plot(N_range, results; backend=gr)\n",
    "    backend() # Set plotting backend (e.g., gr(), plotlyjs())\n",
    "    N_values = collect(N_range)\n",
    "\n",
    "    plt = plot(title=\"Average Von Neumann Entropy of the Central Bipartition\",\n",
    "               xlabel=\"Number of Nodes\",\n",
    "               ylabel=\"Average Entropy\",\n",
    "               legend=:topleft,\n",
    "               grid=true,\n",
    "               minorgrid=true,\n",
    "               gridalpha=0.2,\n",
    "               minorgridalpha=0.1)\n",
    "\n",
    "    # Define colors to potentially match report (adjust as needed)\n",
    "    colors = Dict(0.0 => :purple, 0.002 => :darkorange) # Or use Plots default\n",
    "\n",
    "    sigmas_sorted = sort(collect(keys(results)))\n",
    "\n",
    "    for σ in sigmas_sorted\n",
    "        label_str = \"σ=$σ\"\n",
    "        color = get(colors, σ, :auto) # Use defined color or auto\n",
    "        entropy_values = results[σ]\n",
    "\n",
    "        # Ensure entropy_values match N_values length if odd Ns were skipped\n",
    "         if length(entropy_values) != length(N_values)\n",
    "            println(\"Warning: Mismatch in lengths for σ=$σ. N_values: $(length(N_values)), Entropies: $(length(entropy_values))\")\n",
    "            # Attempt to plot anyway, might error or look wrong if lengths mismatch significantly\n",
    "        end\n",
    "\n",
    "        # Plot points and lines\n",
    "        scatter!(plt, N_values, entropy_values, label=label_str, color=color, markersize=4, markerstrokewidth=0.5, markerstrokecolor=:black)\n",
    "        plot!(plt, N_values, entropy_values, label=\"\", color=color, linewidth=1.5) # Line connecting points\n",
    "    end\n",
    "\n",
    "    return plt\n",
    "end"
   ]
  },
  {
   "cell_type": "code",
   "execution_count": null,
   "id": "6198d889",
   "metadata": {},
   "outputs": [
    {
     "data": {
      "application/vnd.webio.node+json": {
       "children": [],
       "instanceArgs": {
        "namespace": "html",
        "tag": "div"
       },
       "nodeType": "DOM",
       "props": {},
       "type": "node"
      },
      "text/html": [
       "<div style=\"padding: 1em; background-color: #f8d6da; border: 1px solid #f5c6cb; font-weight: bold;\">\n",
       "<p>The WebIO Jupyter extension was not detected. See the\n",
       "<a href=\"https://juliagizmos.github.io/WebIO.jl/latest/providers/ijulia/\" target=\"_blank\">\n",
       "    WebIO Jupyter integration documentation\n",
       "</a>\n",
       "for more information.\n",
       "</div>\n"
      ],
      "text/plain": [
       "WebIO._IJuliaInit()"
      ]
     },
     "metadata": {},
     "output_type": "display_data"
    },
    {
     "name": "stderr",
     "output_type": "stream",
     "text": [
      "\u001b[33m\u001b[1m┌ \u001b[22m\u001b[39m\u001b[33m\u001b[1mWarning: \u001b[22m\u001b[39mbackend `PlotlyJS` is not installed.\n",
      "\u001b[33m\u001b[1m└ \u001b[22m\u001b[39m\u001b[90m@ Plots C:\\Users\\Ethan\\.julia\\packages\\Plots\\8ZnR3\\src\\backends.jl:45\u001b[39m\n"
     ]
    },
    {
     "name": "stdout",
     "output_type": "stream",
     "text": [
      "Data saved successfully.\n",
      "\n"
     ]
    }
   ],
   "source": [
    "\n",
    "\n",
    "function entropy_plot_log(N_range, results; backend=gr)\n",
    "    backend() # Set plotting backend\n",
    "    N_values_full = collect(N_range)\n",
    "    # Ensure we only take log of positive values, filter if needed (should be fine for N>=10)\n",
    "    N_log_values = log2.(N_values_full)\n",
    "\n",
    "    plt = plot(title=\"Average Von Neumann Entropy of the Central Bipartition\",\n",
    "               xlabel=\"Number of Nodes (log2 scale)\",\n",
    "               ylabel=\"Average Entropy\",\n",
    "               legend=:topleft,\n",
    "               grid=true,\n",
    "               minorgrid=true,\n",
    "               gridalpha=0.2,\n",
    "               minorgridalpha=0.1)\n",
    "\n",
    "    colors = Dict(0.0 => :purple, 0.002 => :darkorange)\n",
    "    sigmas_sorted = sort(collect(keys(results)))\n",
    "\n",
    "    for σ in sigmas_sorted\n",
    "        label_str = \"σ=$σ\"\n",
    "        color = get(colors, σ, :auto)\n",
    "        entropy_values = results[σ]\n",
    "\n",
    "         if length(entropy_values) != length(N_log_values)\n",
    "            println(\"Warning: Mismatch in lengths for σ=$σ. N_log_values: $(length(N_log_values)), Entropies: $(length(entropy_values))\")\n",
    "        end\n",
    "\n",
    "        # Plot points and lines using log2(N) axis\n",
    "        scatter!(plt, N_log_values, entropy_values, label=label_str, color=color, markersize=4, markerstrokewidth=0.5, markerstrokecolor=:black)\n",
    "        plot!(plt, N_log_values, entropy_values, label=\"\", color=color, linewidth=1.5)\n",
    "    end\n",
    "\n",
    "     # Optional: Customize x-ticks to show 2^{x} format if desired\n",
    "     # This requires more complex tick formatting, might be simpler to leave as log values\n",
    "     xticks_vals = [log2(v) for v in [4, 8, 16, 32, 64]] # Example ticks\n",
    "     xtick_labels = [\"2^{$(Int(log2(v)))}\" for v in [4, 8, 16, 32, 64]]\n",
    "     # Filter ticks to be within the actual data range\n",
    "     valid_ticks = [(t, l) for (t, l) in zip(xticks_vals, xtick_labels) if minimum(N_log_values) <= t <= maximum(N_log_values)]\n",
    "     if !isempty(valid_ticks)\n",
    "         plot!(plt, xticks=(first.(valid_ticks), last.(valid_ticks)))\n",
    "     end\n",
    "\n",
    "\n",
    "    return plt\n",
    "end"
   ]
  },
  {
   "cell_type": "code",
   "execution_count": null,
   "id": "7ae57da4",
   "metadata": {},
   "outputs": [
    {
     "data": {
      "text/plain": [
       "load_data_and_plot (generic function with 1 method)"
      ]
     },
     "execution_count": 16,
     "metadata": {},
     "output_type": "execute_result"
    }
   ],
   "source": [
    "\n",
    "entropy_results, N_range_used = run_entropy_simulation();\n",
    "\n",
    "ent_plot = entropy_plot(N_range_used, entropy_results);\n",
    "display(ent_plot)\n",
    "\n",
    "ent_plot_log = entropy_plot_log(N_range_used, entropy_results);\n",
    "display(ent_plot_log)\n",
    "\n",
    "using JLD2\n",
    "filename_entropy = \"entropy_vs_N_data.jld2\"\n",
    "jldsave(filename_entropy; entropy_results, N_range_used)\n"
   ]
  },
  {
   "cell_type": "code",
   "execution_count": null,
   "id": "f549e1c1",
   "metadata": {},
   "outputs": [],
   "source": []
  }
 ],
 "metadata": {
  "kernelspec": {
   "display_name": "Julia 1.11.7",
   "language": "julia",
   "name": "julia-1.11"
  },
  "language_info": {
   "file_extension": ".jl",
   "mimetype": "application/julia",
   "name": "julia",
   "version": "1.11.7"
  }
 },
 "nbformat": 4,
 "nbformat_minor": 5
}
