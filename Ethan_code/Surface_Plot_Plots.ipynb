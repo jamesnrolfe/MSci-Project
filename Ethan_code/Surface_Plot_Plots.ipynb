{
 "cells": [
  {
   "cell_type": "code",
   "execution_count": null,
   "id": "211175ef",
   "metadata": {
    "vscode": {
     "languageId": "julia"
    }
   },
   "outputs": [],
   "source": [
    "\n",
    "using Markdown\n",
    "using InteractiveUtils\n",
    "using Graphs, Random, Statistics\n",
    "using Plots, Colors\n",
    "using ITensors, ITensorMPS, LinearAlgebra\n",
    "using JLD2 "
   ]
  },
  {
   "cell_type": "code",
   "execution_count": null,
   "id": "73ca047d",
   "metadata": {
    "vscode": {
     "languageId": "julia"
    }
   },
   "outputs": [],
   "source": [
    "function load_data_and_plot(filename)\n",
    "    println(\"Loading data from $filename...\")\n",
    "    if !isfile(filename)\n",
    "        println(\"Error: Data file '$filename' not found\")\n",
    "        return nothing\n",
    "    end\n",
    "    \n",
    "    # Load the data from the JLD2 file\n",
    "    data = load(filename)\n",
    "    max_bond_dims = data[\"max_bond_dims\"]\n",
    "    N_range = data[\"N_range\"]\n",
    "    delta_range = data[\"delta_range\"]\n",
    "\n",
    "    N_values = collect(N_range)\n",
    "    delta_range = collect(delta_range)\n",
    "\n",
    "    plotlyjs() # Ensure plotting backend is active\n",
    "    \n",
    "    plt = plot(N_values, delta_range, max_bond_dims',\n",
    "        st=:surface,\n",
    "        title=\"Maximum Bond Dimension\",\n",
    "        xlabel=\"System Size\",\n",
    "        ylabel=\"Δ\",  \n",
    "        zlabel=\"Maximum Bond Dimension\",\n",
    "        camera=(50, 30),      \n",
    "        c=cgrad(:inferno),    \n",
    "        legend=false\n",
    "    )\n",
    "    \n",
    "    return plt\n",
    "end\n",
    "\n",
    "println(\"--- Loading and Plotting from File ---\")\n",
    "plt = load_data_and_plot(filename)\n",
    "if plt !== nothing\n",
    "    display(plt)\n",
    "end"
   ]
  },
  {
   "cell_type": "code",
   "execution_count": null,
   "id": "f1dda064",
   "metadata": {
    "vscode": {
     "languageId": "julia"
    }
   },
   "outputs": [],
   "source": [
    "function load_data_and_plot(filename)\n",
    "    println(\"Loading data from $filename...\")\n",
    "    if !isfile(filename)\n",
    "        println(\"Error: Data file '$filename' not found\")\n",
    "        return nothing\n",
    "    end\n",
    "    \n",
    "    # Load the data from the JLD2 file\n",
    "    data = load(filename)\n",
    "    avg_bond_dims = data[\"avg_bond_dims\"]\n",
    "    N_range = data[\"N_range\"]\n",
    "    sigma_range = data[\"sigma_range\"]\n",
    "\n",
    "    N_values = collect(N_range)\n",
    "    sigma_values = collect(sigma_range)\n",
    "\n",
    "    plotlyjs() # Ensure plotting backend is active\n",
    "    \n",
    "    plt = plot(N_values, sigma_values, avg_bond_dims',\n",
    "        st=:surface,\n",
    "        title=\"Maximum Bond Dimension\",\n",
    "        xlabel=\"System Size\",\n",
    "        ylabel=\"σ\",\n",
    "        zlabel=\"Max Bond Dimension\",\n",
    "        camera=(50, 30),\n",
    "        c=cgrad(:inferno),\n",
    "        legend=false\n",
    "    )\n",
    "    \n",
    "    return plt\n",
    "end\n",
    "\n",
    "println(\"--- Loading and Plotting from File ---\")\n",
    "plt = load_data_and_plot(filename)\n",
    "if plt !== nothing\n",
    "    display(plt)\n",
    "end"
   ]
  },
  {
   "cell_type": "code",
   "execution_count": null,
   "id": "22384f5d",
   "metadata": {
    "vscode": {
     "languageId": "julia"
    }
   },
   "outputs": [],
   "source": []
  },
  {
   "cell_type": "code",
   "execution_count": null,
   "id": "369c6cb5",
   "metadata": {
    "vscode": {
     "languageId": "julia"
    }
   },
   "outputs": [],
   "source": []
  }
 ],
 "metadata": {
  "language_info": {
   "name": "python"
  }
 },
 "nbformat": 4,
 "nbformat_minor": 5
}
