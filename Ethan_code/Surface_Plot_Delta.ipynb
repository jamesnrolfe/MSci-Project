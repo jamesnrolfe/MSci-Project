{
 "cells": [
  {
   "cell_type": "code",
   "execution_count": 1,
   "id": "4a8fb86a",
   "metadata": {},
   "outputs": [],
   "source": [
    "\n",
    "using Markdown\n",
    "using InteractiveUtils\n",
    "using Graphs, Random, Statistics\n",
    "using Plots, Colors\n",
    "using ITensors, ITensorMPS, LinearAlgebra\n",
    "using JLD2 \n",
    "\n",
    "# seed for reproducibility\n",
    "Random.seed!(1234);\n",
    "\n"
   ]
  },
  {
   "cell_type": "code",
   "execution_count": 2,
   "id": "da0ac199",
   "metadata": {},
   "outputs": [
    {
     "data": {
      "text/plain": [
       "create_MPS (generic function with 1 method)"
      ]
     },
     "execution_count": 2,
     "metadata": {},
     "output_type": "execute_result"
    }
   ],
   "source": [
    "\n",
    "function create_MPS(L::Int)\n",
    "    sites = siteinds(\"S=1/2\", L; conserve_qns=true)\n",
    "    initial_state = [isodd(i) ? \"Up\" : \"Dn\" for i in 1:L]\n",
    "    ψ₀ = randomMPS(sites, initial_state)\n",
    "    return ψ₀, sites\n",
    "end\n",
    "\n"
   ]
  },
  {
   "cell_type": "code",
   "execution_count": 3,
   "id": "aaf0aed0",
   "metadata": {},
   "outputs": [
    {
     "data": {
      "text/plain": [
       "create_weighted_adj_mat"
      ]
     },
     "execution_count": 3,
     "metadata": {},
     "output_type": "execute_result"
    }
   ],
   "source": [
    "\"\"\"\n",
    "Creates a weighted adjacency matrix for a completely connected graph.\n",
    "\"\"\"\n",
    "function create_weighted_adj_mat(N::Int, σ::Float64; μ::Float64=1.0)\n",
    "    if σ == 0.0\n",
    "        A = ones(Float64, N, N)\n",
    "        A -= Matrix{Float64}(I, N, N)\n",
    "        return A\n",
    "    end\n",
    "    A = zeros(Float64, N, N)\n",
    "    for i in 1:N, j in (i+1):N\n",
    "        weight = μ + σ * randn()\n",
    "        A[i, j] = A[j, i] = weight\n",
    "    end\n",
    "    return A\n",
    "end"
   ]
  },
  {
   "cell_type": "code",
   "execution_count": 4,
   "id": "66b6c574",
   "metadata": {},
   "outputs": [
    {
     "data": {
      "text/plain": [
       "create_weighted_xxz_mpo"
      ]
     },
     "execution_count": 4,
     "metadata": {},
     "output_type": "execute_result"
    }
   ],
   "source": [
    "\"\"\"\n",
    "Creates the MPO for the XXZ Hamiltonian on a graph with weighted interactions.\n",
    "\"\"\"\n",
    "function create_weighted_xxz_mpo(N::Int, adj_mat, sites; J::Float64, Δ::Float64)\n",
    "    ampo = OpSum()\n",
    "    for i in 1:N-1\n",
    "        for j in i+1:N\n",
    "            coupling_strength = adj_mat[i, j]\n",
    "            if coupling_strength != 0.0\n",
    "                ampo += coupling_strength * (J / 2), \"S+\", i, \"S-\", j\n",
    "                ampo += coupling_strength * (J / 2), \"S-\", i, \"S+\", j\n",
    "                ampo += coupling_strength * (J * Δ), \"Sz\", i, \"Sz\", j\n",
    "            end\n",
    "        end\n",
    "    end\n",
    "    return MPO(ampo, sites)\n",
    "end"
   ]
  },
  {
   "cell_type": "code",
   "execution_count": null,
   "id": "77ae68ba",
   "metadata": {},
   "outputs": [
    {
     "data": {
      "text/plain": [
       "run_simulation_and_plot_delta (generic function with 1 method)"
      ]
     },
     "execution_count": 5,
     "metadata": {},
     "output_type": "execute_result"
    }
   ],
   "source": [
    "\n",
    "function run_simulation_and_plot_delta()\n",
    "\n",
    "    N_range = 10:2:100  \n",
    "    delta_range = [-1.0, -0.5, 0.0, 0.5, 1.0] \n",
    "    \n",
    "    \n",
    "    num_sweeps = 30\n",
    "    max_bond_dim_limit = 250\n",
    "    cutoff = 1E-10\n",
    "    μ = 1.0\n",
    "    \n",
    "    σ = 0.0 \n",
    "\n",
    "\n",
    "    max_bond_dims = zeros(Float64, length(N_range), length(delta_range))\n",
    "\n",
    "\n",
    "    for (i, N) in enumerate(N_range)\n",
    "        for (j, Δ_val) in enumerate(delta_range)\n",
    "\n",
    "            ψ₀, sites = create_MPS(N)\n",
    "            adj_mat = create_weighted_adj_mat(N, σ; μ=μ)\n",
    "            H_mpo = create_weighted_xxz_mpo(N, adj_mat, sites; J=-0.5, Δ=Δ_val)\n",
    "\n",
    "            sweeps = Sweeps(num_sweeps)\n",
    "            setmaxdim!(sweeps, max_bond_dim_limit)\n",
    "            setcutoff!(sweeps, cutoff)\n",
    "\n",
    "            _, ψ_gs = dmrg(H_mpo, ψ₀, sweeps; outputlevel=0)\n",
    "            \n",
    "            max_bond_dims[i, j] = maxlinkdim(ψ_gs)\n",
    "        end\n",
    "    end\n",
    "\n",
    "\n",
    "    N_values = collect(N_range)\n",
    "    delta_values = collect(delta_range)\n",
    "\n",
    "    plotlyjs() \n",
    "    \n",
    "    # The plot function expects the Z matrix dimensions to be (length(y), length(x))\n",
    "    # Since our matrix is (length(x), length(y)), we need to transpose it.\n",
    "    \n",
    "    plt = plot(N_values, delta_values, max_bond_dims',\n",
    "        st=:surface,\n",
    "        title=\"Maximum Bond Dimension\",\n",
    "        xlabel=\"System Size\",\n",
    "        ylabel=\"Δ\",  \n",
    "        zlabel=\"Maximum Bond Dimension\",\n",
    "        camera=(50, 30),      \n",
    "        c=cgrad(:inferno),    \n",
    "        legend=false\n",
    "    )\n",
    "    \n",
    "    return plt, max_bond_dims, N_range, delta_range\n",
    "end"
   ]
  },
  {
   "cell_type": "code",
   "execution_count": 7,
   "id": "6198d889",
   "metadata": {},
   "outputs": [
    {
     "data": {
      "application/vnd.webio.node+json": {
       "children": [],
       "instanceArgs": {
        "namespace": "html",
        "tag": "div"
       },
       "nodeType": "DOM",
       "props": {},
       "type": "node"
      },
      "text/html": [
       "<div style=\"padding: 1em; background-color: #f8d6da; border: 1px solid #f5c6cb; font-weight: bold;\">\n",
       "<p>The WebIO Jupyter extension was not detected. See the\n",
       "<a href=\"https://juliagizmos.github.io/WebIO.jl/latest/providers/ijulia/\" target=\"_blank\">\n",
       "    WebIO Jupyter integration documentation\n",
       "</a>\n",
       "for more information.\n",
       "</div>\n"
      ],
      "text/plain": [
       "WebIO._IJuliaInit()"
      ]
     },
     "metadata": {},
     "output_type": "display_data"
    },
    {
     "name": "stderr",
     "output_type": "stream",
     "text": [
      "\u001b[33m\u001b[1m┌ \u001b[22m\u001b[39m\u001b[33m\u001b[1mWarning: \u001b[22m\u001b[39mbackend `PlotlyJS` is not installed.\n",
      "\u001b[33m\u001b[1m└ \u001b[22m\u001b[39m\u001b[90m@ Plots C:\\Users\\Ethan\\.julia\\packages\\Plots\\8ZnR3\\src\\backends.jl:45\u001b[39m\n"
     ]
    },
    {
     "name": "stdout",
     "output_type": "stream",
     "text": [
      "Data saved successfully.\n",
      "\n"
     ]
    }
   ],
   "source": [
    "\n",
    "plt, max_bond_dims, N_range, delta_range = run_simulation_and_plot_delta();\n",
    "\n",
    "\n",
    "\n",
    "filename = \"surface_plot_delta_data.jld2\"\n",
    "jldsave(filename; max_bond_dims, N_range, delta_range)\n",
    "println(\"Data saved successfully.\\n\")\n",
    "\n",
    "\n",
    "\n",
    "\n",
    "\n",
    "\n",
    "\n",
    "\n"
   ]
  },
  {
   "cell_type": "code",
   "execution_count": 16,
   "id": "7ae57da4",
   "metadata": {},
   "outputs": [
    {
     "data": {
      "text/plain": [
       "load_data_and_plot (generic function with 1 method)"
      ]
     },
     "execution_count": 16,
     "metadata": {},
     "output_type": "execute_result"
    }
   ],
   "source": [
    "function load_data_and_plot(filename)\n",
    "    println(\"Loading data from $filename...\")\n",
    "    if !isfile(filename)\n",
    "        println(\"Error: Data file '$filename' not found\")\n",
    "        return nothing\n",
    "    end\n",
    "    \n",
    "    # Load the data from the JLD2 file\n",
    "    data = load(filename)\n",
    "    max_bond_dims = data[\"max_bond_dims\"]\n",
    "    N_range = data[\"N_range\"]\n",
    "    delta_range = data[\"delta_range\"]\n",
    "\n",
    "    N_values = collect(N_range)\n",
    "    delta_range = collect(delta_range)\n",
    "\n",
    "    plotlyjs() # Ensure plotting backend is active\n",
    "    \n",
    "    plt = plot(N_values, delta_range, max_bond_dims',\n",
    "        st=:surface,\n",
    "        title=\"Maximum Bond Dimension\",\n",
    "        xlabel=\"System Size\",\n",
    "        ylabel=\"Δ\",  \n",
    "        zlabel=\"Maximum Bond Dimension\",\n",
    "        camera=(50, 30),      \n",
    "        c=cgrad(:inferno),    \n",
    "        legend=false\n",
    "    )\n",
    "    \n",
    "    return plt\n",
    "end"
   ]
  },
  {
   "cell_type": "code",
   "execution_count": 17,
   "id": "17566d34",
   "metadata": {},
   "outputs": [
    {
     "name": "stdout",
     "output_type": "stream",
     "text": [
      "--- Loading and Plotting from File ---\n",
      "Loading data from surface_plot_delta_data.jld2...\n"
     ]
    },
    {
     "data": {
      "application/vnd.plotly.v1+json": {
       "data": [
        {
         "colorbar": {
          "len": 0.8657316272965879,
          "title": "",
          "x": 0.9934383202099738,
          "y": 0.5086805555555556
         },
         "colorscale": [
          [
           0,
           "rgba(0, 0, 4, 1.000)"
          ],
          [
           0.00392156862745098,
           "rgba(1, 0, 5, 1.000)"
          ],
          [
           0.00784313725490196,
           "rgba(1, 1, 6, 1.000)"
          ],
          [
           0.011764705882352941,
           "rgba(1, 1, 8, 1.000)"
          ],
          [
           0.01568627450980392,
           "rgba(2, 1, 10, 1.000)"
          ],
          [
           0.0196078431372549,
           "rgba(2, 2, 12, 1.000)"
          ],
          [
           0.023529411764705882,
           "rgba(2, 2, 14, 1.000)"
          ],
          [
           0.027450980392156862,
           "rgba(3, 2, 16, 1.000)"
          ],
          [
           0.03137254901960784,
           "rgba(4, 3, 18, 1.000)"
          ],
          [
           0.03529411764705882,
           "rgba(4, 3, 20, 1.000)"
          ],
          [
           0.0392156862745098,
           "rgba(5, 4, 23, 1.000)"
          ],
          [
           0.043137254901960784,
           "rgba(6, 4, 25, 1.000)"
          ],
          [
           0.047058823529411764,
           "rgba(7, 5, 27, 1.000)"
          ],
          [
           0.050980392156862744,
           "rgba(8, 5, 29, 1.000)"
          ],
          [
           0.054901960784313725,
           "rgba(9, 6, 31, 1.000)"
          ],
          [
           0.058823529411764705,
           "rgba(10, 7, 34, 1.000)"
          ],
          [
           0.06274509803921569,
           "rgba(11, 7, 36, 1.000)"
          ],
          [
           0.06666666666666667,
           "rgba(12, 8, 38, 1.000)"
          ],
          [
           0.07058823529411765,
           "rgba(13, 8, 41, 1.000)"
          ],
          [
           0.07450980392156863,
           "rgba(14, 9, 43, 1.000)"
          ],
          [
           0.0784313725490196,
           "rgba(16, 9, 45, 1.000)"
          ],
          [
           0.08235294117647059,
           "rgba(17, 10, 48, 1.000)"
          ],
          [
           0.08627450980392157,
           "rgba(18, 10, 50, 1.000)"
          ],
          [
           0.09019607843137255,
           "rgba(20, 11, 52, 1.000)"
          ],
          [
           0.09411764705882353,
           "rgba(21, 11, 55, 1.000)"
          ],
          [
           0.09803921568627451,
           "rgba(22, 11, 57, 1.000)"
          ],
          [
           0.10196078431372549,
           "rgba(24, 12, 60, 1.000)"
          ],
          [
           0.10588235294117647,
           "rgba(25, 12, 62, 1.000)"
          ],
          [
           0.10980392156862745,
           "rgba(27, 12, 65, 1.000)"
          ],
          [
           0.11372549019607843,
           "rgba(28, 12, 67, 1.000)"
          ],
          [
           0.11764705882352941,
           "rgba(30, 12, 69, 1.000)"
          ],
          [
           0.12156862745098039,
           "rgba(31, 12, 72, 1.000)"
          ],
          [
           0.12549019607843137,
           "rgba(33, 12, 74, 1.000)"
          ],
          [
           0.12941176470588237,
           "rgba(35, 12, 76, 1.000)"
          ],
          [
           0.13333333333333333,
           "rgba(36, 12, 79, 1.000)"
          ],
          [
           0.13725490196078433,
           "rgba(38, 12, 81, 1.000)"
          ],
          [
           0.1411764705882353,
           "rgba(40, 11, 83, 1.000)"
          ],
          [
           0.1450980392156863,
           "rgba(41, 11, 85, 1.000)"
          ],
          [
           0.14901960784313725,
           "rgba(43, 11, 87, 1.000)"
          ],
          [
           0.15294117647058825,
           "rgba(45, 11, 89, 1.000)"
          ],
          [
           0.1568627450980392,
           "rgba(47, 10, 91, 1.000)"
          ],
          [
           0.1607843137254902,
           "rgba(49, 10, 92, 1.000)"
          ],
          [
           0.16470588235294117,
           "rgba(50, 10, 94, 1.000)"
          ],
          [
           0.16862745098039217,
           "rgba(52, 10, 95, 1.000)"
          ],
          [
           0.17254901960784313,
           "rgba(54, 9, 97, 1.000)"
          ],
          [
           0.17647058823529413,
           "rgba(56, 9, 98, 1.000)"
          ],
          [
           0.1803921568627451,
           "rgba(57, 9, 99, 1.000)"
          ],
          [
           0.1843137254901961,
           "rgba(59, 9, 100, 1.000)"
          ],
          [
           0.18823529411764706,
           "rgba(61, 9, 101, 1.000)"
          ],
          [
           0.19215686274509805,
           "rgba(62, 9, 102, 1.000)"
          ],
          [
           0.19607843137254902,
           "rgba(64, 10, 103, 1.000)"
          ],
          [
           0.2,
           "rgba(66, 10, 104, 1.000)"
          ],
          [
           0.20392156862745098,
           "rgba(68, 10, 104, 1.000)"
          ],
          [
           0.20784313725490197,
           "rgba(69, 10, 105, 1.000)"
          ],
          [
           0.21176470588235294,
           "rgba(71, 11, 106, 1.000)"
          ],
          [
           0.21568627450980393,
           "rgba(73, 11, 106, 1.000)"
          ],
          [
           0.2196078431372549,
           "rgba(74, 12, 107, 1.000)"
          ],
          [
           0.2235294117647059,
           "rgba(76, 12, 107, 1.000)"
          ],
          [
           0.22745098039215686,
           "rgba(77, 13, 108, 1.000)"
          ],
          [
           0.23137254901960785,
           "rgba(79, 13, 108, 1.000)"
          ],
          [
           0.23529411764705882,
           "rgba(81, 14, 108, 1.000)"
          ],
          [
           0.23921568627450981,
           "rgba(82, 14, 109, 1.000)"
          ],
          [
           0.24313725490196078,
           "rgba(84, 15, 109, 1.000)"
          ],
          [
           0.24705882352941178,
           "rgba(85, 15, 109, 1.000)"
          ],
          [
           0.25098039215686274,
           "rgba(87, 16, 110, 1.000)"
          ],
          [
           0.2549019607843137,
           "rgba(89, 16, 110, 1.000)"
          ],
          [
           0.25882352941176473,
           "rgba(90, 17, 110, 1.000)"
          ],
          [
           0.2627450980392157,
           "rgba(92, 18, 110, 1.000)"
          ],
          [
           0.26666666666666666,
           "rgba(93, 18, 110, 1.000)"
          ],
          [
           0.27058823529411763,
           "rgba(95, 19, 110, 1.000)"
          ],
          [
           0.27450980392156865,
           "rgba(97, 19, 110, 1.000)"
          ],
          [
           0.2784313725490196,
           "rgba(98, 20, 110, 1.000)"
          ],
          [
           0.2823529411764706,
           "rgba(100, 21, 110, 1.000)"
          ],
          [
           0.28627450980392155,
           "rgba(101, 21, 110, 1.000)"
          ],
          [
           0.2901960784313726,
           "rgba(103, 22, 110, 1.000)"
          ],
          [
           0.29411764705882354,
           "rgba(105, 22, 110, 1.000)"
          ],
          [
           0.2980392156862745,
           "rgba(106, 23, 110, 1.000)"
          ],
          [
           0.30196078431372547,
           "rgba(108, 24, 110, 1.000)"
          ],
          [
           0.3058823529411765,
           "rgba(109, 24, 110, 1.000)"
          ],
          [
           0.30980392156862746,
           "rgba(111, 25, 110, 1.000)"
          ],
          [
           0.3137254901960784,
           "rgba(113, 25, 110, 1.000)"
          ],
          [
           0.3176470588235294,
           "rgba(114, 26, 110, 1.000)"
          ],
          [
           0.3215686274509804,
           "rgba(116, 26, 110, 1.000)"
          ],
          [
           0.3254901960784314,
           "rgba(117, 27, 110, 1.000)"
          ],
          [
           0.32941176470588235,
           "rgba(119, 28, 109, 1.000)"
          ],
          [
           0.3333333333333333,
           "rgba(120, 28, 109, 1.000)"
          ],
          [
           0.33725490196078434,
           "rgba(122, 29, 109, 1.000)"
          ],
          [
           0.3411764705882353,
           "rgba(124, 29, 109, 1.000)"
          ],
          [
           0.34509803921568627,
           "rgba(125, 30, 109, 1.000)"
          ],
          [
           0.34901960784313724,
           "rgba(127, 30, 108, 1.000)"
          ],
          [
           0.35294117647058826,
           "rgba(128, 31, 108, 1.000)"
          ],
          [
           0.3568627450980392,
           "rgba(130, 32, 108, 1.000)"
          ],
          [
           0.3607843137254902,
           "rgba(132, 32, 107, 1.000)"
          ],
          [
           0.36470588235294116,
           "rgba(133, 33, 107, 1.000)"
          ],
          [
           0.3686274509803922,
           "rgba(135, 33, 107, 1.000)"
          ],
          [
           0.37254901960784315,
           "rgba(136, 34, 106, 1.000)"
          ],
          [
           0.3764705882352941,
           "rgba(138, 34, 106, 1.000)"
          ],
          [
           0.3803921568627451,
           "rgba(140, 35, 105, 1.000)"
          ],
          [
           0.3843137254901961,
           "rgba(141, 35, 105, 1.000)"
          ],
          [
           0.38823529411764707,
           "rgba(143, 36, 105, 1.000)"
          ],
          [
           0.39215686274509803,
           "rgba(144, 37, 104, 1.000)"
          ],
          [
           0.396078431372549,
           "rgba(146, 37, 104, 1.000)"
          ],
          [
           0.4,
           "rgba(147, 38, 103, 1.000)"
          ],
          [
           0.403921568627451,
           "rgba(149, 38, 103, 1.000)"
          ],
          [
           0.40784313725490196,
           "rgba(151, 39, 102, 1.000)"
          ],
          [
           0.4117647058823529,
           "rgba(152, 39, 102, 1.000)"
          ],
          [
           0.41568627450980394,
           "rgba(154, 40, 101, 1.000)"
          ],
          [
           0.4196078431372549,
           "rgba(155, 41, 100, 1.000)"
          ],
          [
           0.4235294117647059,
           "rgba(157, 41, 100, 1.000)"
          ],
          [
           0.42745098039215684,
           "rgba(159, 42, 99, 1.000)"
          ],
          [
           0.43137254901960786,
           "rgba(160, 42, 99, 1.000)"
          ],
          [
           0.43529411764705883,
           "rgba(162, 43, 98, 1.000)"
          ],
          [
           0.4392156862745098,
           "rgba(163, 44, 97, 1.000)"
          ],
          [
           0.44313725490196076,
           "rgba(165, 44, 96, 1.000)"
          ],
          [
           0.4470588235294118,
           "rgba(166, 45, 96, 1.000)"
          ],
          [
           0.45098039215686275,
           "rgba(168, 46, 95, 1.000)"
          ],
          [
           0.4549019607843137,
           "rgba(169, 46, 94, 1.000)"
          ],
          [
           0.4588235294117647,
           "rgba(171, 47, 94, 1.000)"
          ],
          [
           0.4627450980392157,
           "rgba(173, 48, 93, 1.000)"
          ],
          [
           0.4666666666666667,
           "rgba(174, 48, 92, 1.000)"
          ],
          [
           0.47058823529411764,
           "rgba(176, 49, 91, 1.000)"
          ],
          [
           0.4745098039215686,
           "rgba(177, 50, 90, 1.000)"
          ],
          [
           0.47843137254901963,
           "rgba(179, 50, 90, 1.000)"
          ],
          [
           0.4823529411764706,
           "rgba(180, 51, 89, 1.000)"
          ],
          [
           0.48627450980392156,
           "rgba(182, 52, 88, 1.000)"
          ],
          [
           0.49019607843137253,
           "rgba(183, 53, 87, 1.000)"
          ],
          [
           0.49411764705882355,
           "rgba(185, 53, 86, 1.000)"
          ],
          [
           0.4980392156862745,
           "rgba(186, 54, 85, 1.000)"
          ],
          [
           0.5019607843137255,
           "rgba(188, 55, 84, 1.000)"
          ],
          [
           0.5058823529411764,
           "rgba(189, 56, 83, 1.000)"
          ],
          [
           0.5098039215686274,
           "rgba(191, 57, 82, 1.000)"
          ],
          [
           0.5137254901960784,
           "rgba(192, 58, 81, 1.000)"
          ],
          [
           0.5176470588235295,
           "rgba(193, 58, 80, 1.000)"
          ],
          [
           0.5215686274509804,
           "rgba(195, 59, 79, 1.000)"
          ],
          [
           0.5254901960784314,
           "rgba(196, 60, 78, 1.000)"
          ],
          [
           0.5294117647058824,
           "rgba(198, 61, 77, 1.000)"
          ],
          [
           0.5333333333333333,
           "rgba(199, 62, 76, 1.000)"
          ],
          [
           0.5372549019607843,
           "rgba(200, 63, 75, 1.000)"
          ],
          [
           0.5411764705882353,
           "rgba(202, 64, 74, 1.000)"
          ],
          [
           0.5450980392156862,
           "rgba(203, 65, 73, 1.000)"
          ],
          [
           0.5490196078431373,
           "rgba(204, 66, 72, 1.000)"
          ],
          [
           0.5529411764705883,
           "rgba(206, 67, 71, 1.000)"
          ],
          [
           0.5568627450980392,
           "rgba(207, 68, 70, 1.000)"
          ],
          [
           0.5607843137254902,
           "rgba(208, 69, 69, 1.000)"
          ],
          [
           0.5647058823529412,
           "rgba(210, 70, 68, 1.000)"
          ],
          [
           0.5686274509803921,
           "rgba(211, 71, 67, 1.000)"
          ],
          [
           0.5725490196078431,
           "rgba(212, 72, 66, 1.000)"
          ],
          [
           0.5764705882352941,
           "rgba(213, 74, 65, 1.000)"
          ],
          [
           0.5803921568627451,
           "rgba(215, 75, 63, 1.000)"
          ],
          [
           0.5843137254901961,
           "rgba(216, 76, 62, 1.000)"
          ],
          [
           0.5882352941176471,
           "rgba(217, 77, 61, 1.000)"
          ],
          [
           0.592156862745098,
           "rgba(218, 78, 60, 1.000)"
          ],
          [
           0.596078431372549,
           "rgba(219, 80, 59, 1.000)"
          ],
          [
           0.6,
           "rgba(221, 81, 58, 1.000)"
          ],
          [
           0.6039215686274509,
           "rgba(222, 82, 56, 1.000)"
          ],
          [
           0.6078431372549019,
           "rgba(223, 83, 55, 1.000)"
          ],
          [
           0.611764705882353,
           "rgba(224, 85, 54, 1.000)"
          ],
          [
           0.615686274509804,
           "rgba(225, 86, 53, 1.000)"
          ],
          [
           0.6196078431372549,
           "rgba(226, 87, 52, 1.000)"
          ],
          [
           0.6235294117647059,
           "rgba(227, 89, 51, 1.000)"
          ],
          [
           0.6274509803921569,
           "rgba(228, 90, 49, 1.000)"
          ],
          [
           0.6313725490196078,
           "rgba(229, 92, 48, 1.000)"
          ],
          [
           0.6352941176470588,
           "rgba(230, 93, 47, 1.000)"
          ],
          [
           0.6392156862745098,
           "rgba(231, 94, 46, 1.000)"
          ],
          [
           0.6431372549019608,
           "rgba(232, 96, 45, 1.000)"
          ],
          [
           0.6470588235294118,
           "rgba(233, 97, 43, 1.000)"
          ],
          [
           0.6509803921568628,
           "rgba(234, 99, 42, 1.000)"
          ],
          [
           0.6549019607843137,
           "rgba(235, 100, 41, 1.000)"
          ],
          [
           0.6588235294117647,
           "rgba(235, 102, 40, 1.000)"
          ],
          [
           0.6627450980392157,
           "rgba(236, 103, 38, 1.000)"
          ],
          [
           0.6666666666666666,
           "rgba(237, 105, 37, 1.000)"
          ],
          [
           0.6705882352941176,
           "rgba(238, 106, 36, 1.000)"
          ],
          [
           0.6745098039215687,
           "rgba(239, 108, 35, 1.000)"
          ],
          [
           0.6784313725490196,
           "rgba(239, 110, 33, 1.000)"
          ],
          [
           0.6823529411764706,
           "rgba(240, 111, 32, 1.000)"
          ],
          [
           0.6862745098039216,
           "rgba(241, 113, 31, 1.000)"
          ],
          [
           0.6901960784313725,
           "rgba(241, 115, 29, 1.000)"
          ],
          [
           0.6941176470588235,
           "rgba(242, 116, 28, 1.000)"
          ],
          [
           0.6980392156862745,
           "rgba(243, 118, 27, 1.000)"
          ],
          [
           0.7019607843137254,
           "rgba(243, 120, 25, 1.000)"
          ],
          [
           0.7058823529411765,
           "rgba(244, 121, 24, 1.000)"
          ],
          [
           0.7098039215686275,
           "rgba(245, 123, 23, 1.000)"
          ],
          [
           0.7137254901960784,
           "rgba(245, 125, 21, 1.000)"
          ],
          [
           0.7176470588235294,
           "rgba(246, 126, 20, 1.000)"
          ],
          [
           0.7215686274509804,
           "rgba(246, 128, 19, 1.000)"
          ],
          [
           0.7254901960784313,
           "rgba(247, 130, 18, 1.000)"
          ],
          [
           0.7294117647058823,
           "rgba(247, 132, 16, 1.000)"
          ],
          [
           0.7333333333333333,
           "rgba(248, 133, 15, 1.000)"
          ],
          [
           0.7372549019607844,
           "rgba(248, 135, 14, 1.000)"
          ],
          [
           0.7411764705882353,
           "rgba(248, 137, 12, 1.000)"
          ],
          [
           0.7450980392156863,
           "rgba(249, 139, 11, 1.000)"
          ],
          [
           0.7490196078431373,
           "rgba(249, 140, 10, 1.000)"
          ],
          [
           0.7529411764705882,
           "rgba(249, 142, 9, 1.000)"
          ],
          [
           0.7568627450980392,
           "rgba(250, 144, 8, 1.000)"
          ],
          [
           0.7607843137254902,
           "rgba(250, 146, 7, 1.000)"
          ],
          [
           0.7647058823529411,
           "rgba(250, 148, 7, 1.000)"
          ],
          [
           0.7686274509803922,
           "rgba(251, 150, 6, 1.000)"
          ],
          [
           0.7725490196078432,
           "rgba(251, 151, 6, 1.000)"
          ],
          [
           0.7764705882352941,
           "rgba(251, 153, 6, 1.000)"
          ],
          [
           0.7803921568627451,
           "rgba(251, 155, 6, 1.000)"
          ],
          [
           0.7843137254901961,
           "rgba(251, 157, 7, 1.000)"
          ],
          [
           0.788235294117647,
           "rgba(252, 159, 7, 1.000)"
          ],
          [
           0.792156862745098,
           "rgba(252, 161, 8, 1.000)"
          ],
          [
           0.796078431372549,
           "rgba(252, 163, 9, 1.000)"
          ],
          [
           0.8,
           "rgba(252, 165, 10, 1.000)"
          ],
          [
           0.803921568627451,
           "rgba(252, 166, 12, 1.000)"
          ],
          [
           0.807843137254902,
           "rgba(252, 168, 13, 1.000)"
          ],
          [
           0.8117647058823529,
           "rgba(252, 170, 15, 1.000)"
          ],
          [
           0.8156862745098039,
           "rgba(252, 172, 17, 1.000)"
          ],
          [
           0.8196078431372549,
           "rgba(252, 174, 18, 1.000)"
          ],
          [
           0.8235294117647058,
           "rgba(252, 176, 20, 1.000)"
          ],
          [
           0.8274509803921568,
           "rgba(252, 178, 22, 1.000)"
          ],
          [
           0.8313725490196079,
           "rgba(252, 180, 24, 1.000)"
          ],
          [
           0.8352941176470589,
           "rgba(251, 182, 26, 1.000)"
          ],
          [
           0.8392156862745098,
           "rgba(251, 184, 29, 1.000)"
          ],
          [
           0.8431372549019608,
           "rgba(251, 186, 31, 1.000)"
          ],
          [
           0.8470588235294118,
           "rgba(251, 188, 33, 1.000)"
          ],
          [
           0.8509803921568627,
           "rgba(251, 190, 35, 1.000)"
          ],
          [
           0.8549019607843137,
           "rgba(250, 192, 38, 1.000)"
          ],
          [
           0.8588235294117647,
           "rgba(250, 194, 40, 1.000)"
          ],
          [
           0.8627450980392157,
           "rgba(250, 196, 42, 1.000)"
          ],
          [
           0.8666666666666667,
           "rgba(250, 198, 45, 1.000)"
          ],
          [
           0.8705882352941177,
           "rgba(249, 199, 47, 1.000)"
          ],
          [
           0.8745098039215686,
           "rgba(249, 201, 50, 1.000)"
          ],
          [
           0.8784313725490196,
           "rgba(249, 203, 53, 1.000)"
          ],
          [
           0.8823529411764706,
           "rgba(248, 205, 55, 1.000)"
          ],
          [
           0.8862745098039215,
           "rgba(248, 207, 58, 1.000)"
          ],
          [
           0.8901960784313725,
           "rgba(247, 209, 61, 1.000)"
          ],
          [
           0.8941176470588236,
           "rgba(247, 211, 64, 1.000)"
          ],
          [
           0.8980392156862745,
           "rgba(246, 213, 67, 1.000)"
          ],
          [
           0.9019607843137255,
           "rgba(246, 215, 70, 1.000)"
          ],
          [
           0.9058823529411765,
           "rgba(245, 217, 73, 1.000)"
          ],
          [
           0.9098039215686274,
           "rgba(245, 219, 76, 1.000)"
          ],
          [
           0.9137254901960784,
           "rgba(244, 221, 79, 1.000)"
          ],
          [
           0.9176470588235294,
           "rgba(244, 223, 83, 1.000)"
          ],
          [
           0.9215686274509803,
           "rgba(244, 225, 86, 1.000)"
          ],
          [
           0.9254901960784314,
           "rgba(243, 227, 90, 1.000)"
          ],
          [
           0.9294117647058824,
           "rgba(243, 229, 93, 1.000)"
          ],
          [
           0.9333333333333333,
           "rgba(242, 230, 97, 1.000)"
          ],
          [
           0.9372549019607843,
           "rgba(242, 232, 101, 1.000)"
          ],
          [
           0.9411764705882353,
           "rgba(242, 234, 105, 1.000)"
          ],
          [
           0.9450980392156862,
           "rgba(241, 236, 109, 1.000)"
          ],
          [
           0.9490196078431372,
           "rgba(241, 237, 113, 1.000)"
          ],
          [
           0.9529411764705882,
           "rgba(241, 239, 117, 1.000)"
          ],
          [
           0.9568627450980393,
           "rgba(241, 241, 121, 1.000)"
          ],
          [
           0.9607843137254902,
           "rgba(242, 242, 125, 1.000)"
          ],
          [
           0.9647058823529412,
           "rgba(242, 244, 130, 1.000)"
          ],
          [
           0.9686274509803922,
           "rgba(243, 245, 134, 1.000)"
          ],
          [
           0.9725490196078431,
           "rgba(243, 246, 138, 1.000)"
          ],
          [
           0.9764705882352941,
           "rgba(244, 248, 142, 1.000)"
          ],
          [
           0.9803921568627451,
           "rgba(245, 249, 146, 1.000)"
          ],
          [
           0.984313725490196,
           "rgba(246, 250, 150, 1.000)"
          ],
          [
           0.9882352941176471,
           "rgba(248, 251, 154, 1.000)"
          ],
          [
           0.9921568627450981,
           "rgba(249, 252, 157, 1.000)"
          ],
          [
           0.996078431372549,
           "rgba(250, 253, 161, 1.000)"
          ],
          [
           1,
           "rgba(252, 255, 164, 1.000)"
          ]
         ],
         "name": "y1",
         "opacity": null,
         "scene": "scene",
         "showlegend": false,
         "showscale": false,
         "type": "surface",
         "x": [
          10,
          12,
          14
         ],
         "xaxis": "x",
         "y": [
          -1,
          -0.5,
          0,
          0.5,
          1
         ],
         "yaxis": "y",
         "z": [
          [
           6,
           7,
           8
          ],
          [
           6,
           7,
           8
          ],
          [
           6,
           7,
           8
          ],
          [
           6,
           7,
           8
          ],
          [
           6,
           7,
           8
          ]
         ],
         "zaxis": "z",
         "zmax": 8,
         "zmin": 6
        }
       ],
       "layout": {
        "annotations": [
         {
          "font": {
           "color": "rgba(0, 0, 0, 1.000)",
           "family": "sans-serif",
           "size": 20
          },
          "rotation": 0,
          "showarrow": false,
          "text": "Maximum Bond Dimension",
          "x": 0.5423611111111111,
          "xanchor": "center",
          "xref": "paper",
          "y": 1,
          "yanchor": "top",
          "yref": "paper"
         }
        ],
        "height": 400,
        "margin": {
         "b": 20,
         "l": 0,
         "r": 0,
         "t": 20
        },
        "paper_bgcolor": "rgba(255, 255, 255, 1.000)",
        "plot_bgcolor": "rgba(255, 255, 255, 1.000)",
        "scene": {
         "camera": {
          "eye": {
           "x": 1.7248762652392398,
           "y": -1.4473430379886905,
           "z": 1.3
          },
          "projection": "orthographic"
         },
         "domain": {
          "x": [
           0.09128390201224845,
           0.9934383202099738
          ],
          "y": [
           0.07581474190726165,
           0.9415463692038496
          ]
         },
         "xaxis": {
          "gridcolor": "rgba(0, 0, 0, 0.100)",
          "gridwidth": 0.5,
          "linecolor": "rgba(0, 0, 0, 1.000)",
          "mirror": false,
          "range": [
           10,
           14
          ],
          "showgrid": true,
          "showline": true,
          "showticklabels": true,
          "tickangle": 0,
          "tickcolor": "rgb(0, 0, 0)",
          "tickfont": {
           "color": "rgba(0, 0, 0, 1.000)",
           "family": "sans-serif",
           "size": 11
          },
          "tickmode": "array",
          "ticks": "inside",
          "ticktext": [
           "10",
           "11",
           "12",
           "13",
           "14"
          ],
          "tickvals": [
           10,
           11,
           12,
           13,
           14
          ],
          "title": "System Size",
          "titlefont": {
           "color": "rgba(0, 0, 0, 1.000)",
           "family": "sans-serif",
           "size": 15
          },
          "type": "-",
          "visible": true,
          "zeroline": false,
          "zerolinecolor": "rgba(0, 0, 0, 1.000)"
         },
         "yaxis": {
          "gridcolor": "rgba(0, 0, 0, 0.100)",
          "gridwidth": 0.5,
          "linecolor": "rgba(0, 0, 0, 1.000)",
          "mirror": false,
          "range": [
           -1,
           1
          ],
          "showgrid": true,
          "showline": true,
          "showticklabels": true,
          "tickangle": 0,
          "tickcolor": "rgb(0, 0, 0)",
          "tickfont": {
           "color": "rgba(0, 0, 0, 1.000)",
           "family": "sans-serif",
           "size": 11
          },
          "tickmode": "array",
          "ticks": "inside",
          "ticktext": [
           "-1.0",
           "-0.5",
           "0.0",
           "0.5",
           "1.0"
          ],
          "tickvals": [
           -1,
           -0.5,
           0,
           0.5,
           1
          ],
          "title": "Δ",
          "titlefont": {
           "color": "rgba(0, 0, 0, 1.000)",
           "family": "sans-serif",
           "size": 15
          },
          "type": "-",
          "visible": true,
          "zeroline": false,
          "zerolinecolor": "rgba(0, 0, 0, 1.000)"
         },
         "zaxis": {
          "gridcolor": "rgba(0, 0, 0, 0.100)",
          "gridwidth": 0.5,
          "linecolor": "rgba(0, 0, 0, 1.000)",
          "mirror": false,
          "range": [
           6,
           8
          ],
          "showgrid": true,
          "showline": true,
          "showticklabels": true,
          "tickangle": 0,
          "tickcolor": "rgb(0, 0, 0)",
          "tickfont": {
           "color": "rgba(0, 0, 0, 1.000)",
           "family": "sans-serif",
           "size": 11
          },
          "tickmode": "array",
          "ticks": "inside",
          "ticktext": [
           "6.0",
           "6.5",
           "7.0",
           "7.5",
           "8.0"
          ],
          "tickvals": [
           6,
           6.5,
           7,
           7.5,
           8
          ],
          "title": "Maximum Bond Dimension",
          "titlefont": {
           "color": "rgba(0, 0, 0, 1.000)",
           "family": "sans-serif",
           "size": 15
          },
          "type": "-",
          "visible": true,
          "zeroline": false,
          "zerolinecolor": "rgba(0, 0, 0, 1.000)"
         }
        },
        "showlegend": false,
        "width": 600
       }
      },
      "image/png": "[encoded data removed]",
      "image/svg+xml": [
       "<svg class=\"main-svg\" xmlns=\"http://www.w3.org/2000/svg\" xmlns:xlink=\"http://www.w3.org/1999/xlink\" width=\"700\" height=\"500\" style=\"\" viewBox=\"0 0 700 500\"><rect x=\"0\" y=\"0\" width=\"700\" height=\"500\" style=\"fill: rgb(255, 255, 255); fill-opacity: 1;\"/><defs id=\"defs-755ded\"><g class=\"clips\"/><g class=\"gradients\"/><g class=\"patterns\"/></defs><g class=\"bglayer\"/><g class=\"layer-below\"><g class=\"imagelayer\"/><g class=\"shapelayer\"/></g><g class=\"cartesianlayer\"/><g class=\"polarlayer\"/><g class=\"smithlayer\"/><g class=\"ternarylayer\"/><g class=\"geolayer\"/><g class=\"funnelarealayer\"/><g class=\"pielayer\"/><g class=\"iciclelayer\"/><g class=\"treemaplayer\"/><g class=\"sunburstlayer\"/><g class=\"glimages\"><image xmlns=\"http://www.w3.org/2000/svg\" xlink:href=\"data:image/png;base64,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\" x=\"63.898731408573916\" y=\"46.88867016622919\" width=\"631.5080927384078\" height=\"398.2365485564304\" preserveAspectRatio=\"none\"/></g><defs id=\"topdefs-755ded\"><g class=\"clips\"/></defs><g class=\"layer-above\"><g class=\"imagelayer\"/><g class=\"shapelayer\"/></g><g class=\"infolayer\"><g class=\"g-gtitle\"/><g class=\"annotation\" data-index=\"0\" style=\"opacity: 1;\"><g class=\"annotation-text-g\" transform=\"rotate(0,379.65277777777777,33.00000000000001)\"><g class=\"cursor-pointer\" transform=\"translate(258,20)\"><rect class=\"bg\" x=\"0.5\" y=\"0.5\" width=\"242\" height=\"25\" style=\"stroke-width: 1px; stroke: rgb(0, 0, 0); stroke-opacity: 0; fill: rgb(0, 0, 0); fill-opacity: 0;\"/><text class=\"annotation-text\" text-anchor=\"middle\" x=\"121.5\" y=\"20\" style=\"font-family: sans-serif; font-size: 20px; fill: rgb(0, 0, 0); fill-opacity: 1; white-space: pre;\">Maximum Bond Dimension</text></g></g></g></g></svg>"
      ],
      "text/html": [
       "    <div id=\"id_aa473c97_f112_4a98_9b4b_b6dfc92e0b41\" style=\"width:600px;height:400px;\"></div>\n",
       "    <script>\n",
       "    ;(()=> {\n",
       "    function plots_jl_plotly_id_aa473c97_f112_4a98_9b4b_b6dfc92e0b41() {\n",
       "            requirejs.config({\n",
       "        paths: {\n",
       "            plotly: 'https://cdn.plot.ly/plotly-2.6.3.min'\n",
       "        }\n",
       "    });\n",
       "    require(['plotly'], function (Plotly) {\n",
       "\n",
       "        Plotly.newPlot('id_aa473c97_f112_4a98_9b4b_b6dfc92e0b41', [\n",
       "    {\n",
       "        \"xaxis\": \"x\",\n",
       "        \"colorbar\": {\n",
       "            \"y\": 0.5086805555555556,\n",
       "            \"title\": \"\",\n",
       "            \"len\": 0.8657316272965879,\n",
       "            \"x\": 0.9934383202099738\n",
       "        },\n",
       "        \"colorscale\": [\n",
       "            [\n",
       "                0.0,\n",
       "                \"rgba(0, 0, 4, 1.000)\"\n",
       "            ],\n",
       "            [\n",
       "                0.00392156862745098,\n",
       "                \"rgba(1, 0, 5, 1.000)\"\n",
       "            ],\n",
       "            [\n",
       "                0.00784313725490196,\n",
       "                \"rgba(1, 1, 6, 1.000)\"\n",
       "            ],\n",
       "            [\n",
       "                0.011764705882352941,\n",
       "                \"rgba(1, 1, 8, 1.000)\"\n",
       "            ],\n",
       "            [\n",
       "                0.01568627450980392,\n",
       "                \"rgba(2, 1, 10, 1.000)\"\n",
       "            ],\n",
       "            [\n",
       "                0.0196078431372549,\n",
       "                \"rgba(2, 2, 12, 1.000)\"\n",
       "            ],\n",
       "            [\n",
       "                0.023529411764705882,\n",
       "                \"rgba(2, 2, 14, 1.000)\"\n",
       "            ],\n",
       "            [\n",
       "                0.027450980392156862,\n",
       "                \"rgba(3, 2, 16, 1.000)\"\n",
       "            ],\n",
       "            [\n",
       "                0.03137254901960784,\n",
       "                \"rgba(4, 3, 18, 1.000)\"\n",
       "            ],\n",
       "            [\n",
       "                0.03529411764705882,\n",
       "                \"rgba(4, 3, 20, 1.000)\"\n",
       "            ],\n",
       "            [\n",
       "                0.0392156862745098,\n",
       "                \"rgba(5, 4, 23, 1.000)\"\n",
       "            ],\n",
       "            [\n",
       "                0.043137254901960784,\n",
       "                \"rgba(6, 4, 25, 1.000)\"\n",
       "            ],\n",
       "            [\n",
       "                0.047058823529411764,\n",
       "                \"rgba(7, 5, 27, 1.000)\"\n",
       "            ],\n",
       "            [\n",
       "                0.050980392156862744,\n",
       "                \"rgba(8, 5, 29, 1.000)\"\n",
       "            ],\n",
       "            [\n",
       "                0.054901960784313725,\n",
       "                \"rgba(9, 6, 31, 1.000)\"\n",
       "            ],\n",
       "            [\n",
       "                0.058823529411764705,\n",
       "                \"rgba(10, 7, 34, 1.000)\"\n",
       "            ],\n",
       "            [\n",
       "                0.06274509803921569,\n",
       "                \"rgba(11, 7, 36, 1.000)\"\n",
       "            ],\n",
       "            [\n",
       "                0.06666666666666667,\n",
       "                \"rgba(12, 8, 38, 1.000)\"\n",
       "            ],\n",
       "            [\n",
       "                0.07058823529411765,\n",
       "                \"rgba(13, 8, 41, 1.000)\"\n",
       "            ],\n",
       "            [\n",
       "                0.07450980392156863,\n",
       "                \"rgba(14, 9, 43, 1.000)\"\n",
       "            ],\n",
       "            [\n",
       "                0.0784313725490196,\n",
       "                \"rgba(16, 9, 45, 1.000)\"\n",
       "            ],\n",
       "            [\n",
       "                0.08235294117647059,\n",
       "                \"rgba(17, 10, 48, 1.000)\"\n",
       "            ],\n",
       "            [\n",
       "                0.08627450980392157,\n",
       "                \"rgba(18, 10, 50, 1.000)\"\n",
       "            ],\n",
       "            [\n",
       "                0.09019607843137255,\n",
       "                \"rgba(20, 11, 52, 1.000)\"\n",
       "            ],\n",
       "            [\n",
       "                0.09411764705882353,\n",
       "                \"rgba(21, 11, 55, 1.000)\"\n",
       "            ],\n",
       "            [\n",
       "                0.09803921568627451,\n",
       "                \"rgba(22, 11, 57, 1.000)\"\n",
       "            ],\n",
       "            [\n",
       "                0.10196078431372549,\n",
       "                \"rgba(24, 12, 60, 1.000)\"\n",
       "            ],\n",
       "            [\n",
       "                0.10588235294117647,\n",
       "                \"rgba(25, 12, 62, 1.000)\"\n",
       "            ],\n",
       "            [\n",
       "                0.10980392156862745,\n",
       "                \"rgba(27, 12, 65, 1.000)\"\n",
       "            ],\n",
       "            [\n",
       "                0.11372549019607843,\n",
       "                \"rgba(28, 12, 67, 1.000)\"\n",
       "            ],\n",
       "            [\n",
       "                0.11764705882352941,\n",
       "                \"rgba(30, 12, 69, 1.000)\"\n",
       "            ],\n",
       "            [\n",
       "                0.12156862745098039,\n",
       "                \"rgba(31, 12, 72, 1.000)\"\n",
       "            ],\n",
       "            [\n",
       "                0.12549019607843137,\n",
       "                \"rgba(33, 12, 74, 1.000)\"\n",
       "            ],\n",
       "            [\n",
       "                0.12941176470588237,\n",
       "                \"rgba(35, 12, 76, 1.000)\"\n",
       "            ],\n",
       "            [\n",
       "                0.13333333333333333,\n",
       "                \"rgba(36, 12, 79, 1.000)\"\n",
       "            ],\n",
       "            [\n",
       "                0.13725490196078433,\n",
       "                \"rgba(38, 12, 81, 1.000)\"\n",
       "            ],\n",
       "            [\n",
       "                0.1411764705882353,\n",
       "                \"rgba(40, 11, 83, 1.000)\"\n",
       "            ],\n",
       "            [\n",
       "                0.1450980392156863,\n",
       "                \"rgba(41, 11, 85, 1.000)\"\n",
       "            ],\n",
       "            [\n",
       "                0.14901960784313725,\n",
       "                \"rgba(43, 11, 87, 1.000)\"\n",
       "            ],\n",
       "            [\n",
       "                0.15294117647058825,\n",
       "                \"rgba(45, 11, 89, 1.000)\"\n",
       "            ],\n",
       "            [\n",
       "                0.1568627450980392,\n",
       "                \"rgba(47, 10, 91, 1.000)\"\n",
       "            ],\n",
       "            [\n",
       "                0.1607843137254902,\n",
       "                \"rgba(49, 10, 92, 1.000)\"\n",
       "            ],\n",
       "            [\n",
       "                0.16470588235294117,\n",
       "                \"rgba(50, 10, 94, 1.000)\"\n",
       "            ],\n",
       "            [\n",
       "                0.16862745098039217,\n",
       "                \"rgba(52, 10, 95, 1.000)\"\n",
       "            ],\n",
       "            [\n",
       "                0.17254901960784313,\n",
       "                \"rgba(54, 9, 97, 1.000)\"\n",
       "            ],\n",
       "            [\n",
       "                0.17647058823529413,\n",
       "                \"rgba(56, 9, 98, 1.000)\"\n",
       "            ],\n",
       "            [\n",
       "                0.1803921568627451,\n",
       "                \"rgba(57, 9, 99, 1.000)\"\n",
       "            ],\n",
       "            [\n",
       "                0.1843137254901961,\n",
       "                \"rgba(59, 9, 100, 1.000)\"\n",
       "            ],\n",
       "            [\n",
       "                0.18823529411764706,\n",
       "                \"rgba(61, 9, 101, 1.000)\"\n",
       "            ],\n",
       "            [\n",
       "                0.19215686274509805,\n",
       "                \"rgba(62, 9, 102, 1.000)\"\n",
       "            ],\n",
       "            [\n",
       "                0.19607843137254902,\n",
       "                \"rgba(64, 10, 103, 1.000)\"\n",
       "            ],\n",
       "            [\n",
       "                0.2,\n",
       "                \"rgba(66, 10, 104, 1.000)\"\n",
       "            ],\n",
       "            [\n",
       "                0.20392156862745098,\n",
       "                \"rgba(68, 10, 104, 1.000)\"\n",
       "            ],\n",
       "            [\n",
       "                0.20784313725490197,\n",
       "                \"rgba(69, 10, 105, 1.000)\"\n",
       "            ],\n",
       "            [\n",
       "                0.21176470588235294,\n",
       "                \"rgba(71, 11, 106, 1.000)\"\n",
       "            ],\n",
       "            [\n",
       "                0.21568627450980393,\n",
       "                \"rgba(73, 11, 106, 1.000)\"\n",
       "            ],\n",
       "            [\n",
       "                0.2196078431372549,\n",
       "                \"rgba(74, 12, 107, 1.000)\"\n",
       "            ],\n",
       "            [\n",
       "                0.2235294117647059,\n",
       "                \"rgba(76, 12, 107, 1.000)\"\n",
       "            ],\n",
       "            [\n",
       "                0.22745098039215686,\n",
       "                \"rgba(77, 13, 108, 1.000)\"\n",
       "            ],\n",
       "            [\n",
       "                0.23137254901960785,\n",
       "                \"rgba(79, 13, 108, 1.000)\"\n",
       "            ],\n",
       "            [\n",
       "                0.23529411764705882,\n",
       "                \"rgba(81, 14, 108, 1.000)\"\n",
       "            ],\n",
       "            [\n",
       "                0.23921568627450981,\n",
       "                \"rgba(82, 14, 109, 1.000)\"\n",
       "            ],\n",
       "            [\n",
       "                0.24313725490196078,\n",
       "                \"rgba(84, 15, 109, 1.000)\"\n",
       "            ],\n",
       "            [\n",
       "                0.24705882352941178,\n",
       "                \"rgba(85, 15, 109, 1.000)\"\n",
       "            ],\n",
       "            [\n",
       "                0.25098039215686274,\n",
       "                \"rgba(87, 16, 110, 1.000)\"\n",
       "            ],\n",
       "            [\n",
       "                0.2549019607843137,\n",
       "                \"rgba(89, 16, 110, 1.000)\"\n",
       "            ],\n",
       "            [\n",
       "                0.25882352941176473,\n",
       "                \"rgba(90, 17, 110, 1.000)\"\n",
       "            ],\n",
       "            [\n",
       "                0.2627450980392157,\n",
       "                \"rgba(92, 18, 110, 1.000)\"\n",
       "            ],\n",
       "            [\n",
       "                0.26666666666666666,\n",
       "                \"rgba(93, 18, 110, 1.000)\"\n",
       "            ],\n",
       "            [\n",
       "                0.27058823529411763,\n",
       "                \"rgba(95, 19, 110, 1.000)\"\n",
       "            ],\n",
       "            [\n",
       "                0.27450980392156865,\n",
       "                \"rgba(97, 19, 110, 1.000)\"\n",
       "            ],\n",
       "            [\n",
       "                0.2784313725490196,\n",
       "                \"rgba(98, 20, 110, 1.000)\"\n",
       "            ],\n",
       "            [\n",
       "                0.2823529411764706,\n",
       "                \"rgba(100, 21, 110, 1.000)\"\n",
       "            ],\n",
       "            [\n",
       "                0.28627450980392155,\n",
       "                \"rgba(101, 21, 110, 1.000)\"\n",
       "            ],\n",
       "            [\n",
       "                0.2901960784313726,\n",
       "                \"rgba(103, 22, 110, 1.000)\"\n",
       "            ],\n",
       "            [\n",
       "                0.29411764705882354,\n",
       "                \"rgba(105, 22, 110, 1.000)\"\n",
       "            ],\n",
       "            [\n",
       "                0.2980392156862745,\n",
       "                \"rgba(106, 23, 110, 1.000)\"\n",
       "            ],\n",
       "            [\n",
       "                0.30196078431372547,\n",
       "                \"rgba(108, 24, 110, 1.000)\"\n",
       "            ],\n",
       "            [\n",
       "                0.3058823529411765,\n",
       "                \"rgba(109, 24, 110, 1.000)\"\n",
       "            ],\n",
       "            [\n",
       "                0.30980392156862746,\n",
       "                \"rgba(111, 25, 110, 1.000)\"\n",
       "            ],\n",
       "            [\n",
       "                0.3137254901960784,\n",
       "                \"rgba(113, 25, 110, 1.000)\"\n",
       "            ],\n",
       "            [\n",
       "                0.3176470588235294,\n",
       "                \"rgba(114, 26, 110, 1.000)\"\n",
       "            ],\n",
       "            [\n",
       "                0.3215686274509804,\n",
       "                \"rgba(116, 26, 110, 1.000)\"\n",
       "            ],\n",
       "            [\n",
       "                0.3254901960784314,\n",
       "                \"rgba(117, 27, 110, 1.000)\"\n",
       "            ],\n",
       "            [\n",
       "                0.32941176470588235,\n",
       "                \"rgba(119, 28, 109, 1.000)\"\n",
       "            ],\n",
       "            [\n",
       "                0.3333333333333333,\n",
       "                \"rgba(120, 28, 109, 1.000)\"\n",
       "            ],\n",
       "            [\n",
       "                0.33725490196078434,\n",
       "                \"rgba(122, 29, 109, 1.000)\"\n",
       "            ],\n",
       "            [\n",
       "                0.3411764705882353,\n",
       "                \"rgba(124, 29, 109, 1.000)\"\n",
       "            ],\n",
       "            [\n",
       "                0.34509803921568627,\n",
       "                \"rgba(125, 30, 109, 1.000)\"\n",
       "            ],\n",
       "            [\n",
       "                0.34901960784313724,\n",
       "                \"rgba(127, 30, 108, 1.000)\"\n",
       "            ],\n",
       "            [\n",
       "                0.35294117647058826,\n",
       "                \"rgba(128, 31, 108, 1.000)\"\n",
       "            ],\n",
       "            [\n",
       "                0.3568627450980392,\n",
       "                \"rgba(130, 32, 108, 1.000)\"\n",
       "            ],\n",
       "            [\n",
       "                0.3607843137254902,\n",
       "                \"rgba(132, 32, 107, 1.000)\"\n",
       "            ],\n",
       "            [\n",
       "                0.36470588235294116,\n",
       "                \"rgba(133, 33, 107, 1.000)\"\n",
       "            ],\n",
       "            [\n",
       "                0.3686274509803922,\n",
       "                \"rgba(135, 33, 107, 1.000)\"\n",
       "            ],\n",
       "            [\n",
       "                0.37254901960784315,\n",
       "                \"rgba(136, 34, 106, 1.000)\"\n",
       "            ],\n",
       "            [\n",
       "                0.3764705882352941,\n",
       "                \"rgba(138, 34, 106, 1.000)\"\n",
       "            ],\n",
       "            [\n",
       "                0.3803921568627451,\n",
       "                \"rgba(140, 35, 105, 1.000)\"\n",
       "            ],\n",
       "            [\n",
       "                0.3843137254901961,\n",
       "                \"rgba(141, 35, 105, 1.000)\"\n",
       "            ],\n",
       "            [\n",
       "                0.38823529411764707,\n",
       "                \"rgba(143, 36, 105, 1.000)\"\n",
       "            ],\n",
       "            [\n",
       "                0.39215686274509803,\n",
       "                \"rgba(144, 37, 104, 1.000)\"\n",
       "            ],\n",
       "            [\n",
       "                0.396078431372549,\n",
       "                \"rgba(146, 37, 104, 1.000)\"\n",
       "            ],\n",
       "            [\n",
       "                0.4,\n",
       "                \"rgba(147, 38, 103, 1.000)\"\n",
       "            ],\n",
       "            [\n",
       "                0.403921568627451,\n",
       "                \"rgba(149, 38, 103, 1.000)\"\n",
       "            ],\n",
       "            [\n",
       "                0.40784313725490196,\n",
       "                \"rgba(151, 39, 102, 1.000)\"\n",
       "            ],\n",
       "            [\n",
       "                0.4117647058823529,\n",
       "                \"rgba(152, 39, 102, 1.000)\"\n",
       "            ],\n",
       "            [\n",
       "                0.41568627450980394,\n",
       "                \"rgba(154, 40, 101, 1.000)\"\n",
       "            ],\n",
       "            [\n",
       "                0.4196078431372549,\n",
       "                \"rgba(155, 41, 100, 1.000)\"\n",
       "            ],\n",
       "            [\n",
       "                0.4235294117647059,\n",
       "                \"rgba(157, 41, 100, 1.000)\"\n",
       "            ],\n",
       "            [\n",
       "                0.42745098039215684,\n",
       "                \"rgba(159, 42, 99, 1.000)\"\n",
       "            ],\n",
       "            [\n",
       "                0.43137254901960786,\n",
       "                \"rgba(160, 42, 99, 1.000)\"\n",
       "            ],\n",
       "            [\n",
       "                0.43529411764705883,\n",
       "                \"rgba(162, 43, 98, 1.000)\"\n",
       "            ],\n",
       "            [\n",
       "                0.4392156862745098,\n",
       "                \"rgba(163, 44, 97, 1.000)\"\n",
       "            ],\n",
       "            [\n",
       "                0.44313725490196076,\n",
       "                \"rgba(165, 44, 96, 1.000)\"\n",
       "            ],\n",
       "            [\n",
       "                0.4470588235294118,\n",
       "                \"rgba(166, 45, 96, 1.000)\"\n",
       "            ],\n",
       "            [\n",
       "                0.45098039215686275,\n",
       "                \"rgba(168, 46, 95, 1.000)\"\n",
       "            ],\n",
       "            [\n",
       "                0.4549019607843137,\n",
       "                \"rgba(169, 46, 94, 1.000)\"\n",
       "            ],\n",
       "            [\n",
       "                0.4588235294117647,\n",
       "                \"rgba(171, 47, 94, 1.000)\"\n",
       "            ],\n",
       "            [\n",
       "                0.4627450980392157,\n",
       "                \"rgba(173, 48, 93, 1.000)\"\n",
       "            ],\n",
       "            [\n",
       "                0.4666666666666667,\n",
       "                \"rgba(174, 48, 92, 1.000)\"\n",
       "            ],\n",
       "            [\n",
       "                0.47058823529411764,\n",
       "                \"rgba(176, 49, 91, 1.000)\"\n",
       "            ],\n",
       "            [\n",
       "                0.4745098039215686,\n",
       "                \"rgba(177, 50, 90, 1.000)\"\n",
       "            ],\n",
       "            [\n",
       "                0.47843137254901963,\n",
       "                \"rgba(179, 50, 90, 1.000)\"\n",
       "            ],\n",
       "            [\n",
       "                0.4823529411764706,\n",
       "                \"rgba(180, 51, 89, 1.000)\"\n",
       "            ],\n",
       "            [\n",
       "                0.48627450980392156,\n",
       "                \"rgba(182, 52, 88, 1.000)\"\n",
       "            ],\n",
       "            [\n",
       "                0.49019607843137253,\n",
       "                \"rgba(183, 53, 87, 1.000)\"\n",
       "            ],\n",
       "            [\n",
       "                0.49411764705882355,\n",
       "                \"rgba(185, 53, 86, 1.000)\"\n",
       "            ],\n",
       "            [\n",
       "                0.4980392156862745,\n",
       "                \"rgba(186, 54, 85, 1.000)\"\n",
       "            ],\n",
       "            [\n",
       "                0.5019607843137255,\n",
       "                \"rgba(188, 55, 84, 1.000)\"\n",
       "            ],\n",
       "            [\n",
       "                0.5058823529411764,\n",
       "                \"rgba(189, 56, 83, 1.000)\"\n",
       "            ],\n",
       "            [\n",
       "                0.5098039215686274,\n",
       "                \"rgba(191, 57, 82, 1.000)\"\n",
       "            ],\n",
       "            [\n",
       "                0.5137254901960784,\n",
       "                \"rgba(192, 58, 81, 1.000)\"\n",
       "            ],\n",
       "            [\n",
       "                0.5176470588235295,\n",
       "                \"rgba(193, 58, 80, 1.000)\"\n",
       "            ],\n",
       "            [\n",
       "                0.5215686274509804,\n",
       "                \"rgba(195, 59, 79, 1.000)\"\n",
       "            ],\n",
       "            [\n",
       "                0.5254901960784314,\n",
       "                \"rgba(196, 60, 78, 1.000)\"\n",
       "            ],\n",
       "            [\n",
       "                0.5294117647058824,\n",
       "                \"rgba(198, 61, 77, 1.000)\"\n",
       "            ],\n",
       "            [\n",
       "                0.5333333333333333,\n",
       "                \"rgba(199, 62, 76, 1.000)\"\n",
       "            ],\n",
       "            [\n",
       "                0.5372549019607843,\n",
       "                \"rgba(200, 63, 75, 1.000)\"\n",
       "            ],\n",
       "            [\n",
       "                0.5411764705882353,\n",
       "                \"rgba(202, 64, 74, 1.000)\"\n",
       "            ],\n",
       "            [\n",
       "                0.5450980392156862,\n",
       "                \"rgba(203, 65, 73, 1.000)\"\n",
       "            ],\n",
       "            [\n",
       "                0.5490196078431373,\n",
       "                \"rgba(204, 66, 72, 1.000)\"\n",
       "            ],\n",
       "            [\n",
       "                0.5529411764705883,\n",
       "                \"rgba(206, 67, 71, 1.000)\"\n",
       "            ],\n",
       "            [\n",
       "                0.5568627450980392,\n",
       "                \"rgba(207, 68, 70, 1.000)\"\n",
       "            ],\n",
       "            [\n",
       "                0.5607843137254902,\n",
       "                \"rgba(208, 69, 69, 1.000)\"\n",
       "            ],\n",
       "            [\n",
       "                0.5647058823529412,\n",
       "                \"rgba(210, 70, 68, 1.000)\"\n",
       "            ],\n",
       "            [\n",
       "                0.5686274509803921,\n",
       "                \"rgba(211, 71, 67, 1.000)\"\n",
       "            ],\n",
       "            [\n",
       "                0.5725490196078431,\n",
       "                \"rgba(212, 72, 66, 1.000)\"\n",
       "            ],\n",
       "            [\n",
       "                0.5764705882352941,\n",
       "                \"rgba(213, 74, 65, 1.000)\"\n",
       "            ],\n",
       "            [\n",
       "                0.5803921568627451,\n",
       "                \"rgba(215, 75, 63, 1.000)\"\n",
       "            ],\n",
       "            [\n",
       "                0.5843137254901961,\n",
       "                \"rgba(216, 76, 62, 1.000)\"\n",
       "            ],\n",
       "            [\n",
       "                0.5882352941176471,\n",
       "                \"rgba(217, 77, 61, 1.000)\"\n",
       "            ],\n",
       "            [\n",
       "                0.592156862745098,\n",
       "                \"rgba(218, 78, 60, 1.000)\"\n",
       "            ],\n",
       "            [\n",
       "                0.596078431372549,\n",
       "                \"rgba(219, 80, 59, 1.000)\"\n",
       "            ],\n",
       "            [\n",
       "                0.6,\n",
       "                \"rgba(221, 81, 58, 1.000)\"\n",
       "            ],\n",
       "            [\n",
       "                0.6039215686274509,\n",
       "                \"rgba(222, 82, 56, 1.000)\"\n",
       "            ],\n",
       "            [\n",
       "                0.6078431372549019,\n",
       "                \"rgba(223, 83, 55, 1.000)\"\n",
       "            ],\n",
       "            [\n",
       "                0.611764705882353,\n",
       "                \"rgba(224, 85, 54, 1.000)\"\n",
       "            ],\n",
       "            [\n",
       "                0.615686274509804,\n",
       "                \"rgba(225, 86, 53, 1.000)\"\n",
       "            ],\n",
       "            [\n",
       "                0.6196078431372549,\n",
       "                \"rgba(226, 87, 52, 1.000)\"\n",
       "            ],\n",
       "            [\n",
       "                0.6235294117647059,\n",
       "                \"rgba(227, 89, 51, 1.000)\"\n",
       "            ],\n",
       "            [\n",
       "                0.6274509803921569,\n",
       "                \"rgba(228, 90, 49, 1.000)\"\n",
       "            ],\n",
       "            [\n",
       "                0.6313725490196078,\n",
       "                \"rgba(229, 92, 48, 1.000)\"\n",
       "            ],\n",
       "            [\n",
       "                0.6352941176470588,\n",
       "                \"rgba(230, 93, 47, 1.000)\"\n",
       "            ],\n",
       "            [\n",
       "                0.6392156862745098,\n",
       "                \"rgba(231, 94, 46, 1.000)\"\n",
       "            ],\n",
       "            [\n",
       "                0.6431372549019608,\n",
       "                \"rgba(232, 96, 45, 1.000)\"\n",
       "            ],\n",
       "            [\n",
       "                0.6470588235294118,\n",
       "                \"rgba(233, 97, 43, 1.000)\"\n",
       "            ],\n",
       "            [\n",
       "                0.6509803921568628,\n",
       "                \"rgba(234, 99, 42, 1.000)\"\n",
       "            ],\n",
       "            [\n",
       "                0.6549019607843137,\n",
       "                \"rgba(235, 100, 41, 1.000)\"\n",
       "            ],\n",
       "            [\n",
       "                0.6588235294117647,\n",
       "                \"rgba(235, 102, 40, 1.000)\"\n",
       "            ],\n",
       "            [\n",
       "                0.6627450980392157,\n",
       "                \"rgba(236, 103, 38, 1.000)\"\n",
       "            ],\n",
       "            [\n",
       "                0.6666666666666666,\n",
       "                \"rgba(237, 105, 37, 1.000)\"\n",
       "            ],\n",
       "            [\n",
       "                0.6705882352941176,\n",
       "                \"rgba(238, 106, 36, 1.000)\"\n",
       "            ],\n",
       "            [\n",
       "                0.6745098039215687,\n",
       "                \"rgba(239, 108, 35, 1.000)\"\n",
       "            ],\n",
       "            [\n",
       "                0.6784313725490196,\n",
       "                \"rgba(239, 110, 33, 1.000)\"\n",
       "            ],\n",
       "            [\n",
       "                0.6823529411764706,\n",
       "                \"rgba(240, 111, 32, 1.000)\"\n",
       "            ],\n",
       "            [\n",
       "                0.6862745098039216,\n",
       "                \"rgba(241, 113, 31, 1.000)\"\n",
       "            ],\n",
       "            [\n",
       "                0.6901960784313725,\n",
       "                \"rgba(241, 115, 29, 1.000)\"\n",
       "            ],\n",
       "            [\n",
       "                0.6941176470588235,\n",
       "                \"rgba(242, 116, 28, 1.000)\"\n",
       "            ],\n",
       "            [\n",
       "                0.6980392156862745,\n",
       "                \"rgba(243, 118, 27, 1.000)\"\n",
       "            ],\n",
       "            [\n",
       "                0.7019607843137254,\n",
       "                \"rgba(243, 120, 25, 1.000)\"\n",
       "            ],\n",
       "            [\n",
       "                0.7058823529411765,\n",
       "                \"rgba(244, 121, 24, 1.000)\"\n",
       "            ],\n",
       "            [\n",
       "                0.7098039215686275,\n",
       "                \"rgba(245, 123, 23, 1.000)\"\n",
       "            ],\n",
       "            [\n",
       "                0.7137254901960784,\n",
       "                \"rgba(245, 125, 21, 1.000)\"\n",
       "            ],\n",
       "            [\n",
       "                0.7176470588235294,\n",
       "                \"rgba(246, 126, 20, 1.000)\"\n",
       "            ],\n",
       "            [\n",
       "                0.7215686274509804,\n",
       "                \"rgba(246, 128, 19, 1.000)\"\n",
       "            ],\n",
       "            [\n",
       "                0.7254901960784313,\n",
       "                \"rgba(247, 130, 18, 1.000)\"\n",
       "            ],\n",
       "            [\n",
       "                0.7294117647058823,\n",
       "                \"rgba(247, 132, 16, 1.000)\"\n",
       "            ],\n",
       "            [\n",
       "                0.7333333333333333,\n",
       "                \"rgba(248, 133, 15, 1.000)\"\n",
       "            ],\n",
       "            [\n",
       "                0.7372549019607844,\n",
       "                \"rgba(248, 135, 14, 1.000)\"\n",
       "            ],\n",
       "            [\n",
       "                0.7411764705882353,\n",
       "                \"rgba(248, 137, 12, 1.000)\"\n",
       "            ],\n",
       "            [\n",
       "                0.7450980392156863,\n",
       "                \"rgba(249, 139, 11, 1.000)\"\n",
       "            ],\n",
       "            [\n",
       "                0.7490196078431373,\n",
       "                \"rgba(249, 140, 10, 1.000)\"\n",
       "            ],\n",
       "            [\n",
       "                0.7529411764705882,\n",
       "                \"rgba(249, 142, 9, 1.000)\"\n",
       "            ],\n",
       "            [\n",
       "                0.7568627450980392,\n",
       "                \"rgba(250, 144, 8, 1.000)\"\n",
       "            ],\n",
       "            [\n",
       "                0.7607843137254902,\n",
       "                \"rgba(250, 146, 7, 1.000)\"\n",
       "            ],\n",
       "            [\n",
       "                0.7647058823529411,\n",
       "                \"rgba(250, 148, 7, 1.000)\"\n",
       "            ],\n",
       "            [\n",
       "                0.7686274509803922,\n",
       "                \"rgba(251, 150, 6, 1.000)\"\n",
       "            ],\n",
       "            [\n",
       "                0.7725490196078432,\n",
       "                \"rgba(251, 151, 6, 1.000)\"\n",
       "            ],\n",
       "            [\n",
       "                0.7764705882352941,\n",
       "                \"rgba(251, 153, 6, 1.000)\"\n",
       "            ],\n",
       "            [\n",
       "                0.7803921568627451,\n",
       "                \"rgba(251, 155, 6, 1.000)\"\n",
       "            ],\n",
       "            [\n",
       "                0.7843137254901961,\n",
       "                \"rgba(251, 157, 7, 1.000)\"\n",
       "            ],\n",
       "            [\n",
       "                0.788235294117647,\n",
       "                \"rgba(252, 159, 7, 1.000)\"\n",
       "            ],\n",
       "            [\n",
       "                0.792156862745098,\n",
       "                \"rgba(252, 161, 8, 1.000)\"\n",
       "            ],\n",
       "            [\n",
       "                0.796078431372549,\n",
       "                \"rgba(252, 163, 9, 1.000)\"\n",
       "            ],\n",
       "            [\n",
       "                0.8,\n",
       "                \"rgba(252, 165, 10, 1.000)\"\n",
       "            ],\n",
       "            [\n",
       "                0.803921568627451,\n",
       "                \"rgba(252, 166, 12, 1.000)\"\n",
       "            ],\n",
       "            [\n",
       "                0.807843137254902,\n",
       "                \"rgba(252, 168, 13, 1.000)\"\n",
       "            ],\n",
       "            [\n",
       "                0.8117647058823529,\n",
       "                \"rgba(252, 170, 15, 1.000)\"\n",
       "            ],\n",
       "            [\n",
       "                0.8156862745098039,\n",
       "                \"rgba(252, 172, 17, 1.000)\"\n",
       "            ],\n",
       "            [\n",
       "                0.8196078431372549,\n",
       "                \"rgba(252, 174, 18, 1.000)\"\n",
       "            ],\n",
       "            [\n",
       "                0.8235294117647058,\n",
       "                \"rgba(252, 176, 20, 1.000)\"\n",
       "            ],\n",
       "            [\n",
       "                0.8274509803921568,\n",
       "                \"rgba(252, 178, 22, 1.000)\"\n",
       "            ],\n",
       "            [\n",
       "                0.8313725490196079,\n",
       "                \"rgba(252, 180, 24, 1.000)\"\n",
       "            ],\n",
       "            [\n",
       "                0.8352941176470589,\n",
       "                \"rgba(251, 182, 26, 1.000)\"\n",
       "            ],\n",
       "            [\n",
       "                0.8392156862745098,\n",
       "                \"rgba(251, 184, 29, 1.000)\"\n",
       "            ],\n",
       "            [\n",
       "                0.8431372549019608,\n",
       "                \"rgba(251, 186, 31, 1.000)\"\n",
       "            ],\n",
       "            [\n",
       "                0.8470588235294118,\n",
       "                \"rgba(251, 188, 33, 1.000)\"\n",
       "            ],\n",
       "            [\n",
       "                0.8509803921568627,\n",
       "                \"rgba(251, 190, 35, 1.000)\"\n",
       "            ],\n",
       "            [\n",
       "                0.8549019607843137,\n",
       "                \"rgba(250, 192, 38, 1.000)\"\n",
       "            ],\n",
       "            [\n",
       "                0.8588235294117647,\n",
       "                \"rgba(250, 194, 40, 1.000)\"\n",
       "            ],\n",
       "            [\n",
       "                0.8627450980392157,\n",
       "                \"rgba(250, 196, 42, 1.000)\"\n",
       "            ],\n",
       "            [\n",
       "                0.8666666666666667,\n",
       "                \"rgba(250, 198, 45, 1.000)\"\n",
       "            ],\n",
       "            [\n",
       "                0.8705882352941177,\n",
       "                \"rgba(249, 199, 47, 1.000)\"\n",
       "            ],\n",
       "            [\n",
       "                0.8745098039215686,\n",
       "                \"rgba(249, 201, 50, 1.000)\"\n",
       "            ],\n",
       "            [\n",
       "                0.8784313725490196,\n",
       "                \"rgba(249, 203, 53, 1.000)\"\n",
       "            ],\n",
       "            [\n",
       "                0.8823529411764706,\n",
       "                \"rgba(248, 205, 55, 1.000)\"\n",
       "            ],\n",
       "            [\n",
       "                0.8862745098039215,\n",
       "                \"rgba(248, 207, 58, 1.000)\"\n",
       "            ],\n",
       "            [\n",
       "                0.8901960784313725,\n",
       "                \"rgba(247, 209, 61, 1.000)\"\n",
       "            ],\n",
       "            [\n",
       "                0.8941176470588236,\n",
       "                \"rgba(247, 211, 64, 1.000)\"\n",
       "            ],\n",
       "            [\n",
       "                0.8980392156862745,\n",
       "                \"rgba(246, 213, 67, 1.000)\"\n",
       "            ],\n",
       "            [\n",
       "                0.9019607843137255,\n",
       "                \"rgba(246, 215, 70, 1.000)\"\n",
       "            ],\n",
       "            [\n",
       "                0.9058823529411765,\n",
       "                \"rgba(245, 217, 73, 1.000)\"\n",
       "            ],\n",
       "            [\n",
       "                0.9098039215686274,\n",
       "                \"rgba(245, 219, 76, 1.000)\"\n",
       "            ],\n",
       "            [\n",
       "                0.9137254901960784,\n",
       "                \"rgba(244, 221, 79, 1.000)\"\n",
       "            ],\n",
       "            [\n",
       "                0.9176470588235294,\n",
       "                \"rgba(244, 223, 83, 1.000)\"\n",
       "            ],\n",
       "            [\n",
       "                0.9215686274509803,\n",
       "                \"rgba(244, 225, 86, 1.000)\"\n",
       "            ],\n",
       "            [\n",
       "                0.9254901960784314,\n",
       "                \"rgba(243, 227, 90, 1.000)\"\n",
       "            ],\n",
       "            [\n",
       "                0.9294117647058824,\n",
       "                \"rgba(243, 229, 93, 1.000)\"\n",
       "            ],\n",
       "            [\n",
       "                0.9333333333333333,\n",
       "                \"rgba(242, 230, 97, 1.000)\"\n",
       "            ],\n",
       "            [\n",
       "                0.9372549019607843,\n",
       "                \"rgba(242, 232, 101, 1.000)\"\n",
       "            ],\n",
       "            [\n",
       "                0.9411764705882353,\n",
       "                \"rgba(242, 234, 105, 1.000)\"\n",
       "            ],\n",
       "            [\n",
       "                0.9450980392156862,\n",
       "                \"rgba(241, 236, 109, 1.000)\"\n",
       "            ],\n",
       "            [\n",
       "                0.9490196078431372,\n",
       "                \"rgba(241, 237, 113, 1.000)\"\n",
       "            ],\n",
       "            [\n",
       "                0.9529411764705882,\n",
       "                \"rgba(241, 239, 117, 1.000)\"\n",
       "            ],\n",
       "            [\n",
       "                0.9568627450980393,\n",
       "                \"rgba(241, 241, 121, 1.000)\"\n",
       "            ],\n",
       "            [\n",
       "                0.9607843137254902,\n",
       "                \"rgba(242, 242, 125, 1.000)\"\n",
       "            ],\n",
       "            [\n",
       "                0.9647058823529412,\n",
       "                \"rgba(242, 244, 130, 1.000)\"\n",
       "            ],\n",
       "            [\n",
       "                0.9686274509803922,\n",
       "                \"rgba(243, 245, 134, 1.000)\"\n",
       "            ],\n",
       "            [\n",
       "                0.9725490196078431,\n",
       "                \"rgba(243, 246, 138, 1.000)\"\n",
       "            ],\n",
       "            [\n",
       "                0.9764705882352941,\n",
       "                \"rgba(244, 248, 142, 1.000)\"\n",
       "            ],\n",
       "            [\n",
       "                0.9803921568627451,\n",
       "                \"rgba(245, 249, 146, 1.000)\"\n",
       "            ],\n",
       "            [\n",
       "                0.984313725490196,\n",
       "                \"rgba(246, 250, 150, 1.000)\"\n",
       "            ],\n",
       "            [\n",
       "                0.9882352941176471,\n",
       "                \"rgba(248, 251, 154, 1.000)\"\n",
       "            ],\n",
       "            [\n",
       "                0.9921568627450981,\n",
       "                \"rgba(249, 252, 157, 1.000)\"\n",
       "            ],\n",
       "            [\n",
       "                0.996078431372549,\n",
       "                \"rgba(250, 253, 161, 1.000)\"\n",
       "            ],\n",
       "            [\n",
       "                1.0,\n",
       "                \"rgba(252, 255, 164, 1.000)\"\n",
       "            ]\n",
       "        ],\n",
       "        \"yaxis\": \"y\",\n",
       "        \"zaxis\": \"z\",\n",
       "        \"showscale\": false,\n",
       "        \"x\": [\n",
       "            10.0,\n",
       "            12.0,\n",
       "            14.0\n",
       "        ],\n",
       "        \"showlegend\": false,\n",
       "        \"name\": \"y1\",\n",
       "        \"opacity\": null,\n",
       "        \"zmin\": 6.0,\n",
       "        \"z\": [\n",
       "            [\n",
       "                6.0,\n",
       "                7.0,\n",
       "                8.0\n",
       "            ],\n",
       "            [\n",
       "                6.0,\n",
       "                7.0,\n",
       "                8.0\n",
       "            ],\n",
       "            [\n",
       "                6.0,\n",
       "                7.0,\n",
       "                8.0\n",
       "            ],\n",
       "            [\n",
       "                6.0,\n",
       "                7.0,\n",
       "                8.0\n",
       "            ],\n",
       "            [\n",
       "                6.0,\n",
       "                7.0,\n",
       "                8.0\n",
       "            ]\n",
       "        ],\n",
       "        \"zmax\": 8.0,\n",
       "        \"y\": [\n",
       "            -1.0,\n",
       "            -0.5,\n",
       "            0.0,\n",
       "            0.5,\n",
       "            1.0\n",
       "        ],\n",
       "        \"type\": \"surface\",\n",
       "        \"scene\": \"scene\"\n",
       "    }\n",
       "]\n",
       ", {\n",
       "    \"showlegend\": false,\n",
       "    \"paper_bgcolor\": \"rgba(255, 255, 255, 1.000)\",\n",
       "    \"annotations\": [\n",
       "        {\n",
       "            \"yanchor\": \"top\",\n",
       "            \"xanchor\": \"center\",\n",
       "            \"rotation\": -0.0,\n",
       "            \"y\": 1.0,\n",
       "            \"font\": {\n",
       "                \"color\": \"rgba(0, 0, 0, 1.000)\",\n",
       "                \"family\": \"sans-serif\",\n",
       "                \"size\": 20\n",
       "            },\n",
       "            \"yref\": \"paper\",\n",
       "            \"showarrow\": false,\n",
       "            \"text\": \"Maximum Bond Dimension\",\n",
       "            \"xref\": \"paper\",\n",
       "            \"x\": 0.5423611111111111\n",
       "        }\n",
       "    ],\n",
       "    \"height\": 400,\n",
       "    \"margin\": {\n",
       "        \"l\": 0,\n",
       "        \"b\": 20,\n",
       "        \"r\": 0,\n",
       "        \"t\": 20\n",
       "    },\n",
       "    \"plot_bgcolor\": \"rgba(255, 255, 255, 1.000)\",\n",
       "    \"scene\": {\n",
       "        \"camera\": {\n",
       "            \"eye\": {\n",
       "                \"y\": -1.4473430379886905,\n",
       "                \"z\": 1.3,\n",
       "                \"x\": 1.7248762652392398\n",
       "            },\n",
       "            \"projection\": \"orthographic\"\n",
       "        },\n",
       "        \"xaxis\": {\n",
       "            \"tickangle\": 0,\n",
       "            \"showline\": true,\n",
       "            \"gridcolor\": \"rgba(0, 0, 0, 0.100)\",\n",
       "            \"showticklabels\": true,\n",
       "            \"gridwidth\": 0.5,\n",
       "            \"titlefont\": {\n",
       "                \"color\": \"rgba(0, 0, 0, 1.000)\",\n",
       "                \"family\": \"sans-serif\",\n",
       "                \"size\": 15\n",
       "            },\n",
       "            \"visible\": true,\n",
       "            \"ticks\": \"inside\",\n",
       "            \"range\": [\n",
       "                10.0,\n",
       "                14.0\n",
       "            ],\n",
       "            \"tickmode\": \"array\",\n",
       "            \"tickvals\": [\n",
       "                10.0,\n",
       "                11.0,\n",
       "                12.0,\n",
       "                13.0,\n",
       "                14.0\n",
       "            ],\n",
       "            \"tickcolor\": \"rgb(0, 0, 0)\",\n",
       "            \"ticktext\": [\n",
       "                \"10\",\n",
       "                \"11\",\n",
       "                \"12\",\n",
       "                \"13\",\n",
       "                \"14\"\n",
       "            ],\n",
       "            \"linecolor\": \"rgba(0, 0, 0, 1.000)\",\n",
       "            \"showgrid\": true,\n",
       "            \"zeroline\": false,\n",
       "            \"type\": \"-\",\n",
       "            \"tickfont\": {\n",
       "                \"color\": \"rgba(0, 0, 0, 1.000)\",\n",
       "                \"family\": \"sans-serif\",\n",
       "                \"size\": 11\n",
       "            },\n",
       "            \"title\": \"System Size\",\n",
       "            \"zerolinecolor\": \"rgba(0, 0, 0, 1.000)\",\n",
       "            \"mirror\": false\n",
       "        },\n",
       "        \"domain\": {\n",
       "            \"y\": [\n",
       "                0.07581474190726165,\n",
       "                0.9415463692038496\n",
       "            ],\n",
       "            \"x\": [\n",
       "                0.09128390201224845,\n",
       "                0.9934383202099738\n",
       "            ]\n",
       "        },\n",
       "        \"yaxis\": {\n",
       "            \"tickangle\": 0,\n",
       "            \"showline\": true,\n",
       "            \"gridcolor\": \"rgba(0, 0, 0, 0.100)\",\n",
       "            \"showticklabels\": true,\n",
       "            \"gridwidth\": 0.5,\n",
       "            \"titlefont\": {\n",
       "                \"color\": \"rgba(0, 0, 0, 1.000)\",\n",
       "                \"family\": \"sans-serif\",\n",
       "                \"size\": 15\n",
       "            },\n",
       "            \"visible\": true,\n",
       "            \"ticks\": \"inside\",\n",
       "            \"range\": [\n",
       "                -1.0,\n",
       "                1.0\n",
       "            ],\n",
       "            \"tickmode\": \"array\",\n",
       "            \"tickvals\": [\n",
       "                -1.0,\n",
       "                -0.5,\n",
       "                0.0,\n",
       "                0.5,\n",
       "                1.0\n",
       "            ],\n",
       "            \"tickcolor\": \"rgb(0, 0, 0)\",\n",
       "            \"ticktext\": [\n",
       "                \"-1.0\",\n",
       "                \"-0.5\",\n",
       "                \"0.0\",\n",
       "                \"0.5\",\n",
       "                \"1.0\"\n",
       "            ],\n",
       "            \"linecolor\": \"rgba(0, 0, 0, 1.000)\",\n",
       "            \"showgrid\": true,\n",
       "            \"zeroline\": false,\n",
       "            \"type\": \"-\",\n",
       "            \"tickfont\": {\n",
       "                \"color\": \"rgba(0, 0, 0, 1.000)\",\n",
       "                \"family\": \"sans-serif\",\n",
       "                \"size\": 11\n",
       "            },\n",
       "            \"title\": \"Δ\",\n",
       "            \"zerolinecolor\": \"rgba(0, 0, 0, 1.000)\",\n",
       "            \"mirror\": false\n",
       "        },\n",
       "        \"zaxis\": {\n",
       "            \"tickangle\": 0,\n",
       "            \"showline\": true,\n",
       "            \"gridcolor\": \"rgba(0, 0, 0, 0.100)\",\n",
       "            \"showticklabels\": true,\n",
       "            \"gridwidth\": 0.5,\n",
       "            \"titlefont\": {\n",
       "                \"color\": \"rgba(0, 0, 0, 1.000)\",\n",
       "                \"family\": \"sans-serif\",\n",
       "                \"size\": 15\n",
       "            },\n",
       "            \"visible\": true,\n",
       "            \"ticks\": \"inside\",\n",
       "            \"range\": [\n",
       "                6.0,\n",
       "                8.0\n",
       "            ],\n",
       "            \"tickmode\": \"array\",\n",
       "            \"tickvals\": [\n",
       "                6.0,\n",
       "                6.5,\n",
       "                7.0,\n",
       "                7.5,\n",
       "                8.0\n",
       "            ],\n",
       "            \"tickcolor\": \"rgb(0, 0, 0)\",\n",
       "            \"ticktext\": [\n",
       "                \"6.0\",\n",
       "                \"6.5\",\n",
       "                \"7.0\",\n",
       "                \"7.5\",\n",
       "                \"8.0\"\n",
       "            ],\n",
       "            \"linecolor\": \"rgba(0, 0, 0, 1.000)\",\n",
       "            \"showgrid\": true,\n",
       "            \"zeroline\": false,\n",
       "            \"type\": \"-\",\n",
       "            \"tickfont\": {\n",
       "                \"color\": \"rgba(0, 0, 0, 1.000)\",\n",
       "                \"family\": \"sans-serif\",\n",
       "                \"size\": 11\n",
       "            },\n",
       "            \"title\": \"Maximum Bond Dimension\",\n",
       "            \"zerolinecolor\": \"rgba(0, 0, 0, 1.000)\",\n",
       "            \"mirror\": false\n",
       "        }\n",
       "    },\n",
       "    \"width\": 600\n",
       "}\n",
       ");\n",
       "        });\n",
       "    }\n",
       "    let plotlyloader = window.document.createElement(\"script\")\n",
       "    let src=\"https://requirejs.org/docs/release/2.3.7/minified/require.js\"\n",
       "    plotlyloader.addEventListener(\"load\", plots_jl_plotly_id_aa473c97_f112_4a98_9b4b_b6dfc92e0b41);\n",
       "    plotlyloader.src = src\n",
       "    document.querySelector(\"#id_aa473c97_f112_4a98_9b4b_b6dfc92e0b41\").appendChild(plotlyloader)\n",
       "    })()\n",
       "    </script>\n"
      ]
     },
     "metadata": {},
     "output_type": "display_data"
    }
   ],
   "source": [
    "println(\"--- Loading and Plotting from File ---\")\n",
    "plt = load_data_and_plot(filename)\n",
    "if plt !== nothing\n",
    "    display(plt)\n",
    "end"
   ]
  },
  {
   "cell_type": "code",
   "execution_count": null,
   "id": "f549e1c1",
   "metadata": {},
   "outputs": [],
   "source": []
  }
 ],
 "metadata": {
  "kernelspec": {
   "display_name": "Julia 1.11.7",
   "language": "julia",
   "name": "julia-1.11"
  },
  "language_info": {
   "file_extension": ".jl",
   "mimetype": "application/julia",
   "name": "julia",
   "version": "1.11.7"
  }
 },
 "nbformat": 4,
 "nbformat_minor": 5
}
