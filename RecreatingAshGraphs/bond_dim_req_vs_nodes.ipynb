{
 "cells": [
  {
   "cell_type": "markdown",
   "id": "99b58bb3",
   "metadata": {},
   "source": [
    "# Bond Dimension Required vs. Number of Nodes"
   ]
  },
  {
   "cell_type": "code",
   "execution_count": 1,
   "id": "6aa82406",
   "metadata": {},
   "outputs": [
    {
     "data": {
      "text/plain": [
       "write_data_as_json (generic function with 1 method)"
      ]
     },
     "metadata": {},
     "output_type": "display_data"
    }
   ],
   "source": [
    "include(\"../funcs/adjacency.jl\")  \n",
    "include(\"../funcs/mps.jl\")  \n",
    "include(\"../funcs/hamiltonian.jl\")\n",
    "include(\"../funcs/json.jl\")"
   ]
  },
  {
   "cell_type": "markdown",
   "id": "643854c4",
   "metadata": {},
   "source": [
    "## Params"
   ]
  },
  {
   "cell_type": "code",
   "execution_count": null,
   "id": "b037aa6d",
   "metadata": {},
   "outputs": [],
   "source": [
    "num_graphs_to_avg = 10 # number of graphs to average over for each (N, σ) pair\n",
    "N_vals = 10:2:100 # number of nodes to test\n",
    "σ_vals = [0.0, 0.001, 0.002] # sigma values to test for the adjacency martrix\n",
    "\n",
    "J = 1.0 # interaction strength\n",
    "Δ = 1.5 # anisotropy parameter\n",
    "\n",
    "\n"
   ]
  },
  {
   "cell_type": "markdown",
   "id": "e98f2177",
   "metadata": {},
   "source": [
    "# Generate MPOs"
   ]
  },
  {
   "cell_type": "code",
   "execution_count": null,
   "id": "9512dbda",
   "metadata": {},
   "outputs": [],
   "source": [
    "\n",
    "data = load_data_from_json(\"../data/bond_dim_vs_nodes_data.json\")\n",
    "display(data)"
   ]
  },
  {
   "cell_type": "code",
   "execution_count": null,
   "id": "4e72207e",
   "metadata": {},
   "outputs": [],
   "source": [
    "using ITensorMPS, ITensors\n",
    "using ProgressMeter\n",
    "import Statistics\n",
    "\n",
    "if data == nothing\n",
    "    data = Dict() # {σ => {N => (max_bond_dim, error)}}\n",
    "\n",
    "    total_iterations = length(N_vals) * length(σ_vals)\n",
    "    progress = Progress(total_iterations, desc=\"Calculating bond dimensions\")\n",
    "\n",
    "    for N in N_vals\n",
    "        for σ in σ_vals\n",
    "            local_averaging = σ != 0.0 ? num_graphs_to_avg : 1 # only bother averaging if we actually have randomness\n",
    "\n",
    "            bond_dims = Int[]\n",
    "            for _ in 1:local_averaging\n",
    "                wam = generate_fully_connected_wam(N, σ) # weighted adjacency matrix\n",
    "                ψ_mps, sites = create_MPS(N)\n",
    "                H = create_xxz_hamiltonian_mpo(N, wam, J, Δ, sites)\n",
    "                max_bond_dim = maxlinkdim(H) # maximum bond dimension of the MPO hamiltonian\n",
    "                push!(bond_dims, max_bond_dim)\n",
    "            end\n",
    "\n",
    "            avg_bond_dim = Statistics.mean(bond_dims) # average over local_averaging graphs\n",
    "            error = σ != 0.0 ? Statistics.std(bond_dims) : 0 # standard deviation if we have randomness, else 0\n",
    "\n",
    "            # create the sigma key if it doesn't exist\n",
    "            if !haskey(data, σ)\n",
    "                data[σ] = Dict()\n",
    "            end\n",
    "            data[σ][N] = (avg_bond_dim, error)\n",
    "\n",
    "            next!(progress)\n",
    "        end\n",
    "    end\n",
    "end"
   ]
  },
  {
   "cell_type": "code",
   "execution_count": null,
   "id": "00d70139",
   "metadata": {},
   "outputs": [],
   "source": [
    "# save the data in json format\n",
    "write_data_as_json(\"../data/bond_dim_vs_nodes_data.json\", data)"
   ]
  },
  {
   "cell_type": "code",
   "execution_count": null,
   "id": "c79ca61d",
   "metadata": {},
   "outputs": [],
   "source": [
    "# plot the data using plots\n",
    "using Plots\n",
    "\n",
    "σ_to_plot = [0.0, 0.002]\n",
    "\n",
    "# we should have all the sigma values on the same plot, we want avg_bond_dim vs N with error bars\n",
    "colors = [:red, :blue, :green, :orange, :purple]\n",
    "plt = plot(title=\"Maximum Bond Dimension vs Number of Nodes \\n (averaged over $num_graphs_to_avg graphs)\",\n",
    "    xlabel=\"Number of Nodes (N)\",\n",
    "    ylabel=\"Maximum Bond Dimension\",\n",
    "    legend=:topleft)\n",
    "\n",
    "for (i, σ) in enumerate(keys(data))\n",
    "    if !(σ in σ_to_plot)\n",
    "        continue\n",
    "    end\n",
    "    σ_data = data[σ]\n",
    "    N_vals = collect(keys(σ_data))\n",
    "    avg_bond_dims = [σ_data[N][1] for N in N_vals]\n",
    "    errors = [σ_data[N][2] for N in N_vals]\n",
    "\n",
    "    plot!(plt, N_vals, avg_bond_dims, \n",
    "          yerror=errors,\n",
    "          label=\"σ = $σ\", \n",
    "          color=colors[i % length(colors) + 1],\n",
    "          marker=:circle,\n",
    "          markersize=3,\n",
    "          linewidth=2)\n",
    "end\n",
    "savefig(plt, \"../assets/graphs/bond_dim_req_vs_nodes_ham_mpo.png\")\n",
    "display(plt)"
   ]
  },
  {
   "cell_type": "markdown",
   "id": "31df253b",
   "metadata": {},
   "source": [
    "# Same thing, but for Ground State MPS at sigma=0.0"
   ]
  },
  {
   "cell_type": "code",
   "execution_count": 2,
   "id": "e9bccbb0",
   "metadata": {},
   "outputs": [
    {
     "data": {
      "text/plain": [
       "true"
      ]
     },
     "metadata": {},
     "output_type": "display_data"
    }
   ],
   "source": [
    "# new parameters\n",
    "N_vals = 10:1:100 # number of nodes to test\n",
    "σ_vals = [0.0, 0.001, 0.002] # sigma values to test for the adjacency martrix\n",
    "\n",
    "num_graphs_to_avg = 5 # number of graphs to average over for each (N, σ) pair\n",
    "max_bond_dim = 1000 # maximum bond dimension for the MPS\n",
    "\n",
    "# Hamiltonian parameters - Heisenberg XXZ\n",
    "J = -0.5 # interaction strength\n",
    "Δ = 0.5 # anisotropy parameter\n",
    "\n",
    "RERUN = true"
   ]
  },
  {
   "cell_type": "code",
   "execution_count": null,
   "id": "b557a3b2",
   "metadata": {},
   "outputs": [
    {
     "data": {
      "text/plain": [
       "Dict{Any, Any} with 2 entries:\n",
       "  0.0   => Dict{Any, Any}(56=>(24.0, 0), 35=>(18.0, 0), 55=>(23.0, 0), 16=>(9.0…\n",
       "  0.002 => Dict{Any, Any}(56=>(24.0, NaN), 35=>(18.0, NaN), 55=>(23.0, NaN), 16…"
      ]
     },
     "metadata": {},
     "output_type": "display_data"
    }
   ],
   "source": [
    "# attempt to load data first \n",
    "using JLD2\n",
    "data_gs_mps = load(\"../data/bond_dim_vs_nodes_gs_mps_avg_$num_graphs_to_avg.jld2\", \"data_gs_mps\")"
   ]
  },
  {
   "cell_type": "code",
   "execution_count": 4,
   "id": "dfcd1caf",
   "metadata": {},
   "outputs": [
    {
     "name": "stdout",
     "output_type": "stream",
     "text": [
      "Active project: /Users/jamesneville-rolfe/Library/CloudStorage/GoogleDrive-james.nevillerolfe@gmail.com/My Drive/Documents/University/fourth_year/MSci-Project/Project.toml\n",
      "Julia threads: 8\n",
      "CPU cores: 8\n"
     ]
    }
   ],
   "source": [
    "using Pkg\n",
    "println(\"Active project: \", Pkg.project().path)\n",
    "println(\"Julia threads: \", Threads.nthreads())\n",
    "println(\"CPU cores: \", Sys.CPU_THREADS)"
   ]
  },
  {
   "cell_type": "code",
   "execution_count": null,
   "id": "d5e5ad6f",
   "metadata": {},
   "outputs": [
    {
     "name": "stdout",
     "output_type": "stream",
     "text": [
      "Using 8 threads for parallel computation.\n",
      "Thread 1 starting N index 25\n",
      "Thread 8 starting N index 59\n",
      "Thread 2 starting N index 1\n",
      "Thread 7 starting N index 48\n",
      "Thread 5 starting N index 37\n",
      "Thread 6 starting N index 13\n",
      "Thread 4 starting N index 81\n",
      "Thread 3 starting N index 70\n",
      "Completed N = 10 on thread 3. Progress: 3 / 273\n",
      "Thread 3 starting N index 2\n"
     ]
    },
    {
     "name": "stderr",
     "output_type": "stream",
     "text": [
      "\u001b[32mThread 3: Calculating bond dimensions for N=10 100%|█████| Time: 0:01:24\u001b[39m\u001b[K\n",
      "\u001b[32mThread 3: Calculating bond dimensions for N=11 100%|█████| Time: 0:00:57\u001b[39m\u001b[K\n"
     ]
    },
    {
     "name": "stdout",
     "output_type": "stream",
     "text": [
      "Completed N = 11 on thread 3. Progress: 6 / 273\n",
      "Thread 3 starting N index 3\n"
     ]
    },
    {
     "name": "stderr",
     "output_type": "stream",
     "text": [
      "\u001b[32mThread 3: Calculating bond dimensions for N=12  67%|███▍ |  ETA: 0:00:14\u001b[39m\u001b[K"
     ]
    }
   ],
   "source": [
    "\n",
    "using Base.Threads\n",
    "import Statistics\n",
    "using ITensorMPS, ITensors\n",
    "using ProgressMeter\n",
    "\n",
    "if data_gs_mps == nothing || RERUN\n",
    "\n",
    "\n",
    "    println(\"Using $(Threads.nthreads()) threads for parallel computation.\")\n",
    "    N_results = Vector{Any}(undef, length(N_vals))\n",
    "\n",
    "    completed = Threads.Atomic{Int}(0)\n",
    "    total_tasks = length(N_vals) * length(σ_vals)\n",
    "\n",
    "    total_iterations = length(N_vals) * length(σ_vals)\n",
    "\n",
    "    @threads for n_idx in 1:length(N_vals)\n",
    "        println(\"Thread $(Threads.threadid()) starting N index $n_idx\")\n",
    "        N = N_vals[n_idx]\n",
    "        N_data = Dict()\n",
    "        \n",
    "        thread_id = Threads.threadid()\n",
    "        progress = Progress(length(σ_vals), desc=\"Thread $thread_id: Calculating bond dimensions for N=$N\")\n",
    "\n",
    "        for σ in σ_vals\n",
    "            local_averaging = σ != 0.0 ? num_graphs_to_avg : 1\n",
    "            bond_dims = Int[]\n",
    "            \n",
    "            for _ in 1:local_averaging\n",
    "                wam = generate_fully_connected_wam(N, σ)\n",
    "                ψ_mps, sites = create_MPS(N)\n",
    "                H = create_xxz_hamiltonian_mpo(N, wam, J, Δ, sites)\n",
    "                energy, ψ_gs = solve_xxz_hamiltonian_dmrg(H, ψ_mps, 30, max_bond_dim, 1e-10)\n",
    "                bond_dim = maxlinkdim(ψ_gs)\n",
    "                push!(bond_dims, bond_dim)\n",
    "            end\n",
    "            \n",
    "            avg_bond_dim = Statistics.mean(bond_dims)\n",
    "            # standard error on the mean\n",
    "            if σ != 0.0\n",
    "                error = Statistics.std(bond_dims) / sqrt(length(bond_dims)) # std/sqrt(sample size)\n",
    "            else\n",
    "                error = 0.0\n",
    "            end\n",
    "            N_data[σ] = (avg_bond_dim, error)\n",
    "            next!(progress)\n",
    "        end\n",
    "        \n",
    "        Threads.atomic_add!(completed, length(σ_vals))\n",
    "\n",
    "        N_results[n_idx] = (N, N_data)\n",
    "        println(\"Completed N = $N on thread $(Threads.threadid()). Progress: $(completed[]) / $total_tasks\")\n",
    "    end\n",
    "    \n",
    "    data_gs_mps = Dict() # {σ => {N => (max_bond_dim, error)}}\n",
    "    # Combine results\n",
    "    for (N, N_data) in N_results\n",
    "        for (σ, values) in N_data\n",
    "            if !haskey(data_gs_mps, σ)\n",
    "                data_gs_mps[σ] = Dict()\n",
    "            end\n",
    "            data_gs_mps[σ][N] = values\n",
    "        end\n",
    "    end\n",
    "end"
   ]
  },
  {
   "cell_type": "code",
   "execution_count": null,
   "id": "904279ef",
   "metadata": {},
   "outputs": [],
   "source": [
    "using JLD2\n",
    "\n",
    "# Save data\n",
    "jldsave(\"../data/bond_dim_vs_nodes_gs_mps.jld2\"; data_gs_mps)"
   ]
  },
  {
   "cell_type": "code",
   "execution_count": null,
   "id": "5345011f",
   "metadata": {},
   "outputs": [],
   "source": [
    "# then plot the data\n",
    "using Plots\n",
    "σ_to_plot = [0.0, 0.002]\n",
    "colors = [:red, :blue, :green, :orange, :purple]\n",
    "plt = plot(title=\"Maximum Bond Dimension of Ground State MPS\\nvs Number of Nodes \\n (averaged over $num_graphs_to_avg graphs)\",\n",
    "    xlabel=\"Number of Nodes (N)\",\n",
    "    ylabel=\"Maximum Bond Dimension\",\n",
    "    legend=:topright)\n",
    "\n",
    "for (i, σ) in enumerate(keys(data_gs_mps))\n",
    "    if !(σ in σ_to_plot)\n",
    "        continue\n",
    "    end\n",
    "    σ_data = data_gs_mps[σ]\n",
    "    N_vals = collect(keys(σ_data))\n",
    "    N_vals_sorted = sort(N_vals)\n",
    "    avg_bond_dims = [σ_data[N][1] for N in N_vals_sorted]\n",
    "    errors = [σ_data[N][2] for N in N_vals_sorted] # should be 0 for σ=0\n",
    "\n",
    "    plot!(plt, N_vals_sorted, avg_bond_dims,\n",
    "          yerror=errors,\n",
    "          label=\"σ = $σ\", \n",
    "          color=colors[i % length(colors) + 1],\n",
    "          marker=:circle,\n",
    "          markersize=3,\n",
    "          linewidth=2)\n",
    "end\n",
    "savefig(plt, \"../assets/graphs/bond_dim_req_vs_nodes_gs_mps_avg_$(num_graphs_to_avg).png\")\n",
    "display(plt)    "
   ]
  }
 ],
 "metadata": {
  "kernelspec": {
   "display_name": "Julia 1.11.7",
   "language": "julia",
   "name": "julia-1.11"
  },
  "language_info": {
   "file_extension": ".jl",
   "mimetype": "application/julia",
   "name": "julia",
   "version": "1.11.7"
  }
 },
 "nbformat": 4,
 "nbformat_minor": 5
}
