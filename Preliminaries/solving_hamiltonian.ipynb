{
 "cells": [
  {
   "cell_type": "markdown",
   "id": "08762f07",
   "metadata": {},
   "source": [
    "# Solving the Hamiltonian"
   ]
  },
  {
   "cell_type": "code",
   "execution_count": 8,
   "id": "8e147c64",
   "metadata": {},
   "outputs": [],
   "source": [
    "using LinearAlgebra"
   ]
  },
  {
   "cell_type": "code",
   "execution_count": 5,
   "id": "e2335548",
   "metadata": {},
   "outputs": [
    {
     "data": {
      "text/plain": [
       "4×4 Matrix{ComplexF64}:\n",
       " 0.804132+0.0im       0.235296+0.123578im  …  0.528974+0.244714im\n",
       " 0.235296-0.123578im  0.971987+0.0im           0.59018+0.162696im\n",
       " 0.610909-0.173746im  0.302354-0.114155im     0.167346+0.0734461im\n",
       " 0.528974-0.244714im   0.59018-0.162696im     0.768502+0.0im"
      ]
     },
     "metadata": {},
     "output_type": "display_data"
    }
   ],
   "source": [
    "# make the hamiltonian\n",
    "\n",
    "function random_hamiltonian(dim)\n",
    "    random_matrix = rand(dim, dim) + im * rand(dim, dim)\n",
    "    return (random_matrix + random_matrix') / 2  # Ensure the matrix is Herm\n",
    "end\n",
    "\n",
    "hamiltonian = random_hamiltonian(4)"
   ]
  },
  {
   "cell_type": "code",
   "execution_count": 7,
   "id": "bef88a8f",
   "metadata": {},
   "outputs": [
    {
     "name": "stdout",
     "output_type": "stream",
     "text": [
      "Eigenvalues: [-0.05971914298369409, 0.4867688850422934, 0.9000874155435482, 2.16278279236245]\n"
     ]
    }
   ],
   "source": [
    "function diagonalise(H)\n",
    "    return eigen(H).values\n",
    "end\n",
    "\n",
    "values = diagonalise(hamiltonian)\n",
    "println(\"Eigenvalues: \", values)"
   ]
  },
  {
   "cell_type": "markdown",
   "id": "7dfe6d5d",
   "metadata": {},
   "source": [
    "# Mathematical Background: The XYZ Hamiltonian\n",
    "\n",
    "## What is the XYZ Model?\n",
    "The XYZ Hamiltonian describes a chain of quantum spins with nearest-neighbor interactions:\n",
    "\n",
    "$$H = - \\frac{1}{2}\\sum_{i=1}^{N-1} \\left[ J_x \\sigma_i^x \\sigma_{i+1}^x + J_y \\sigma_i^y \\sigma_{i+1}^y + J_z \\sigma_i^z \\sigma_{i+1}^z \\right] - \\frac{1}{2} h \\sum_{i=1}^N \\sigma_i^z$$\n"
   ]
  },
  {
   "cell_type": "code",
   "execution_count": null,
   "id": "ac5ddc1a",
   "metadata": {},
   "outputs": [
    {
     "data": {
      "text/plain": [
       "build_xyz_hamiltonian (generic function with 5 methods)"
      ]
     },
     "metadata": {},
     "output_type": "display_data"
    }
   ],
   "source": [
    "function build_xyz_hamiltonian(N::Int, Jx=1.0, Jy=1.0, Jz=1.0, h=0.0)\n",
    "    \"\"\"\n",
    "    Build XYZ Hamiltonian.\n",
    "    \"\"\"\n",
    "    # Define Pauli matrices\n",
    "    sigma_x = [0 1; 1 0]\n",
    "    sigma_y = [0 -im; im 0]\n",
    "    sigma_z = [1 0; 0 -1]\n",
    "    I2 = [1 0; 0 1]\n",
    "\n",
    "    # Initialize Hamiltonian matrix\n",
    "    hamiltonian = zeros(ComplexF64, 2^N, 2^N)\n",
    "\n",
    "    # Add nearest-neighbor interaction terms\n",
    "    for i in 1:N\n",
    "        # Next neighbor with periodic boundary conditions\n",
    "        j = (i % N) + 1\n",
    "        \n",
    "        # Build σᵢˣσⱼˣ term\n",
    "        local_term_xx = 1\n",
    "        for site in 1:N\n",
    "            if site == i || site == j\n",
    "                local_term_xx = kron(local_term_xx, sigma_x)\n",
    "            else\n",
    "                local_term_xx = kron(local_term_xx, I2)\n",
    "            end\n",
    "        end\n",
    "        \n",
    "        # Build σᵢʸσⱼʸ term\n",
    "        local_term_yy = 1\n",
    "        for site in 1:N\n",
    "            if site == i || site == j\n",
    "                local_term_yy = kron(local_term_yy, sigma_y)\n",
    "            else\n",
    "                local_term_yy = kron(local_term_yy, I2)\n",
    "            end\n",
    "        end\n",
    "        \n",
    "        # Build σᵢᶻσⱼᶻ term\n",
    "        local_term_zz = 1\n",
    "        for site in 1:N\n",
    "            if site == i || site == j\n",
    "                local_term_zz = kron(local_term_zz, sigma_z)\n",
    "            else\n",
    "                local_term_zz = kron(local_term_zz, I2)\n",
    "            end\n",
    "        end\n",
    "        \n",
    "        # Add interaction terms (negative sign from Hamiltonian definition)\n",
    "        hamiltonian -= Jx * local_term_xx + Jy * local_term_yy + Jz * local_term_zz\n",
    "    end\n",
    "    \n",
    "    # Add magnetic field term: -h∑ᵢ σᵢᶻ\n",
    "    if h != 0.0\n",
    "        for i in 1:N\n",
    "            local_term_z = 1\n",
    "            for site in 1:N\n",
    "                if site == i\n",
    "                    local_term_z = kron(local_term_z, sigma_z)\n",
    "                else\n",
    "                    local_term_z = kron(local_term_z, I2)\n",
    "                end\n",
    "            end\n",
    "            hamiltonian -= h * local_term_z\n",
    "        end\n",
    "    end\n",
    "    \n",
    "    # Divide by 2 to avoid double counting (each bond counted twice in periodic BC)\n",
    "    return hamiltonian / 2\n",
    "end"
   ]
  },
  {
   "cell_type": "code",
   "execution_count": 15,
   "id": "c190922d",
   "metadata": {},
   "outputs": [
    {
     "name": "stdout",
     "output_type": "stream",
     "text": [
      "XYZ Hamiltonian for N=3:\n",
      "Size: (8, 8)\n",
      "Is Hermitian? true\n",
      "--------------------------------------------------\n",
      "Eigenvalues (real parts):\n",
      "E1 = -1.8\n",
      "E2 = -1.7\n",
      "E3 = -0.9\n",
      "E4 = -0.6\n",
      "E5 = 1.2\n",
      "E6 = 1.2\n",
      "E7 = 1.3\n",
      "E8 = 1.3\n",
      "\n",
      "Ground state energy: -1.7999999999999985\n",
      "Energy gap: 0.10000000000000009\n",
      "Size: (8, 8)\n",
      "Is Hermitian? true\n",
      "--------------------------------------------------\n",
      "Eigenvalues (real parts):\n",
      "E1 = -1.8\n",
      "E2 = -1.7\n",
      "E3 = -0.9\n",
      "E4 = -0.6\n",
      "E5 = 1.2\n",
      "E6 = 1.2\n",
      "E7 = 1.3\n",
      "E8 = 1.3\n",
      "\n",
      "Ground state energy: -1.7999999999999985\n",
      "Energy gap: 0.10000000000000009\n"
     ]
    }
   ],
   "source": [
    "N = 3\n",
    "Jx_val = 1.0\n",
    "Jy_val = 1.0\n",
    "Jz_val = 0.5\n",
    "h_val = 0.1\n",
    "\n",
    "# Build the Hamiltonian for the specified parameters\n",
    "hamiltonian_xyz = build_xyz_hamiltonian(N, Jx_val, Jy_val, Jz_val, h_val)\n",
    "\n",
    "println(\"XYZ Hamiltonian for N=$N:\")\n",
    "println(\"Size: \", size(hamiltonian_xyz))\n",
    "println(\"Is Hermitian? \", ishermitian(hamiltonian_xyz))\n",
    "println(\"-\"^50)\n",
    "\n",
    "# Diagonalize the Hamiltonian using the existing function\n",
    "eigenvalues = diagonalise(hamiltonian_xyz)\n",
    "\n",
    "# Print the eigenvalues\n",
    "println(\"Eigenvalues (real parts):\")\n",
    "for (i, val) in enumerate(real.(eigenvalues))\n",
    "    println(\"E$i = \", round(val, digits=6))\n",
    "end\n",
    "\n",
    "println(\"\\nGround state energy: \", minimum(real.(eigenvalues)))\n",
    "println(\"Energy gap: \", sort(real.(eigenvalues))[2] - minimum(real.(eigenvalues)))"
   ]
  }
 ],
 "metadata": {
  "kernelspec": {
   "display_name": "Julia 1.11.7",
   "language": "julia",
   "name": "julia-1.11"
  },
  "language_info": {
   "file_extension": ".jl",
   "mimetype": "application/julia",
   "name": "julia",
   "version": "1.11.7"
  }
 },
 "nbformat": 4,
 "nbformat_minor": 5
}
