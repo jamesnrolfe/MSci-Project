{
 "cells": [
  {
   "cell_type": "markdown",
   "id": "3ef1250d",
   "metadata": {},
   "source": [
    "# Solving the Hamiltonian in different Ways\n",
    "\n"
   ]
  },
  {
   "cell_type": "markdown",
   "id": "d0cf2d64",
   "metadata": {},
   "source": [
    "## Generating an XXZ Hamiltonian\n",
    "\n",
    "### What is the XXZ Hamiltonian?\n",
    "\n",
    "We first must generate some XXZ Hamiltonian. This describes the total energy of all of the 'spin-arrows'. \n",
    "\n",
    "- The XX part describes the tendency of neighbouring spins to align in the horizontal (x) and vertical (y) directions. This interaction is isotropic.\n",
    "- THE Z part describes the interaction strength between spins in the \"up/down\" (z) direction.\n",
    "\n",
    "The whole Hamiltonian is\n",
    "\n",
    "$$H = J \\sum_{i=1}^{L-1} (S_i^xS^x_{i+1} + S^y_iS^y_{i+1} + \\Delta S^z_i S^z_{i+1})$$\n",
    "\n",
    "- $J$ is the **coupling constant**. If $J>0$ then neighbouring spins like to point in opposite directions (antiferromagnetic). If $J<0$ then neighbouring spins like to point in the same direction (ferromagnetic). \n",
    "- The sum means that we sum over all adjacent pairs of sites, from site 1 and 2, up to site $L-1$ and $L$. This describes an \"open chain\". \n",
    "- $S^x_i$ is the component of spin in the $x$-direction at site $i$, and so on.\n",
    "- $\\Delta$ is the **anisotropy parameter**, which tunes the strength of the $z$ interaction.\n",
    "\n",
    "For a spin-1/2 system, the spin operators are represented by the Pauli matrices i.e.\n",
    "\n",
    "$$S^x = \\frac{1}{2} \\begin{pmatrix}0 & 1 \\\\ 1 & 0 \\end{pmatrix}, \\quad S^y = \\frac{1}{2} \\begin{pmatrix}0 & -i \\\\ i & 0 \\end{pmatrix}, \\quad S^z = \\frac{1}{2} \\begin{pmatrix}1 & 0 \\\\ 0 & 1 \\end{pmatrix}$$\n",
    "\n",
    "### Building the full Hamiltonian\n",
    "\n",
    "The real challenge is constructing the Hamiltonian for $L$ spins - the total system size is $2^L \\times 2^L$ which grows fast with $L$. \n",
    "\n",
    "To get an operator that acts only on site $i$, we need the tensor product. For example, the operator $S^z_i$ for a 3-spin ($L=3$) chain is \n",
    "\n",
    "$$S^z_1 = S^z \\otimes I \\otimes I, \\quad S^z_2 = I \\otimes S^z \\otimes I, \\quad S^z_3 = I \\otimes I \\otimes S^z \\\\$$"
   ]
  },
  {
   "cell_type": "code",
   "execution_count": 8,
   "id": "7eaa5186",
   "metadata": {},
   "outputs": [
    {
     "data": {
      "text/plain": [
       "get_xxz_hamiltonian (generic function with 1 method)"
      ]
     },
     "metadata": {},
     "output_type": "display_data"
    }
   ],
   "source": [
    "using LinearAlgebra\n",
    "\n",
    "function get_xxz_hamiltonian(L::Int, J::Float64, Δ::Float64)\n",
    "    \"\"\"\n",
    "    Constructs the Hamiltonian for the XXZ spin chain model with L sites, coupling constant J, and anisotropy parameter Δ.\n",
    "    \"\"\"\n",
    "    dim = 2^L\n",
    "\n",
    "    # define the pauli matrices we need\n",
    "    sx = [0.0 1.0; 1.0 0.0] # pauli X\n",
    "    sy = [0.0 -im; im 0.0] # pauli Y\n",
    "    sz = [1.0 0.0; 0.0 -1.0] # pauli Z\n",
    "    id = I(2) # 2D identity from LinearAlgebra\n",
    "\n",
    "    # init as a zero matrix\n",
    "    H = zeros(ComplexF64, dim, dim)\n",
    "\n",
    "    # now we can construct the hamiltonian (i.e. fill it with the right values)\n",
    "    # loop over all the sites 0 to L-1\n",
    "    for i in 1:L-1\n",
    "        j = i + 1 # j is the adjacent site to i (to the right)\n",
    "\n",
    "        # we need to construct the full terms for each interaction\n",
    "        term_xx = 1.0\n",
    "        term_yy = 1.0\n",
    "        term_zz = 1.0\n",
    "\n",
    "        for site in 1:L\n",
    "            if site == i\n",
    "                # if we are on the ith site, we want to add the sx, sy, sz terms\n",
    "                term_xx = kron(term_xx, sx)\n",
    "                term_yy = kron(term_yy, sy)\n",
    "                term_zz = kron(term_zz, sz)\n",
    "            elseif site == j \n",
    "                # if we are on the jth site, we want to add the sx, sy, sz terms\n",
    "                term_xx = kron(term_xx, sx)\n",
    "                term_yy = kron(term_yy, sy)\n",
    "                term_zz = kron(term_zz, sz)\n",
    "            else\n",
    "                # otherwise we add the identity\n",
    "                term_xx = kron(term_xx, id)\n",
    "                term_yy = kron(term_yy, id)\n",
    "                term_zz = kron(term_zz, id)\n",
    "            end\n",
    "        end\n",
    "\n",
    "        # now we can add these terms to the hamiltonian\n",
    "        H += J * term_xx + J * term_yy + Δ * term_zz\n",
    "    end\n",
    "\n",
    "    return H\n",
    "end\n"
   ]
  },
  {
   "cell_type": "markdown",
   "id": "3d825df8",
   "metadata": {},
   "source": [
    "#### Note - what does `kron` do?\n",
    "`kron(a,b)` computes the Kroenecker product of two vectors/matrices/numbers. "
   ]
  },
  {
   "cell_type": "code",
   "execution_count": 17,
   "id": "1a3e5313",
   "metadata": {},
   "outputs": [
    {
     "data": {
      "text/plain": [
       "16×16 Matrix{Float64}:\n",
       " 4.5  0.0   0.0  0.0   0.0   0.0   0.0  …   0.0   0.0  0.0   0.0  0.0  0.0\n",
       " 0.0  1.5   2.0  0.0   0.0   0.0   0.0      0.0   0.0  0.0   0.0  0.0  0.0\n",
       " 0.0  2.0  -1.5  0.0   2.0   0.0   0.0      0.0   0.0  0.0   0.0  0.0  0.0\n",
       " 0.0  0.0   0.0  1.5   0.0   2.0   0.0      0.0   0.0  0.0   0.0  0.0  0.0\n",
       " 0.0  0.0   2.0  0.0  -1.5   0.0   0.0      0.0   0.0  0.0   0.0  0.0  0.0\n",
       " 0.0  0.0   0.0  2.0   0.0  -4.5   2.0  …   0.0   0.0  0.0   0.0  0.0  0.0\n",
       " 0.0  0.0   0.0  0.0   0.0   2.0  -1.5      2.0   0.0  0.0   0.0  0.0  0.0\n",
       " 0.0  0.0   0.0  0.0   0.0   0.0   0.0      0.0   2.0  0.0   0.0  0.0  0.0\n",
       " 0.0  0.0   0.0  0.0   2.0   0.0   0.0      0.0   0.0  0.0   0.0  0.0  0.0\n",
       " 0.0  0.0   0.0  0.0   0.0   2.0   0.0      2.0   0.0  0.0   0.0  0.0  0.0\n",
       " 0.0  0.0   0.0  0.0   0.0   0.0   2.0  …  -4.5   0.0  2.0   0.0  0.0  0.0\n",
       " 0.0  0.0   0.0  0.0   0.0   0.0   0.0      0.0  -1.5  0.0   2.0  0.0  0.0\n",
       " 0.0  0.0   0.0  0.0   0.0   0.0   0.0      2.0   0.0  1.5   0.0  0.0  0.0\n",
       " 0.0  0.0   0.0  0.0   0.0   0.0   0.0      0.0   2.0  0.0  -1.5  2.0  0.0\n",
       " 0.0  0.0   0.0  0.0   0.0   0.0   0.0      0.0   0.0  0.0   2.0  1.5  0.0\n",
       " 0.0  0.0   0.0  0.0   0.0   0.0   0.0  …   0.0   0.0  0.0   0.0  0.0  4.5"
      ]
     },
     "metadata": {},
     "output_type": "display_data"
    },
    {
     "data": {
      "text/plain": [
       "16-element Vector{Float64}:\n",
       " -7.574673582515121\n",
       " -5.105551275463986\n",
       " -4.201562118716412\n",
       " -4.2015621187164065\n",
       " -1.4999999999999916\n",
       " -1.0615528128088285\n",
       " -1.0615528128088196\n",
       "  0.38679098625037467\n",
       "  2.1055512754639887\n",
       "  2.201562118716424\n",
       "  2.201562118716426\n",
       "  2.687882596264753\n",
       "  3.0615528128088303\n",
       "  3.0615528128088303\n",
       "  4.5\n",
       "  4.5"
      ]
     },
     "metadata": {},
     "output_type": "display_data"
    },
    {
     "name": "stdout",
     "output_type": "stream",
     "text": [
      "Ground state energy: -7.574673582515121\n",
      "\n"
     ]
    }
   ],
   "source": [
    "\n",
    "test_hamiltonian = get_xxz_hamiltonian(4, 1.0, 1.5)\n",
    "display(real(test_hamiltonian))\n",
    "eigens = eigen(test_hamiltonian)\n",
    "eigenvalues = eigens.values\n",
    "display(eigenvalues)\n",
    "ground_state = minimum(eigenvalues)\n",
    "println(\"Ground state energy: $ground_state\\n\")"
   ]
  },
  {
   "cell_type": "markdown",
   "id": "a74c5232",
   "metadata": {},
   "source": [
    "### Issues with this\n",
    "\n",
    "This is very slow... For $L=100$, the number of states is larger than the number of atoms in the universe, which cannot be stored on any computer."
   ]
  },
  {
   "cell_type": "markdown",
   "id": "ce7dec41",
   "metadata": {},
   "source": [
    "## Density Matrix Renormalization Group (DMRG)\n",
    "\n",
    "The core idea behind DMRG is to focus only on what's important, and forget everything else. But what does imporatant actually mean?\n",
    "\n",
    "We use a **density matrix**, which tells us how strongly one part of the system is entangled with another. By analysing the density matrix, DMRG can make a very intelligent decision about which states to discard. \n",
    "\n",
    "### How it works\n",
    "\n",
    "DMRG builds a spin chain iteratively, growing the system and refining its description at each step. "
   ]
  },
  {
   "cell_type": "code",
   "execution_count": 60,
   "id": "46cf951f",
   "metadata": {},
   "outputs": [
    {
     "data": {
      "text/plain": [
       "create_MPS (generic function with 1 method)"
      ]
     },
     "metadata": {},
     "output_type": "display_data"
    }
   ],
   "source": [
    "# first we need a function to generate a MPS representation of the ground state\n",
    "using ITensors \n",
    "using ITensorMPS\n",
    "\n",
    "function create_MPS(L::Int, Χ::Int)\n",
    "    \"\"\"Create a random MPS for a spin-1/2 chain of length L with bond dimension Χ.\"\"\"\n",
    "    # create a site set for a spin-1/2 chain\n",
    "    sites = siteinds(\"S=1/2\", L; conserve_qns=true) # conserve total Sz\n",
    "\n",
    "    # create a random MPS with bond dimension Χ\n",
    "    state = [isodd(i) ? \"Up\" : \"Dn\" for i in 1:L] # generic ground state\n",
    "    ψ0 = randomMPS(sites, state, Χ)\n",
    "    return ψ0, sites\n",
    "end"
   ]
  },
  {
   "cell_type": "code",
   "execution_count": 64,
   "id": "623b3915",
   "metadata": {},
   "outputs": [
    {
     "data": {
      "text/plain": [
       "get_xxz_hamiltonian_itensor (generic function with 1 method)"
      ]
     },
     "metadata": {},
     "output_type": "display_data"
    }
   ],
   "source": [
    "function get_xxz_hamiltonian_itensor(sites, J::Float64, Δ::Float64)\n",
    "    \"\"\"\n",
    "    Constructs the Hamiltonian for the XXZ spin chain model using ITensors.jl with given sites, coupling constant J, and anisotropy parameter Δ.\n",
    "    \"\"\"\n",
    "    L = length(sites)\n",
    "    ampo = AutoMPO()\n",
    "\n",
    "    for i in 1:L-1\n",
    "        j = i + 1\n",
    "        add!(ampo, J, \"Sx\", i, \"Sx\", j)\n",
    "        add!(ampo, J, \"Sy\", i, \"Sy\", j)\n",
    "        add!(ampo, Δ, \"Sz\", i, \"Sz\", j)\n",
    "    end\n",
    "\n",
    "    H = MPO(ampo, sites)\n",
    "    return H\n",
    "end"
   ]
  },
  {
   "cell_type": "code",
   "execution_count": null,
   "id": "85956755",
   "metadata": {},
   "outputs": [
    {
     "name": "stderr",
     "output_type": "stream",
     "text": [
      "┌ Warning: MPS center bond dimension is less than requested (you requested 10, but in practice it is 4. This is likely due to technicalities of truncating quantum number sectors.\n",
      "└ @ ITensorMPS /Users/jamesneville-rolfe/.julia/packages/ITensorMPS/AQY99/src/mps.jl:153\n"
     ]
    },
    {
     "ename": "ErrorException",
     "evalue": "Fluxes not all equal",
     "output_type": "error",
     "traceback": [
      "Fluxes not all equal\n",
      "\n",
      "Stacktrace:\n",
      "  [1] error(s::String)\n",
      "    @ Base ./error.jl:35\n",
      "  [2] checkflux\n",
      "    @ ~/.julia/packages/ITensors/Xs85I/src/qn/flux.jl:75 [inlined]\n",
      "  [3] ITensor(::NDTensors.AllowAlias, elt::Type{Float64}, A::Matrix{Float64}, inds::Tuple{Index{Vector{Pair{QN, Int64}}}, Index{Vector{Pair{QN, Int64}}}}; tol::Float64, checkflux::Bool)\n",
      "    @ ITensors ~/.julia/packages/ITensors/Xs85I/src/qn/qnitensor.jl:334\n",
      "  [4] ITensor(::NDTensors.AllowAlias, elt::Type{Float64}, A::Matrix{Float64}, inds::Tuple{Index{Vector{Pair{QN, Int64}}}, Index{Vector{Pair{QN, Int64}}}})\n",
      "    @ ITensors ~/.julia/packages/ITensors/Xs85I/src/qn/qnitensor.jl:315\n",
      "  [5] ITensor(::NDTensors.AllowAlias, ::Matrix{Float64}, ::Index{Vector{Pair{QN, Int64}}}, ::Vararg{Index{Vector{Pair{QN, Int64}}}}; kwargs::@Kwargs{})\n",
      "    @ ITensors ~/.julia/packages/ITensors/Xs85I/src/itensor.jl:417\n",
      "  [6] ITensor(::NDTensors.AllowAlias, ::Matrix{Float64}, ::Index{Vector{Pair{QN, Int64}}}, ::Vararg{Index{Vector{Pair{QN, Int64}}}})\n",
      "    @ ITensors ~/.julia/packages/ITensors/Xs85I/src/itensor.jl:414\n",
      "  [7] itensor(::Matrix{Float64}, ::Vararg{Any}; kwargs::@Kwargs{})\n",
      "    @ ITensors ~/.julia/packages/ITensors/Xs85I/src/itensor.jl:139\n",
      "  [8] op(name::String, s::Index{Vector{Pair{QN, Int64}}}; adjoint::Bool, kwargs::@Kwargs{})\n",
      "    @ ITensors.SiteTypes ~/.julia/packages/ITensors/Xs85I/src/lib/SiteTypes/src/sitetype.jl:330\n",
      "  [9] op\n",
      "    @ ~/.julia/packages/ITensors/Xs85I/src/lib/SiteTypes/src/sitetype.jl:236 [inlined]\n",
      " [10] op(s::Index{Vector{Pair{QN, Int64}}}, opname::String)\n",
      "    @ ITensors.SiteTypes ~/.julia/packages/ITensors/Xs85I/src/lib/SiteTypes/src/sitetype.jl:449\n",
      " [11] (::ITensorMPS.var\"#calcQN#553\"{Vector{Index{Vector{Pair{QN, Int64}}}}, Dict{Pair{String, Int64}, ITensor}})(term::Vector{Op})\n",
      "    @ ITensorMPS ~/.julia/packages/ITensorMPS/AQY99/src/opsum_to_mpo/opsum_to_mpo_qn.jl:27\n",
      " [12] qn_svdMPO(ValType::Type{Float64}, os::Sum{Scaled{ComplexF64, Prod{Op}}}, sites::Vector{Index{Vector{Pair{QN, Int64}}}}; mindim::Int64, maxdim::Int64, cutoff::Float64)\n",
      "    @ ITensorMPS ~/.julia/packages/ITensorMPS/AQY99/src/opsum_to_mpo/opsum_to_mpo_qn.jl:35\n",
      " [13] qn_svdMPO\n",
      "    @ ~/.julia/packages/ITensorMPS/AQY99/src/opsum_to_mpo/opsum_to_mpo_qn.jl:5 [inlined]\n",
      " [14] #qn_svdMPO#564\n",
      "    @ ~/.julia/packages/ITensorMPS/AQY99/src/opsum_to_mpo/opsum_to_mpo_qn.jl:260 [inlined]\n",
      " [15] qn_svdMPO\n",
      "    @ ~/.julia/packages/ITensorMPS/AQY99/src/opsum_to_mpo/opsum_to_mpo_qn.jl:257 [inlined]\n",
      " [16] MPO(os::Sum{Scaled{ComplexF64, Prod{Op}}}, sites::Vector{Index{Vector{Pair{QN, Int64}}}}; splitblocks::Bool, kwargs::@Kwargs{})\n",
      "    @ ITensorMPS ~/.julia/packages/ITensorMPS/AQY99/src/opsum_to_mpo/opsum_to_mpo_generic.jl:298\n",
      " [17] MPO\n",
      "    @ ~/.julia/packages/ITensorMPS/AQY99/src/opsum_to_mpo/opsum_to_mpo_generic.jl:290 [inlined]\n",
      " [18] get_xxz_hamiltonian_itensor(sites::Vector{Index{Vector{Pair{QN, Int64}}}}, J::Float64, Δ::Float64)\n",
      "    @ Main ~/Library/CloudStorage/GoogleDrive-james.nevillerolfe@gmail.com/My Drive/Documents/University/fourth_year/MSci-Project/Preliminaries/jl_notebook_cell_df34fa98e69747e1a8f8a730347b8e2f_X20sZmlsZQ==.jl:15\n",
      " [19] top-level scope\n",
      "    @ ~/Library/CloudStorage/GoogleDrive-james.nevillerolfe@gmail.com/My Drive/Documents/University/fourth_year/MSci-Project/Preliminaries/jl_notebook_cell_df34fa98e69747e1a8f8a730347b8e2f_X14sZmlsZQ==.jl:13"
     ]
    }
   ],
   "source": [
    "# parameters\n",
    "L = 4 # length of the spin chain\n",
    "Χ = 10 # bond dimension\n",
    "J = 1.0 # coupling constant\n",
    "Δ = 1.5 # anisotropy parameter\n",
    "\n",
    "# DMRG parameters\n",
    "sweeps = Sweeps(15)\n",
    "setmaxdim!(sweeps,χ)\n",
    "setcutoff!(sweeps, 1E-14)\n",
    "\n",
    "ψ0, sites = create_MPS(L, Χ)\n",
    "H = get_xxz_hamiltonian_itensor(sites, J, Δ)\n",
    "E, ψ = dmrg(H, ψ0; sweeps=sweeps)\n",
    "println(\"Ground state energy from DMRG: $E\")"
   ]
  },
  {
   "cell_type": "code",
   "execution_count": 59,
   "id": "9f506bd9",
   "metadata": {},
   "outputs": [
    {
     "ename": "ErrorException",
     "evalue": "Attempting to contract IndexSet:\n\n((dim=2|id=150|\"S=1/2,Site,n=1\") <In>\n 1: QN(\"Sz\",1) => 1\n 2: QN(\"Sz\",-1) => 1, (dim=2|id=889|\"Link,l=1\") <In>\n 1: QN(\"Sz\",1) => 1\n 2: QN(\"Sz\",-1) => 1)\n\nwith IndexSet:\n\n((dim=2|id=150|\"S=1/2,Site,n=1\")' <Out>\n 1: QN(\"Sz\",1) => 1\n 2: QN(\"Sz\",-1) => 1, (dim=2|id=150|\"S=1/2,Site,n=1\") <In>\n 1: QN(\"Sz\",1) => 1\n 2: QN(\"Sz\",-1) => 1)\n\nQN indices must have opposite direction to contract, but indices:\n\n(dim=2|id=150|\"S=1/2,Site,n=1\") <In>\n 1: QN(\"Sz\",1) => 1\n 2: QN(\"Sz\",-1) => 1\n\nand:\n\n(dim=2|id=150|\"S=1/2,Site,n=1\") <In>\n 1: QN(\"Sz\",1) => 1\n 2: QN(\"Sz\",-1) => 1\n\ndo not have opposite directions.",
     "output_type": "error",
     "traceback": [
      "Attempting to contract IndexSet:\n",
      "\n",
      "((dim=2|id=150|\"S=1/2,Site,n=1\") <In>\n",
      " 1: QN(\"Sz\",1) => 1\n",
      " 2: QN(\"Sz\",-1) => 1, (dim=2|id=889|\"Link,l=1\") <In>\n",
      " 1: QN(\"Sz\",1) => 1\n",
      " 2: QN(\"Sz\",-1) => 1)\n",
      "\n",
      "with IndexSet:\n",
      "\n",
      "((dim=2|id=150|\"S=1/2,Site,n=1\")' <Out>\n",
      " 1: QN(\"Sz\",1) => 1\n",
      " 2: QN(\"Sz\",-1) => 1, (dim=2|id=150|\"S=1/2,Site,n=1\") <In>\n",
      " 1: QN(\"Sz\",1) => 1\n",
      " 2: QN(\"Sz\",-1) => 1)\n",
      "\n",
      "QN indices must have opposite direction to contract, but indices:\n",
      "\n",
      "(dim=2|id=150|\"S=1/2,Site,n=1\") <In>\n",
      " 1: QN(\"Sz\",1) => 1\n",
      " 2: QN(\"Sz\",-1) => 1\n",
      "\n",
      "and:\n",
      "\n",
      "(dim=2|id=150|\"S=1/2,Site,n=1\") <In>\n",
      " 1: QN(\"Sz\",1) => 1\n",
      " 2: QN(\"Sz\",-1) => 1\n",
      "\n",
      "do not have opposite directions.\n",
      "\n",
      "Stacktrace:\n",
      "  [1] error(s::String)\n",
      "    @ Base ./error.jl:35\n",
      "  [2] compute_contraction_labels(Ais::Tuple{Index{Vector{Pair{QN, Int64}}}, Index{Vector{Pair{QN, Int64}}}}, Bis::Tuple{Index{Vector{Pair{QN, Int64}}}, Index{Vector{Pair{QN, Int64}}}})\n",
      "    @ ITensors ~/.julia/packages/ITensors/Xs85I/src/indexset.jl:681\n",
      "  [3] _contract(A::NDTensors.BlockSparseTensor{Float64, 2, Tuple{Index{Vector{Pair{QN, Int64}}}, Index{Vector{Pair{QN, Int64}}}}, NDTensors.BlockSparse{Float64, Vector{Float64}, 2}}, B::NDTensors.BlockSparseTensor{Float64, 2, Tuple{Index{Vector{Pair{QN, Int64}}}, Index{Vector{Pair{QN, Int64}}}}, NDTensors.BlockSparse{Float64, Vector{Float64}, 2}})\n",
      "    @ ITensors ~/.julia/packages/ITensors/Xs85I/src/tensor_operations/tensor_algebra.jl:2\n",
      "  [4] _contract(A::ITensor, B::ITensor)\n",
      "    @ ITensors ~/.julia/packages/ITensors/Xs85I/src/tensor_operations/tensor_algebra.jl:9\n",
      "  [5] contract(A::ITensor, B::ITensor)\n",
      "    @ ITensors ~/.julia/packages/ITensors/Xs85I/src/tensor_operations/tensor_algebra.jl:74\n",
      "  [6] #214\n",
      "    @ ~/.julia/packages/ITensors/Xs85I/src/tensor_operations/tensor_algebra.jl:123 [inlined]\n",
      "  [7] BottomRF\n",
      "    @ ./reduce.jl:86 [inlined]\n",
      "  [8] afoldl\n",
      "    @ ./operators.jl:554 [inlined]\n",
      "  [9] _foldl_impl\n",
      "    @ ./reduce.jl:68 [inlined]\n",
      " [10] foldl_impl\n",
      "    @ ./reduce.jl:48 [inlined]\n",
      " [11] mapfoldl_impl\n",
      "    @ ./reduce.jl:44 [inlined]\n",
      " [12] mapfoldl\n",
      "    @ ./reduce.jl:175 [inlined]\n",
      " [13] foldl\n",
      "    @ ./reduce.jl:198 [inlined]\n",
      " [14] #contract#213\n",
      "    @ ~/.julia/packages/ITensors/Xs85I/src/tensor_operations/tensor_algebra.jl:123 [inlined]\n",
      " [15] contract\n",
      "    @ ~/.julia/packages/ITensors/Xs85I/src/tensor_operations/tensor_algebra.jl:119 [inlined]\n",
      " [16] contract\n",
      "    @ ~/.julia/packages/ITensors/Xs85I/src/tensor_operations/tensor_algebra.jl:148 [inlined]\n",
      " [17] *\n",
      "    @ ~/.julia/packages/ITensors/Xs85I/src/tensor_operations/tensor_algebra.jl:158 [inlined]\n",
      " [18] plot_magnetization_manual(ψ::MPS, sites::Vector{Index{Vector{Pair{QN, Int64}}}})\n",
      "    @ Main ~/Library/CloudStorage/GoogleDrive-james.nevillerolfe@gmail.com/My Drive/Documents/University/fourth_year/MSci-Project/Preliminaries/jl_notebook_cell_df34fa98e69747e1a8f8a730347b8e2f_X16sZmlsZQ==.jl:12\n",
      " [19] top-level scope\n",
      "    @ ~/Library/CloudStorage/GoogleDrive-james.nevillerolfe@gmail.com/My Drive/Documents/University/fourth_year/MSci-Project/Preliminaries/jl_notebook_cell_df34fa98e69747e1a8f8a730347b8e2f_X16sZmlsZQ==.jl:24"
     ]
    }
   ],
   "source": [
    "using Plots\n",
    "using ITensors\n",
    "\n",
    "function plot_magnetization_manual(ψ, sites)\n",
    "    L = length(sites)\n",
    "    mag_z = Float64[]\n",
    "    \n",
    "    for i in 1:L\n",
    "        # Method 1: Create Sz operator and compute <ψ|Sz_i|ψ>\n",
    "        orthogonalize!(ψ, i)  # Orthogonalize MPS at site i\n",
    "        sz_op = op(\"Sz\", sites[i])  # Create Sz operator for site i\n",
    "        mag_i = real(scalar(dag(ψ[i]) * sz_op * ψ[i]))\n",
    "        push!(mag_z, mag_i)\n",
    "    end\n",
    "    \n",
    "    plot(1:L, mag_z, \n",
    "         marker=:circle, \n",
    "         title=\"Local Magnetization ⟨Sz⟩ (Manual)\",\n",
    "         xlabel=\"Site\", \n",
    "         ylabel=\"⟨Sz⟩\",\n",
    "         legend=false)\n",
    "end\n",
    "\n",
    "plot_magnetization_manual(ψ0, sites)"
   ]
  }
 ],
 "metadata": {
  "kernelspec": {
   "display_name": "Julia 1.11.7",
   "language": "julia",
   "name": "julia-1.11"
  },
  "language_info": {
   "file_extension": ".jl",
   "mimetype": "application/julia",
   "name": "julia",
   "version": "1.11.7"
  }
 },
 "nbformat": 4,
 "nbformat_minor": 5
}
